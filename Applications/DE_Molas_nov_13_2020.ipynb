{
  "nbformat": 4,
  "nbformat_minor": 0,
  "metadata": {
    "colab": {
      "name": "DE_Molas_nov_13_2020.ipynb",
      "provenance": [],
      "collapsed_sections": [],
      "include_colab_link": true
    },
    "kernelspec": {
      "name": "python3",
      "display_name": "Python 3"
    }
  },
  "cells": [
    {
      "cell_type": "markdown",
      "metadata": {
        "id": "view-in-github",
        "colab_type": "text"
      },
      "source": [
        "<a href=\"https://colab.research.google.com/github/ucfilho/Raianars_Thesis/blob/main/Applications/DE_Molas_nov_13_2020.ipynb\" target=\"_parent\"><img src=\"https://colab.research.google.com/assets/colab-badge.svg\" alt=\"Open In Colab\"/></a>"
      ]
    },
    {
      "cell_type": "code",
      "metadata": {
        "id": "VNDZTKWUBOge",
        "outputId": "afdfab7d-7f3f-4f36-ec59-abc1fc949d17",
        "colab": {
          "base_uri": "https://localhost:8080/"
        }
      },
      "source": [
        "############################### Importar códigos\n",
        "\n",
        "!git clone https://github.com/ucfilho/optim_raianars/ #clonar do Github"
      ],
      "execution_count": 1,
      "outputs": [
        {
          "output_type": "stream",
          "text": [
            "Cloning into 'optim_raianars'...\n",
            "remote: Enumerating objects: 86, done.\u001b[K\n",
            "remote: Counting objects: 100% (86/86), done.\u001b[K\n",
            "remote: Compressing objects: 100% (86/86), done.\u001b[K\n",
            "remote: Total 507 (delta 44), reused 0 (delta 0), pack-reused 421\u001b[K\n",
            "Receiving objects: 100% (507/507), 508.85 KiB | 647.00 KiB/s, done.\n",
            "Resolving deltas: 100% (276/276), done.\n"
          ],
          "name": "stdout"
        }
      ]
    },
    {
      "cell_type": "code",
      "metadata": {
        "id": "btZL0H3XBPx-",
        "outputId": "d26780c0-60bb-4d80-ffb6-73c20e217afd",
        "colab": {
          "base_uri": "https://localhost:8080/"
        }
      },
      "source": [
        "%cd optim_raianars\n",
        "#!ls"
      ],
      "execution_count": 2,
      "outputs": [
        {
          "output_type": "stream",
          "text": [
            "/content/optim_raianars\n"
          ],
          "name": "stdout"
        }
      ]
    },
    {
      "cell_type": "code",
      "metadata": {
        "id": "v1OxgXboBKoG"
      },
      "source": [
        "############################### Importar bibliotecas e iniciar a contagem do tempo\n",
        "import time\n",
        "import matplotlib.pyplot as plt\n",
        "import numpy as np\n",
        "from random import randint\n",
        "from scipy import optimize\n",
        "############################### Importar códigos\n",
        "'''\n",
        "!git clone https://github.com/RaianaSeixas/GERENCIADOR.git #clonar do Github\n",
        "\n",
        "# %cd\n",
        "# %cd /content/GERENCIADOR\n",
        "!ls\n",
        "'''\n",
        "############################### DADOS DE ENTRADA \n",
        "#'''\n",
        "mut=0.5\n",
        "crossp=0.5\n",
        "#'''\n",
        "'''\n",
        "##### Otimização (0,1)\n",
        "mut=0.5\n",
        "crossp=0.5\n",
        "'''\n",
        "'''\n",
        "##### Multimodal Separável\n",
        "mut=0.75\n",
        "crossp=0.25\n",
        "'''\n",
        "'''\n",
        "##### Multimodal Não Separável\n",
        "mut=0.75\n",
        "crossp=0.75\n",
        "'''\n",
        "'''\n",
        "##### Unimodal Separável\n",
        "mut=0.25\n",
        "crossp=0.25\n",
        "'''\n",
        "'''\n",
        "##### Unimodal Não Separável\n",
        "mut=0.25\n",
        "crossp=0.75\n",
        "'''\n",
        "  ############################### Função\n",
        "import Function\n",
        "\n",
        "#'''\n",
        "Fun=Function.Rosenbrock\n",
        "dim=2\n",
        "MAX=np.repeat(10,dim)\n",
        "MIN=np.repeat(-10,dim)\n",
        "  #Global optimum: f(xi)= 0\n",
        "#'''\n",
        "'''\n",
        "dim=10\n",
        "Fun=Function.Sphere\n",
        "MAX=np.repeat(5.12,dim)\n",
        "MIN=np.repeat(-5.12,dim)\n",
        "  # f(x)=0 x=(0,0) [-5.12,5.12]\n",
        "'''\n",
        "'''\n",
        "dim=10\n",
        "Fun=Function.Schwefel\n",
        "MAX=np.repeat(500,dim)\n",
        "MIN=np.repeat(-500,dim)\n",
        "  #Global optimum: f(xi)= 0 for xi = 420.968746 for i=1,...,n  ;  xi in [-500,500]  \n",
        "'''\n",
        "'''\n",
        "dim=30\n",
        "Fun=Function.Rastrigin\n",
        "MAX=np.repeat(5.12,dim)\n",
        "MIN=np.repeat(-5.12,dim)\n",
        "  # f(x)=0 x=(0,0) [-5.12,5.12]\n",
        "'''\n",
        "'''\n",
        "dim=10\n",
        "Fun=Function.Sum_of_different_powers\n",
        "MAX=np.repeat(1,dim)\n",
        "MIN=np.repeat(-1,dim)\n",
        "  # f(x)=0 x=(0,0)\n",
        "'''\n",
        "'''  \n",
        "dim=10\n",
        "Fun=Function.Ackley\n",
        "MAX=np.repeat(32,dim)\n",
        "MIN=np.repeat(-32,dim)\n",
        " # f(x)=0 x=(0,0) [-32, 32]\n",
        "'''\n",
        "'''  \n",
        "dim=10\n",
        "Fun=Function.Michalewicz\n",
        "MAX=np.repeat(np.pi,dim)\n",
        "MIN=np.repeat(0,dim)\n",
        " #fx=-9.66015 p/ d=10 [0,pi]\n",
        "'''\n",
        "'''\n",
        "dim=10\n",
        "Fun=Function.Styblinskitank\n",
        "MAX=np.repeat(5,dim)\n",
        "MIN=np.repeat(-5,dim)\n",
        "  #fx= −39.16599∗n at x=(−2.903534,…,−2.903534) \n",
        "'''\n",
        "'''  \n",
        "dim=10\n",
        "Fun=Function.Zakharov\n",
        "MAX=np.repeat(10,dim)\n",
        "MIN=np.repeat(-5,dim)\n",
        " #fx=\n",
        "'''\n",
        "'''  \n",
        "dim=10\n",
        "Fun=Function.ridge\n",
        "MAX=np.repeat(2,dim)\n",
        "MIN=np.repeat(-2,dim)\n",
        " #fx=\n",
        "'''\n",
        "'''  \n",
        "dim=10\n",
        "Fun=Function.HappyCat\n",
        "MAX=np.repeat(5,dim)\n",
        "MIN=np.repeat(-5,dim)\n",
        " #fx=\n",
        "'''\n",
        "#####################################\n",
        "PAR=len(MAX) #NUM DE PARAMETROS A SER OTIMIZADOS\n",
        "\n",
        "##################################### IMPORTAR MÓDULOS\n",
        "\n",
        "import de_rotina_ago_29_2019\n",
        "\n",
        "NMAX=500 # maximo tamanho gerar populacao\n",
        "#PARTIC=np.zeros(ITE)\n",
        "SOMA=0\n",
        "\n",
        "its=1 # quantas vezes vai usar o NPAR antes de alterar de novo\n",
        "ITE=1000 # PONTOS quantas vezes vai alteral NPAR\n",
        "\n",
        "NPAR=100\n",
        "#TOTAL=10*dim*its*ITE\n",
        "TOTAL=NPAR*its*ITE\n"
      ],
      "execution_count": 3,
      "outputs": []
    },
    {
      "cell_type": "code",
      "metadata": {
        "id": "XfOJ0KMnn6MQ"
      },
      "source": [
        "'''Mola Function'''\n",
        "def Solve_Mola(x):\n",
        "  g1=1-(x[1]**3*x[2])/(71785*(x[0]**4))\n",
        "  g2=(4*(x[1]**2)-x[0]*x[1])/(12566*x[1]*(x[0]**3)-12566*(x[0]**4))+(1/(5108*x[0]**2))-1\n",
        "  #g2=(4*(x[1]**2)-x[0]*x[1])/(12566*x[1]*(x[0]**3)-12566*(x[0]**4))+(1/(5108*x[0]**2))\n",
        "  #g2=(4*(x[1]**2)-x[0]*x[1])/(12566*x[1]*(x[0]**3)-12566*(x[0]**4))-(1/(5108*x[0]**2))\n",
        "  #g2=0\n",
        "  g3=1-140.45*x[0]/((x[1]**2)*x[2])\n",
        "  g4=(x[0]+x[1])/1.5-1\n",
        "  #g4=(x[0]+x[1])/1.5\n",
        "  fx=(x[2]+2)*x[1]*x[0]**2\n",
        "\n",
        "  if g1<=0:\n",
        "    g1=0\n",
        "  else:\n",
        "    g1=1e99  \n",
        "  if g2<=0:\n",
        "    g2=0\n",
        "  else:\n",
        "    g2=1e99\n",
        "  if g3<=0:\n",
        "    g3=0\n",
        "  else:\n",
        "    g3=1e99\n",
        "  if g4<=0:\n",
        "    g4=0\n",
        "  else:\n",
        "    g4=1e99\n",
        "  MIN=[g1,g2,g3,g4,fx]\n",
        "  fun=max(MIN)\n",
        "  return fun"
      ],
      "execution_count": 4,
      "outputs": []
    },
    {
      "cell_type": "code",
      "metadata": {
        "id": "KU3OyfnQW2zA"
      },
      "source": [
        "'''Mola Function'''\n",
        "def Testa_mola(x):\n",
        "  g1=1-(x[1]**3*x[2])/(71785*(x[0]**4))\n",
        "  g2=(4*(x[1]**2)-x[0]*x[1])/(12566*x[1]*(x[0]**3)-12566*(x[0]**4))+(1/(5108*x[0]**2))-1\n",
        "  #g2=(4*(x[1]**2)-x[0]*x[1])/(12566*x[1]*(x[0]**3)-12566*(x[0]**4))+(1/(5108*x[0]**2))\n",
        "  #g2=(4*(x[1]**2)-x[0]*x[1])/(12566*x[1]*(x[0]**3)-12566*(x[0]**4))-(1/(5108*x[0]**2))\n",
        "  #g2=0\n",
        "  g3=1-140.45*x[0]/((x[1]**2)*x[2])\n",
        "  g4=(x[0]+x[1])/1.5-1\n",
        "  #g4=(x[0]+x[1])/1.5\n",
        "  fx=(x[2]+2)*x[1]*x[0]**2\n",
        "  VETOR=[g1,g2,g3,g4,fx]\n",
        "  return VETOR"
      ],
      "execution_count": 5,
      "outputs": []
    },
    {
      "cell_type": "code",
      "metadata": {
        "id": "eRclNTMpoGzL"
      },
      "source": [
        "MIN=[0.05,0.25,2]\n",
        "MAX=[2,1.3,15]\n",
        "PAR=len(MAX)\n",
        "\n",
        "NPAR=200\n",
        "ITE=2000"
      ],
      "execution_count": 6,
      "outputs": []
    },
    {
      "cell_type": "code",
      "metadata": {
        "id": "A3WQPiiSoIJX"
      },
      "source": [
        "dim=3\n",
        "RUNS=2\n",
        "\n",
        "Fun=Solve_Mola\n",
        "\n",
        "\n",
        "bounds = [(0,0)]*dim\n",
        "\n",
        "for i in range(dim):\n",
        "  bounds[i] = (MIN[i],MAX[i])"
      ],
      "execution_count": 7,
      "outputs": []
    },
    {
      "cell_type": "code",
      "metadata": {
        "id": "KQVX1hnp_W0M",
        "outputId": "847939b2-fca5-43b4-f85e-e9ff07c23a59",
        "colab": {
          "base_uri": "https://localhost:8080/"
        }
      },
      "source": [
        "start_time = time.time()\n",
        "BEST_AGENTS=[]\n",
        "\n",
        "for i in range(RUNS):  \n",
        "    SOMA=0\n",
        "    pop = np.random.rand(NMAX, dim)\n",
        "    diff=np.zeros(PAR)\n",
        "    for ii in range(PAR):\n",
        "      diff[ii] = MAX[ii]-MIN[ii]\n",
        "    X = MIN + pop * diff\n",
        "    \n",
        "    #PARTIC=[164,10,125,38,133,127,188,84,8,23]\n",
        "    #PARTIC=[100,100,100,100,100,100,100,100,100,100] \n",
        "    \n",
        "    p=NPAR\n",
        "    #p=int(TOTAL/its/ITE)\n",
        "    PARTIC=np.repeat(p,ITE)\n",
        "    \n",
        "    \n",
        "    \n",
        "    for k in range(ITE):\n",
        "        NPAR=np.copy(int(PARTIC[k]))\n",
        "        #print(NPAR)\n",
        "        X,BEST,FOBEST,XY,BEST_XY,SOMA= de_rotina_ago_29_2019.de(MAX,MIN, mut, crossp, NPAR, its,Fun,X,SOMA,TOTAL)\n",
        "        \n",
        "    BEST_AGENTS.append(BEST_XY)\n",
        "    #print(\"GlobalParam e Solucao:\", BEST,\"Funcao=\",FOBEST)\n",
        "    \n",
        "############################## Cálculo dos Parâmetros de Avaliação   \n",
        "TIME = (time.time() - start_time)/RUNS\n",
        "BEST_AGENTS=np.array(BEST_AGENTS)\n",
        "BEST_AGENTS_ST= BEST_AGENTS[BEST_AGENTS[:,-1].argsort()]\n",
        "BEST=BEST_AGENTS_ST[0]\n",
        "WORSE=BEST_AGENTS_ST[-1]\n",
        "MEAN=np.mean(BEST_AGENTS,axis=0)\n",
        "MAXFO=BEST_AGENTS[:,-1].max()\n",
        "MINFO=BEST_AGENTS[:,-1].min()\n",
        "STD=BEST_AGENTS[:,-1].std()\n",
        "\n",
        "print('DE_POP_VAR_','NPAR=',NPAR,'TOTAL=',TOTAL,'Iterações=',ITE*its,'Dim=',PAR,'F=',mut,'Cr=',crossp, \"Min/Max=\",MIN[0],\"/\",MAX[0],'_',Fun.__name__)\n",
        "#print(PARTIC, '\\n')\n",
        "#print('BEST: ',BEST)\n",
        "#print('MÉDIA: ',MEAN)\n",
        "print('MÉDIA: ',MEAN[-1])\n",
        "print('MIN __:',MINFO)\n",
        "print('MAX__: ',MAXFO)\n",
        "print('STD __:',STD)\n",
        "print(\"Tempo Médio= %.3f segundos ---\" % (TIME))\n",
        "print(RUNS,'Rodadas')"
      ],
      "execution_count": 8,
      "outputs": [
        {
          "output_type": "stream",
          "text": [
            "DE_POP_VAR_ NPAR= 200 TOTAL= 100000 Iterações= 2000 Dim= 3 F= 0.5 Cr= 0.5 Min/Max= 0.05 / 2 _ Solve_Mola\n",
            "MÉDIA:  0.012686562599513226\n",
            "MIN __: 0.012685557064089477\n",
            "MAX__:  0.012687568134936975\n",
            "STD __: 1.0055354237488434e-06\n",
            "Tempo Médio= 26.285 segundos ---\n",
            "2 Rodadas\n"
          ],
          "name": "stdout"
        }
      ]
    },
    {
      "cell_type": "code",
      "metadata": {
        "id": "F4Bw0QqZvwUn",
        "outputId": "51acdf3c-2363-4d28-ec2e-0ca348042046",
        "colab": {
          "base_uri": "https://localhost:8080/"
        }
      },
      "source": [
        "len(PARTIC)"
      ],
      "execution_count": 9,
      "outputs": [
        {
          "output_type": "execute_result",
          "data": {
            "text/plain": [
              "2000"
            ]
          },
          "metadata": {
            "tags": []
          },
          "execution_count": 9
        }
      ]
    }
  ]
}
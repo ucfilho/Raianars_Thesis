{
  "nbformat": 4,
  "nbformat_minor": 0,
  "metadata": {
    "colab": {
      "name": "Ensaio_06_DE_OPTIM_ANN_v_02_B_stat_mod_Insight_DIVERSIDADE_3x4.ipynb",
      "provenance": [],
      "collapsed_sections": [],
      "include_colab_link": true
    },
    "kernelspec": {
      "name": "python3",
      "display_name": "Python 3"
    },
    "language_info": {
      "codemirror_mode": {
        "name": "ipython",
        "version": 3
      },
      "file_extension": ".py",
      "mimetype": "text/x-python",
      "name": "python",
      "nbconvert_exporter": "python",
      "pygments_lexer": "ipython3",
      "version": "3.7.3"
    }
  },
  "cells": [
    {
      "cell_type": "markdown",
      "metadata": {
        "id": "view-in-github",
        "colab_type": "text"
      },
      "source": [
        "<a href=\"https://colab.research.google.com/github/ucfilho/Raianars_Thesis/blob/main/Ensaio_06_DE_OPTIM_ANN_v_02_B_stat_mod_Insight_DIVERSIDADE_3x4.ipynb\" target=\"_parent\"><img src=\"https://colab.research.google.com/assets/colab-badge.svg\" alt=\"Open In Colab\"/></a>"
      ]
    },
    {
      "cell_type": "code",
      "metadata": {
        "colab": {
          "base_uri": "https://localhost:8080/"
        },
        "id": "c59cDVKoxDLX",
        "outputId": "d000887c-8c13-4518-aa9e-052d58583725"
      },
      "source": [
        "############################### Importar códigos\r\n",
        "!git clone https://github.com/ucfilho/optim_raianars_Insight/ #clonar do Github\r\n",
        "%cd optim_raianars_Insight\r\n",
        "import de_soma_Insight\r\n",
        "import de_bounds_matriz\r\n",
        "import Go2Ann"
      ],
      "execution_count": 1,
      "outputs": [
        {
          "output_type": "stream",
          "text": [
            "fatal: destination path 'optim_raianars_Insight' already exists and is not an empty directory.\n",
            "/content/optim_raianars_Insight\n"
          ],
          "name": "stdout"
        }
      ]
    },
    {
      "cell_type": "code",
      "metadata": {
        "id": "Va-6Xios8RjU",
        "colab": {
          "base_uri": "https://localhost:8080/"
        },
        "outputId": "25fd6dd3-e93f-47a3-b86e-0b7301826825"
      },
      "source": [
        "!git clone https://github.com/ucfilho/Raianars_paper_One #clonar do Github\n",
        "%cd Raianars_paper_One"
      ],
      "execution_count": 2,
      "outputs": [
        {
          "output_type": "stream",
          "text": [
            "fatal: destination path 'Raianars_paper_One' already exists and is not an empty directory.\n",
            "/content/optim_raianars_Insight/Raianars_paper_One\n"
          ],
          "name": "stdout"
        }
      ]
    },
    {
      "cell_type": "code",
      "metadata": {
        "id": "_E15mKFURR6O"
      },
      "source": [
        "#import Go2Ann\n",
        "#import de_soma_Insight\n",
        "#import de_bounds_matriz\n",
        "#import Function\n",
        "#import Go2MinMax\n",
        "from AvaliaX import AvaliaX\n",
        "#from Function import FUN\n",
        "#from Function import Function.FUN\n",
        "#from Function import Function.Fun\n",
        "#from Function import Function\n",
        "from GeraIndices import GeraIndices\n",
        "import numpy as np\n",
        "import time\n",
        "import matplotlib.pyplot as plt\n",
        "from random import randint\n",
        "from scipy import optimize\n",
        "import pandas as pd\n",
        "from sklearn.metrics import confusion_matrix\n",
        "\n",
        "############################### DADOS DE ENTRADA \n",
        "RUNS=50 #NÚMERO DE RODADAS\n",
        "Fc=0.1 # fator de correcao parametros da ANN\n",
        "its=1 #10 # quantas vezes vai usar o NPAR antes de alterar de novo\n",
        "ITE=100 #10 # PONTOS quantas vezes vai alteral NPAR \n",
        "NPAR=60\n",
        "mut=0.5\n",
        "crossp=0.5\n",
        "Fi=mut;CRi=crossp;# para impressão\n",
        "fator = 1.0/4.0; \n",
        "\n",
        "# Fun=Function.FUN\n",
        "# Fun=FUN\n",
        "############################### Função\n",
        "#dim=12\n",
        "\n",
        "MAX=np.array([3,3,3,3,1,1,1,1,0,0,0,0])\n",
        "MIN=np.array([2,2,2,2,0,0,0,0,-100,-100,-100,-100])\n",
        "#MAX=np.array([3,3,3,3,3,3,3,3,0,0,0,0])\n",
        "#MIN=np.array([0,0,0,0,0,0,0,0,-100,-100,-100,-100])\n",
        "\n",
        "bounds=[]\n",
        "for k in range(len(MAX)):\n",
        "  bounds.append((MIN[k],MAX[k]))"
      ],
      "execution_count": 3,
      "outputs": []
    },
    {
      "cell_type": "code",
      "metadata": {
        "id": "6VGTVG3tYNgk"
      },
      "source": [
        "#********************PROGRAMA PRINCIPAL*************************\n",
        "\n",
        "Trocas=4\n",
        "mCp=[4,2,1.5,3] #[kW/K]\n",
        "tempInicial=[453.0,393.0,523.0,533.0] #[K]\n",
        "tempAtual=np.copy(tempInicial) \n",
        "#tempAtual=[453,393,523,533] #[K]\n",
        "tempAlvo=[513.0,508.0,403.0,433.0] #[K]\n",
        "U=0.2 #[kW/(m2.K)]\n",
        "coefCustoUQ=110 #[$/(kW.ano)]\n",
        "coefCustoUF=12.2 #[$/(kW.ano)]"
      ],
      "execution_count": 4,
      "outputs": []
    },
    {
      "cell_type": "code",
      "metadata": {
        "id": "LtJfcFQoI_WI"
      },
      "source": [
        "def Area(x):\n",
        "\n",
        "  global mCp,tempAlvo,tempInicial,Trocas,U\n",
        "  \n",
        "  NPAR=1\n",
        "  \n",
        "  Area=[]\n",
        "\n",
        "  Ind_I,Ind_J,deltaT,Tin, Tout=buildMatriz(x) \n",
        "  Tatual=np.copy(np.array(tempInicial))\n",
        "\n",
        "  rows=Trocas \n",
        "  cols=len(mCp)\n",
        "\n",
        "  Area_Particula=[]\n",
        "\n",
        "  for k in range(Trocas):\n",
        "\n",
        "    i=Ind_I[0,k]\n",
        "    j=Ind_J[0,k]\n",
        "    tempSaidaQ=Tatual[i]+deltaT[0,k]\n",
        "    tempSaidaF=-deltaT[0,k]*mCp[i]/(mCp[j])+Tatual[j]\n",
        "\n",
        "    Told_i=Tatual[i]\n",
        "    Told_j=Tatual[j]\n",
        "\n",
        "    Tatual[i]=np.copy(tempSaidaQ)\n",
        "    Tatual[j]=np.copy(tempSaidaF)\n",
        "    deltaT1=Tatual[i]-tempSaidaF\n",
        "    deltaT2=tempSaidaQ-Tatual[j]\n",
        "    try:\n",
        "      A=(deltaT1-deltaT2)\n",
        "      B=np.log((deltaT1/deltaT2))\n",
        "      deltaTMediaLog=A/B\n",
        "    except:\n",
        "      deltaTMediaLog=1e99\n",
        "  \n",
        "    if(deltaTMediaLog==1e99):\n",
        "      AreaCalc=1e99\n",
        "    else:\n",
        "      AreaCalc=abs(deltaT[0,k]*mCp[i]/(U*deltaTMediaLog))\n",
        "\n",
        "    if(Told_i==Tatual[i]):\n",
        "      AreaCalc=0\n",
        "\n",
        "    if(Told_j==Tatual[j]):\n",
        "      AreaCalc=0\n",
        "\n",
        "      Area_Particula.append(AreaCalc)\n",
        "      \n",
        "  Area.append(Area_Particula)\n",
        "\n",
        "  return Area\n",
        "\n",
        "def buildMatriz(x):\n",
        "  global Trocas, tempInicial, tempAtual \n",
        "  NPAR=1\n",
        "  cols=len(tempInicial)\n",
        "  size=3*cols\n",
        "  x=np.array(x).reshape(1,size)\n",
        "  # print('x=');print(x)\n",
        "  Ind_I=np.zeros((NPAR,Trocas)).astype(np.int64)\n",
        "  Ind_J=np.zeros((NPAR,Trocas)).astype(np.int64)\n",
        "  Tin=np.zeros((NPAR,Trocas))\n",
        "  Tout=np.zeros((NPAR,Trocas))\n",
        "  deltaT=np.zeros((NPAR,Trocas))\n",
        "  for i in range(NPAR):\n",
        "    for j in range(Trocas):\n",
        "      #print('[i,j]=%d %d'%(i,j))\n",
        "      Ind_I[i,j]=round(x[i,j])\n",
        "      Ind_J[i,j]=round(x[i,j+Trocas])\n",
        "      deltaT[i,j]=x[i,j+2*Trocas] \n",
        "    for jj in range(cols):\n",
        "      Tin[i,jj]=tempInicial[jj]\n",
        "      Tout[i,jj]=tempAtual[jj]\n",
        "  return Ind_I,Ind_J,deltaT, Tin, Tout\n",
        "\n",
        "def CustoProcesso(Area,Utilidades,cargaUFtodas,cargaUQtodas):\n",
        "  global coefCustoUQ,coefCustoUF\n",
        "  \n",
        "  NPAR=1\n",
        "\n",
        "  cost=np.zeros((NPAR))\n",
        "  for i in range(NPAR):\n",
        "    cargaUQ=cargaUQtodas[i]\n",
        "    cargaUF=cargaUFtodas[i]\n",
        "    areaTrocadores=Area[i]\n",
        "    areaUtilidades=Utilidades[i]\n",
        "    costTrocadores=0\n",
        "    for it in areaTrocadores:\n",
        "      for wii in areaUtilidades:\n",
        "        if(it<1e99):\n",
        "          if(wii<1e99):\n",
        "            costTrocadores=costTrocadores+300*(it**0.5+wii**0.5)\n",
        "          else:\n",
        "            costTrocadores=1e99\n",
        "            break\n",
        "    costUQ=coefCustoUQ*cargaUQ\n",
        "    costUF=coefCustoUF*cargaUF\n",
        "    \n",
        "    if(costTrocadores==1e99):\n",
        "      cost[i]=1e99\n",
        "    else:\n",
        "      cost[i]=costUQ+costUF+costTrocadores\n",
        "      \n",
        "  return cost\n",
        "\n",
        "def Temperatura(x):\n",
        "  global Trocas, mCp,tempInicial\n",
        "  \n",
        "  NPAR=1\n",
        "  Ind_I,Ind_J,deltaT,Tin, Tout=buildMatriz(x) \n",
        "  Tatual=np.copy(np.array(tempInicial))\n",
        "\n",
        "  erro=np.zeros((NPAR)) # valor erro se torna erro=1 quando ha algum erro e vai penalizar\n",
        "  for ki in range(NPAR):\n",
        "    for kj in range(Trocas):\n",
        "      #Tin=np.copy(Tout)\n",
        "      k=kj\n",
        "      i=Ind_I[ki,kj]\n",
        "      j=Ind_J[ki,kj]\n",
        "      \n",
        "      tempSaidaQ=Tout[ki,i]+deltaT[ki,kj]\n",
        "      tempSaidaF=-mCp[kj]*deltaT[ki,kj]/(mCp[j])+Tout[ki,j]\n",
        "      flag=0 # flag : indica que nao entra no teste logico\n",
        "      # usei flag no lugar q ifs pq a identacao ficou melhor assim\n",
        "      if(Tout[ki,i] > Tout[ki,j]): #Tquente maior Tfria: vaores atuais\n",
        "        if(tempSaidaQ > tempSaidaF): #Tquente maior Tfria: saidas\n",
        "          flag=1\n",
        "      if(flag>0):\n",
        "        Tout[ki,i]=tempSaidaQ\n",
        "        Tout[ki,j]=tempSaidaF\n",
        "      else:\n",
        "        erro[ki]=1\n",
        "\n",
        "  return Tout,erro\n",
        "\n",
        "def Utilidades(tempAlvo,Tout,mCp):\n",
        "\n",
        "  cols=len(mCp)\n",
        "  NPAR=1\n",
        "\n",
        "  \n",
        "  '''\n",
        "  caso I cita TUQin=553 e TQout=552, TUFin=303 TUFout=353\n",
        "  '''\n",
        "  \n",
        "  TUQin=553\n",
        "  TUQout=552\n",
        "  TUFin=303 \n",
        "  TUFout=353\n",
        "  \n",
        "  Areas=[]\n",
        "  cargaUQtodas=[]\n",
        "  cargaUFtodas=[]\n",
        "\n",
        "  for ki in range(NPAR):\n",
        "    areaTrocador=[]\n",
        "    cargaUQ=0\n",
        "    cargaUF=0\n",
        "    for j in range(cols):\n",
        "      delta=tempAlvo[j]-Tout[ki,j]\n",
        "      if(delta>0):#usa UQ\n",
        "        cargaUQ=cargaUQ+mCp[j]*delta\n",
        "        deltaT1=(TUQin-tempAlvo[j])\n",
        "        deltaT2=(TUQout-Tout[ki,j])\n",
        "\n",
        "        try:\n",
        "          A=deltaT1-deltaT2\n",
        "          B=np.log(deltaT1/deltaT2)\n",
        "          deltaTMediaLog=A/B\n",
        "        except:\n",
        "          deltaTMediaLog=1e99\n",
        "\n",
        "        if(deltaTMediaLog==1e99):\n",
        "          areaTrocador.append(1e99)\n",
        "        else:\n",
        "          areaTrocador.append((abs(mCp[j]*(delta)/(U*deltaTMediaLog))))\n",
        "\n",
        "      elif(delta==0):#nao usa UF e UQ\n",
        "        deltaTMediaLog=0\n",
        "        areaTrocador.append(0) \n",
        "\n",
        "      else:#usa UF\n",
        "        deltaT1=(Tout[ki,j]-TUFout)\n",
        "        deltaT2=(tempAlvo[j]-TUFin)     \n",
        "        cargaUF=cargaUF+mCp[j]*(-delta)\n",
        "\n",
        "        #UF -> água resfriada -> entra a 303K e sai a 353K\n",
        "        try:\n",
        "          A=deltaT1-deltaT2\n",
        "          B=np.log(deltaT1/deltaT2)\n",
        "          deltaTMediaLog=A/B\n",
        "        except:\n",
        "          deltaTMediaLog=1e99\n",
        "        \n",
        "        if(deltaTMediaLog==1e99):\n",
        "          areaTrocador.append(1e99)\n",
        "        else:\n",
        "          areaTrocador.append((abs(mCp[j]*(-delta)/(U*deltaTMediaLog))))\n",
        "\n",
        "    cargaUQtodas.append(cargaUQ)\n",
        "    cargaUFtodas.append(cargaUF)\n",
        "\n",
        "    Areas.append(areaTrocador)\n",
        "\n",
        "  return Areas, cargaUQtodas,cargaUFtodas \n",
        "\n",
        "def Fun(x):\n",
        "\n",
        "  global mCp,tempAtual,tempAlvo,tempInicial,U,coefCustoUQ,coefCustoUF\n",
        "  \n",
        "  NPAR=1\n",
        "  \n",
        "  funr=np.zeros((NPAR))\n",
        "  cols=len(mCp)\n",
        "  Ind_I,Ind_J,deltaT, Tin, Tout=buildMatriz(x) # transforma x em matriz logica e troca\n",
        "  Tout, Erro=Temperatura(x)\n",
        "  areaTrocadores =Area(x)\n",
        "  areaUtilidade, cargaUQ,cargaUF = Utilidades(tempAlvo,Tout,mCp)\n",
        "  cost=CustoProcesso(areaTrocadores,areaUtilidade,cargaUF,cargaUQ)\n",
        "  funr=cost\n",
        "\n",
        "  for k in range(NPAR):\n",
        "    if(Erro[k]>0):\n",
        "      funr[k]=1e99\n",
        "  funr = np.where(np.isnan(cost), 1e99, cost)\n",
        "  \n",
        "  # print(funr)\n",
        "\n",
        "  return funr \n"
      ],
      "execution_count": 5,
      "outputs": []
    },
    {
      "cell_type": "code",
      "metadata": {
        "id": "aPPrDD5-_X6F"
      },
      "source": [
        "def Numb(x):\n",
        "  global mCp,tempAlvo,tempInicial,Trocas\n",
        "\n",
        "  Ind_I,Ind_J,deltaT,Tin, Tout=buildMatriz(x) # transforma x em matriz logica e troca\n",
        "  Tatual=np.copy(np.array(tempInicial))\n",
        "\n",
        "  rows=Trocas \n",
        "  cols=len(mCp)\n",
        "  Ttrocas=np.zeros((rows+4,cols))# feito em quaduplicata so para melhorar o visual\n",
        "  for i in range(2):\n",
        "    for j in range(cols):\n",
        "      Ttrocas[i,j]=np.copy(Tatual[j])\n",
        "  cont=1\n",
        "  #Ttrocas.append(Tatual)\n",
        "  #Ttrocas.append(Tatual) # feito em duplicata so para melhorar o visual\n",
        "  for k in range(Trocas):\n",
        "    cont=cont+1\n",
        "    i=Ind_I[0,k]\n",
        "    j=Ind_J[0,k]\n",
        "    tempSaidaQ=Tatual[i]+deltaT[0,k]\n",
        "    tempSaidaF=-deltaT[0,k]*mCp[i]/(mCp[j])+Tatual[j]\n",
        "    Tatual[i]=np.copy(tempSaidaQ)\n",
        "    Tatual[j]=np.copy(tempSaidaF)\n",
        "\n",
        "    for jj in range(cols):\n",
        "      Ttrocas[cont,jj]=Tatual[jj]  \n",
        "\n",
        "\n",
        "  for jj in range(cols): # feito em duplicata so para melhorar o visual\n",
        "    Ttrocas[cont+1,jj]=tempAlvo[jj]\n",
        "    Ttrocas[cont+2,jj]=tempAlvo[jj]\n",
        "\n",
        "  \n",
        "  return Ttrocas"
      ],
      "execution_count": 6,
      "outputs": []
    },
    {
      "cell_type": "code",
      "metadata": {
        "id": "qTINtQ1cosZK",
        "colab": {
          "base_uri": "https://localhost:8080/"
        },
        "outputId": "7477bb2e-670b-40ac-b9e2-ce4880901146"
      },
      "source": [
        "!git clone https://github.com/ucfilho/ANN_read_matrix #clonar do Github\n",
        "%cd ANN_read_matrix"
      ],
      "execution_count": 7,
      "outputs": [
        {
          "output_type": "stream",
          "text": [
            "fatal: destination path 'ANN_read_matrix' already exists and is not an empty directory.\n",
            "/content/optim_raianars_Insight/Raianars_paper_One/ANN_read_matrix\n"
          ],
          "name": "stdout"
        }
      ]
    },
    {
      "cell_type": "code",
      "metadata": {
        "id": "QiQLYOoNoyCw"
      },
      "source": [
        "ANN_F=pd.read_csv('ANN_INSIGHT_Valor_F.csv')"
      ],
      "execution_count": 8,
      "outputs": []
    },
    {
      "cell_type": "code",
      "metadata": {
        "id": "uHtW2amaDzFv"
      },
      "source": [
        "ANN_CR=pd.read_csv('ANN_INSIGHT_CR.csv')"
      ],
      "execution_count": 9,
      "outputs": []
    },
    {
      "cell_type": "code",
      "metadata": {
        "id": "EH6h_vke2yu1"
      },
      "source": [
        "syn0_F,syn1_F,X_max_F,X_min_F=Go2Ann.GetMatriz(ANN_F)"
      ],
      "execution_count": 10,
      "outputs": []
    },
    {
      "cell_type": "code",
      "metadata": {
        "id": "WW_3ZWJXD60i"
      },
      "source": [
        "syn0_CR,syn1_CR,X_max_CR,X_min_CR=Go2Ann.GetMatriz(ANN_CR)"
      ],
      "execution_count": 11,
      "outputs": []
    },
    {
      "cell_type": "code",
      "metadata": {
        "id": "b4gwBvVTyaXh"
      },
      "source": [
        "ANN_CR=pd.read_csv('ANN_INSIGHT_CR.csv')"
      ],
      "execution_count": 12,
      "outputs": []
    },
    {
      "cell_type": "code",
      "metadata": {
        "id": "6jL8MxpHvk-Y"
      },
      "source": [
        "fields = ['DI RELATIVO','FRAC Its','Fo','CRo']"
      ],
      "execution_count": 13,
      "outputs": []
    },
    {
      "cell_type": "code",
      "metadata": {
        "id": "Mb3LmbSmj9v7",
        "colab": {
          "base_uri": "https://localhost:8080/"
        },
        "outputId": "ed2df639-cf56-446f-e984-ceb39cd027e2"
      },
      "source": [
        "##################################### \n",
        "dim=12\n",
        "\n",
        "#TOTAL=10*dim*its*ITE\n",
        "TOTAL=200000*its*ITE\n",
        "\n",
        "dimensions=len(MAX)\n",
        "start_time = time.time() #INICIALIZA CONTAGEM DO TEMPO\n",
        "\n",
        "\n",
        "PAR=dim\n",
        "fobj=Fun\n",
        "\n",
        "MAX_P=np.zeros(ITE) # ATENCAO para variar F e Cr MAX_P passa a ser 3 vezes maior\n",
        "MIN_P=np.zeros(ITE) # ATENCAO para variar F e Cr MIN_P passa a ser 3 vezes maior\n",
        "\n",
        "for i in range(dim):\n",
        "  MAX_P[i]=MAX[i] \n",
        "  MIN_P[i]=MIN[i]\n",
        "\n",
        "rodadas=1\n",
        "NPAR1=int(fator*NPAR);print('Npar1=',NPAR1);print('frac=',fator)\n",
        "NPAR2=int((1-fator)*NPAR);print('Npar2=',NPAR2);print('Npar=',NPAR)\n",
        "\n",
        "cols=12\n",
        "X1=np.zeros((NPAR1,cols)) # X1 is Frannk population\n",
        "for i in range(NPAR1):\n",
        "  for j in range(cols):\n",
        "    r=np.random.random()\n",
        "    X1[i,j]=r*(MAX[j]-MIN[j])+MIN[j]\n",
        "    \n",
        "X2=np.zeros((NPAR2,cols)) # X2 is population DE (default DE)\n",
        "for i in range(NPAR2):\n",
        "  for j in range(cols):\n",
        "    r=np.random.random()\n",
        "    X2[i,j]=r*(MAX[j]-MIN[j])+MIN[j]\n",
        " ############################################################\n",
        "  #bounds=[(5*dim, 15*dim)] * PONTOS # ITE\n",
        "  #bounds=[(3*dim, 12*dim)] * PONTOS # ITE\n",
        "  #bounds=[(4*dim, 16*dim)] * PONTOS\n",
        "  \n",
        "  # nao pode ser assim pq o bounds vale p o DE nao dos parametros\n",
        "  #p=int(TOTAL/its/ITE) \n",
        "  #bounds=[(p, p)] * PONTOS\n"
      ],
      "execution_count": 14,
      "outputs": [
        {
          "output_type": "stream",
          "text": [
            "Npar1= 15\n",
            "frac= 0.25\n",
            "Npar2= 45\n",
            "Npar= 60\n"
          ],
          "name": "stdout"
        }
      ]
    },
    {
      "cell_type": "code",
      "metadata": {
        "id": "rnX8ttNopd1G",
        "colab": {
          "base_uri": "https://localhost:8080/"
        },
        "outputId": "b6f5c929-2878-4493-d738-bf047899697f"
      },
      "source": [
        "\n",
        "start_time = time.time()\n",
        "BEST_AGENTS=[]\n",
        "MAT_stat=[]\n",
        "for iii in range(RUNS):\n",
        "    MAT=[] \n",
        "    mut=Fi\n",
        "    crossp=CRi\n",
        "    SOMA=0\n",
        "    pop = np.random.rand(NPAR, dim)\n",
        "    diff=np.zeros(PAR)\n",
        "    X1=np.zeros((NPAR1,cols)) # X1 is Frannk population\n",
        "    for i in range(NPAR1):\n",
        "      for j in range(cols):\n",
        "        r=np.random.random()\n",
        "        X1[i,j]=r*(MAX[j]-MIN[j])+MIN[j]\n",
        "        \n",
        "    X2=np.zeros((NPAR2,cols)) # X2 is population DE (default DE)\n",
        "    for i in range(NPAR2):\n",
        "      for j in range(cols):\n",
        "        r=np.random.random()\n",
        "        X2[i,j]=r*(MAX[j]-MIN[j])+MIN[j]\n",
        "    \n",
        "    DIo=1e99\n",
        "  \n",
        "    CRo=crossp;Fo=mut;\n",
        "    Fitness = np.asarray([Fun(ind) for ind in X1])\n",
        "    XY,BEST_XY,BESTo,FOBESTo=AvaliaX(X1,Fitness)\n",
        "    nrow,ncol=X1.shape\n",
        "\n",
        "    QUANT=17;MAT_INDo=np.zeros((1,QUANT)); # quantos indices esta fazendo\n",
        "    MAT_INDo[0,5]=nrow  # VALOR NP\n",
        "    MAT_INDo[0,6]=Fo    # VALOR Fo   \n",
        "    MAT_INDo[0,7]=CRo   # VALOR CRo\n",
        "  \n",
        "    MAT_INDo=GeraIndices(X1,BESTo,FOBESTo,DIo,MAT_INDo,SOMA,TOTAL,syn0_F,\n",
        "                        syn1_F,X_max_F,X_min_F,syn0_CR,syn1_CR,X_max_CR,\n",
        "                        X_min_CR,Fc,fields,Fun)\n",
        "  \n",
        "    DIo=np.copy(MAT_INDo[0,0])\n",
        "    MAT_INDo[0,15]=Fo    # VALOR Fo   \n",
        "    MAT_INDo[0,16]=CRo   # VALOR CRo\n",
        "    #ind_crossp=ITE-1\n",
        "    \n",
        "\n",
        "    \n",
        "    for k in range(ITE):\n",
        "\n",
        "      X2,BEST2,FOBEST,XY,BEST_XY=de_bounds_matriz.de(bounds, mut, crossp,NPAR2, its,fobj,X2)\n",
        "      \n",
        "      \n",
        "      X1,BEST1,FOBEST,XY,BEST_XY,SOMA= de_soma_Insight.de(MAX,MIN, mut, crossp,NPAR1,its,Fun,X1,SOMA,TOTAL)\n",
        "\n",
        "      MAT_IND=GeraIndices(X1,BESTo,FOBESTo,DIo,MAT_INDo,SOMA,TOTAL,syn0_F,\n",
        "                          syn1_F,X_max_F,X_min_F,syn0_CR,syn1_CR,X_max_CR,\n",
        "                          X_min_CR,Fc,fields,Fun)\n",
        "    \n",
        "      BESTo=np.copy(BEST1);FOBESTo=np.copy(FOBEST);\n",
        "      MAT.append(MAT_IND.ravel())\n",
        "    \n",
        "      MAT_INDo[0,6]=MAT_IND[0,15]   # VALOR Fo   \n",
        "      MAT_INDo[0,7]=MAT_IND[0,16]   # VALOR CRo\n",
        "      mut=MAT_IND[0,15]\n",
        "      crossp=MAT_IND[0,16]\n",
        "      X1[0,:] = BEST2;\n",
        "      X1[NPAR1-1,:] = BEST1;\n",
        "      X2[0,:] = BEST1;\n",
        "      X2[NPAR2-1,:] = BEST2;\n",
        "    print('k=',iii,'time=',(time.time()-start_time)/60)  \n",
        "    BEST_AGENTS.append(BEST_XY)\n",
        "    MAT_stat.append(MAT)\n",
        "    #print(\"GlobalParam e Solucao:\", BEST,\"Funcao=\",FOBEST)\n",
        "    \n",
        "############################## Cálculo dos Parâmetros de Avaliação   \n",
        "TIME = (time.time() - start_time)/RUNS\n",
        "BEST_AGENTS=np.array(BEST_AGENTS)\n",
        "BEST_AGENTS_ST= BEST_AGENTS[BEST_AGENTS[:,-1].argsort()]\n",
        "BEST=BEST_AGENTS_ST[0]\n",
        "WORSE=BEST_AGENTS_ST[-1]\n",
        "MEAN=np.mean(BEST_AGENTS,axis=0)\n",
        "MAXFO=BEST_AGENTS[:,-1].max()\n",
        "MINFO=BEST_AGENTS[:,-1].min()\n",
        "STD=BEST_AGENTS[:,-1].std()"
      ],
      "execution_count": 15,
      "outputs": [
        {
          "output_type": "stream",
          "text": [
            "/usr/local/lib/python3.6/dist-packages/ipykernel_launcher.py:34: RuntimeWarning: invalid value encountered in double_scalars\n"
          ],
          "name": "stderr"
        },
        {
          "output_type": "stream",
          "text": [
            "k= 0 time= 0.10791153907775879\n",
            "k= 1 time= 0.2162852088610331\n",
            "k= 2 time= 0.3218792597452799\n",
            "k= 3 time= 0.42671029567718505\n",
            "k= 4 time= 0.5336597442626954\n",
            "k= 5 time= 0.6360838254292805\n",
            "k= 6 time= 0.7420549511909484\n",
            "k= 7 time= 0.8487524549166362\n",
            "k= 8 time= 0.9543134013811747\n",
            "k= 9 time= 1.0605390787124633\n",
            "k= 10 time= 1.1667644460995992\n",
            "k= 11 time= 1.2682212432225546\n",
            "k= 12 time= 1.373232861359914\n",
            "k= 13 time= 1.4751530885696411\n",
            "k= 14 time= 1.580602272351583\n",
            "k= 15 time= 1.6875129818916321\n",
            "k= 16 time= 1.787091847260793\n",
            "k= 17 time= 1.8907869577407836\n",
            "k= 18 time= 1.9908229192097981\n",
            "k= 19 time= 2.094937813282013\n",
            "k= 20 time= 2.195041235287984\n",
            "k= 21 time= 2.3004546999931335\n",
            "k= 22 time= 2.4025119582811993\n",
            "k= 23 time= 2.502535661061605\n",
            "k= 24 time= 2.6046086152394614\n",
            "k= 25 time= 2.7083290497461956\n",
            "k= 26 time= 2.811726458867391\n",
            "k= 27 time= 2.9167460640271505\n",
            "k= 28 time= 3.023070772488912\n",
            "k= 29 time= 3.128140636285146\n",
            "k= 30 time= 3.233826756477356\n",
            "k= 31 time= 3.3377265413602193\n",
            "k= 32 time= 3.446315856774648\n",
            "k= 33 time= 3.554371694723765\n",
            "k= 34 time= 3.6574157516161603\n",
            "k= 35 time= 3.762694525718689\n",
            "k= 36 time= 3.8677637616793317\n",
            "k= 37 time= 3.9734426577885946\n",
            "k= 38 time= 4.077825252215067\n",
            "k= 39 time= 4.181990547974904\n",
            "k= 40 time= 4.289149204889934\n",
            "k= 41 time= 4.394454844792684\n",
            "k= 42 time= 4.498885850111644\n",
            "k= 43 time= 4.602477896213531\n",
            "k= 44 time= 4.709480460484823\n",
            "k= 45 time= 4.814697726567586\n",
            "k= 46 time= 4.920649007956187\n",
            "k= 47 time= 5.026087828477224\n",
            "k= 48 time= 5.135189890861511\n",
            "k= 49 time= 5.245075535774231\n"
          ],
          "name": "stdout"
        }
      ]
    },
    {
      "cell_type": "code",
      "metadata": {
        "colab": {
          "base_uri": "https://localhost:8080/"
        },
        "id": "TLEE0UrZSvJF",
        "outputId": "8f7a8a4a-57f4-4cd5-b944-99c56c4854df"
      },
      "source": [
        "NPAR1"
      ],
      "execution_count": 16,
      "outputs": [
        {
          "output_type": "execute_result",
          "data": {
            "text/plain": [
              "15"
            ]
          },
          "metadata": {
            "tags": []
          },
          "execution_count": 16
        }
      ]
    },
    {
      "cell_type": "code",
      "metadata": {
        "id": "k3p9TGsx1OCu"
      },
      "source": [
        "NOMES=['DIVERSIDADE (DI)',  'DI RELATIVO','FRAC Its',\n",
        "           'VELOC FOBJ','VELOC X','NP','Fo','CRo','fmin','fmax',\n",
        "           'AD_fmin','AD_fmax','DELTA FOBJ','DELTA VX','r_fitness',\n",
        "           'F','CR']\n",
        "# BEST_INDEX= BEST_AGENTS[BEST_AGENTS[:,-1].argmin()]  \n",
        "BEST_INDEX = np.argmin(BEST_AGENTS[:,-1])\n",
        "df=pd.DataFrame(MAT_stat[BEST_INDEX], columns=NOMES)\n",
        "\n"
      ],
      "execution_count": 17,
      "outputs": []
    },
    {
      "cell_type": "code",
      "metadata": {
        "id": "jIHiKR_t1xxs",
        "colab": {
          "base_uri": "https://localhost:8080/"
        },
        "outputId": "64026193-039b-4679-ea7a-121d2b403ab5"
      },
      "source": [
        "pd.set_option('display.max_columns', 30)  \n",
        "print(df)"
      ],
      "execution_count": 18,
      "outputs": [
        {
          "output_type": "stream",
          "text": [
            "    DIVERSIDADE (DI)  DI RELATIVO      FRAC Its  VELOC FOBJ  VELOC X    NP  \\\n",
            "0          55.812518     1.000000  7.500000e-07         0.0      0.0  15.0   \n",
            "1          57.903058     1.037456  1.500000e-06         2.0      2.0  15.0   \n",
            "2          58.619959     1.050301  2.250000e-06         1.0      2.0  15.0   \n",
            "3          57.800627     1.035621  3.000000e-06         0.0      0.0  15.0   \n",
            "4          57.800627     1.035621  3.750000e-06         0.0      0.0  15.0   \n",
            "..               ...          ...           ...         ...      ...   ...   \n",
            "95         54.600839     0.978290  7.200000e-05         0.0      0.0  15.0   \n",
            "96         54.600839     0.978290  7.275000e-05         0.0      0.0  15.0   \n",
            "97         54.600839     0.978290  7.350000e-05         0.0      0.0  15.0   \n",
            "98         54.600839     0.978290  7.425000e-05         0.0      0.0  15.0   \n",
            "99         54.600393     0.978282  7.500000e-05         1.0      2.0  15.0   \n",
            "\n",
            "          Fo       CRo          fmin          fmax  AD_fmin  AD_fmax  \\\n",
            "0   0.500000  0.500000  1.000000e+99  1.000000e+99      1.0      1.0   \n",
            "1   0.250000  0.333333  3.812990e+04  1.000000e+99      1.0      1.0   \n",
            "2   0.444523  0.218060  3.277136e+04  1.000000e+99      1.0      1.0   \n",
            "3   0.211082  0.141717  3.277136e+04  1.000000e+99      1.0      1.0   \n",
            "4   0.375032  0.215100  3.277136e+04  1.000000e+99      1.0      1.0   \n",
            "..       ...       ...           ...           ...      ...      ...   \n",
            "95  0.287283  0.066894  1.318235e+04  1.000000e+99      1.0      1.0   \n",
            "96  0.146760  0.099615  1.318235e+04  1.000000e+99      1.0      1.0   \n",
            "97  0.254440  0.067131  1.318235e+04  1.000000e+99      1.0      1.0   \n",
            "98  0.441127  0.099967  1.318235e+04  1.000000e+99      1.0      1.0   \n",
            "99  0.225352  0.067368  1.317967e+04  1.000000e+99      1.0      1.0   \n",
            "\n",
            "    DELTA FOBJ  DELTA VX  r_fitness         F        CR  \n",
            "0          0.0       0.0        0.0  0.250000  0.333333  \n",
            "1          0.0       0.0        1.0  0.444523  0.218060  \n",
            "2          0.0       0.0        1.0  0.211082  0.141717  \n",
            "3          0.0       0.0        1.0  0.375032  0.215100  \n",
            "4          0.0       0.0        1.0  0.666325  0.140846  \n",
            "..         ...       ...        ...       ...       ...  \n",
            "95         0.0       0.0        1.0  0.146760  0.099615  \n",
            "96         0.0       0.0        1.0  0.254440  0.067131  \n",
            "97         0.0       0.0        1.0  0.441127  0.099967  \n",
            "98         0.0       0.0        1.0  0.225352  0.067368  \n",
            "99         0.0       0.0        1.0  0.390695  0.100321  \n",
            "\n",
            "[100 rows x 17 columns]\n"
          ],
          "name": "stdout"
        }
      ]
    },
    {
      "cell_type": "code",
      "metadata": {
        "id": "bx0ywpMtAAjw",
        "colab": {
          "base_uri": "https://localhost:8080/",
          "height": 297
        },
        "outputId": "d42d637f-e252-4b83-a457-ce572fa4de65"
      },
      "source": [
        "plt.plot(df['FRAC Its'],df['CR'])\n",
        "plt.xlabel('Iteração/Total')\n",
        "plt.ylabel('CR')"
      ],
      "execution_count": 19,
      "outputs": [
        {
          "output_type": "execute_result",
          "data": {
            "text/plain": [
              "Text(0, 0.5, 'CR')"
            ]
          },
          "metadata": {
            "tags": []
          },
          "execution_count": 19
        },
        {
          "output_type": "display_data",
          "data": {
            "image/png": "[encoded data removed]",
            "text/plain": [
              "<Figure size 432x288 with 1 Axes>"
            ]
          },
          "metadata": {
            "tags": [],
            "needs_background": "light"
          }
        }
      ]
    },
    {
      "cell_type": "code",
      "metadata": {
        "id": "BvPFvbDvteDC",
        "colab": {
          "base_uri": "https://localhost:8080/",
          "height": 295
        },
        "outputId": "847d439b-3985-44c9-9441-b97de2bf0e4e"
      },
      "source": [
        "\n",
        "fig, ax = plt.subplots()\n",
        "ax.plot(df['FRAC Its'],df['F'],label='F')\n",
        "ax.set_xlabel('Iteração/Total')\n",
        "ax.set_ylabel('Parâmetros')\n",
        "ax.plot(df['FRAC Its'],df['CR'],'-r', label='CR')\n",
        "nome=Fun.__name__+'  M=Diversidade'+ '  D='+str(dim)\n",
        "ax.set_title(nome)\n",
        "leg = ax.legend()\n"
      ],
      "execution_count": 20,
      "outputs": [
        {
          "output_type": "display_data",
          "data": {
            "image/png": "[encoded data removed]",
            "text/plain": [
              "<Figure size 432x288 with 1 Axes>"
            ]
          },
          "metadata": {
            "tags": [],
            "needs_background": "light"
          }
        }
      ]
    },
    {
      "cell_type": "code",
      "metadata": {
        "id": "htooaGpDia_0",
        "colab": {
          "base_uri": "https://localhost:8080/",
          "height": 313
        },
        "outputId": "db5bb609-5518-4f7c-8207-3bfb6e29ab2e"
      },
      "source": [
        "f, axarr = plt.subplots(2, sharex=True)\n",
        "axarr[0].plot(df['FRAC Its'],df['F'])\n",
        "axarr[0].set_ylabel('F')\n",
        "axarr[1].plot(df['FRAC Its'],df['CR'])\n",
        "axarr[1].set_ylabel('CR')\n",
        "axarr[1].set_xlabel('Iteração/Total')\n",
        "nome=Fun.__name__+'_Diversidade_'+ 'D='+str(dim)\n",
        "axarr[0].set_title(nome)\n"
      ],
      "execution_count": 21,
      "outputs": [
        {
          "output_type": "execute_result",
          "data": {
            "text/plain": [
              "Text(0.5, 1.0, 'Fun_Diversidade_D=12')"
            ]
          },
          "metadata": {
            "tags": []
          },
          "execution_count": 21
        },
        {
          "output_type": "display_data",
          "data": {
            "image/png": "[encoded data removed]",
            "text/plain": [
              "<Figure size 432x288 with 2 Axes>"
            ]
          },
          "metadata": {
            "tags": [],
            "needs_background": "light"
          }
        }
      ]
    },
    {
      "cell_type": "code",
      "metadata": {
        "id": "lNSN5X-wskcx",
        "colab": {
          "base_uri": "https://localhost:8080/"
        },
        "outputId": "67e6e105-104b-4648-90c0-6646000a8bbb"
      },
      "source": [
        "nome='_ANN_Div3x4_Fo-'+str(Fi)+'_CRo-'+str(CRi)+'_D-'+str(dim)+'_Interv-'+str(ITE)\n",
        "print('DE_POP_VAR_F_CR','TOTAL=',TOTAL,'Iterações=',ITE*its,'Dim=', PAR,\"Min/Max=\",MIN[0],\"/\",MAX[0],'_',Fun.__name__)\n",
        "print(nome, '\\n')\n",
        "#print('BEST: ',BEST)\n",
        "#print('MÉDIA: ',MEAN)\n",
        "print('MÉDIA: ',MEAN[-1])\n",
        "print('MIN __:',MINFO)\n",
        "print('MAX__: ',MAXFO)\n",
        "print('STD __:',STD)\n",
        "print(\"Tempo Médio= %.3f segundos ---\" % (TIME))\n",
        "print(RUNS,'Rodadas') \n",
        "print()\n",
        "print('BEST: ',BEST)\n",
        "# print('melhor=',BEST_AGENTS[BEST_INDEX])"
      ],
      "execution_count": 22,
      "outputs": [
        {
          "output_type": "stream",
          "text": [
            "DE_POP_VAR_F_CR TOTAL= 20000000 Iterações= 100 Dim= 12 Min/Max= 2 / 3 _ Fun\n",
            "_ANN_Div3x4_Fo-0.5_CRo-0.5_D-12_Interv-100 \n",
            "\n",
            "MÉDIA:  19322.827684815657\n",
            "MIN __: 13179.672654311165\n",
            "MAX__:  28154.787545733652\n",
            "STD __: 3099.5126454467763\n",
            "Tempo Médio= 6.294 segundos ---\n",
            "50 Rodadas\n",
            "\n",
            "BEST:  [ 2.60476003e+00  2.00000000e+00  2.52857356e+00  2.40827783e+00\n",
            "  2.53491731e-01  0.00000000e+00  8.94034537e-01  1.00000000e+00\n",
            " -3.91846477e+01 -2.05407293e+01 -5.72923746e+01 -2.65745787e+01\n",
            "  1.31796727e+04]\n"
          ],
          "name": "stdout"
        }
      ]
    },
    {
      "cell_type": "code",
      "metadata": {
        "id": "03bXfFBnbY77",
        "colab": {
          "base_uri": "https://localhost:8080/"
        },
        "outputId": "a9876159-70c7-4f7c-ad52-a38b8e316f87"
      },
      "source": [
        "BEST=BEST[range(dim)]\n",
        "print(BEST)"
      ],
      "execution_count": 23,
      "outputs": [
        {
          "output_type": "stream",
          "text": [
            "[  2.60476003   2.           2.52857356   2.40827783   0.25349173\n",
            "   0.           0.89403454   1.         -39.18464768 -20.54072926\n",
            " -57.2923746  -26.5745787 ]\n"
          ],
          "name": "stdout"
        }
      ]
    },
    {
      "cell_type": "code",
      "metadata": {
        "id": "XuAmdoj7Zjvq",
        "colab": {
          "base_uri": "https://localhost:8080/"
        },
        "outputId": "ce689f99-5533-4ae0-ad61-acaf4327f412"
      },
      "source": [
        "Busca=Numb(BEST)\n",
        "print(pd.DataFrame(Busca))\n",
        "df=pd.DataFrame(Busca)"
      ],
      "execution_count": 24,
      "outputs": [
        {
          "output_type": "stream",
          "text": [
            "            0           1           2           3\n",
            "0  453.000000  393.000000  523.000000  533.000000\n",
            "1  453.000000  393.000000  523.000000  533.000000\n",
            "2  482.388486  393.000000  523.000000  493.815352\n",
            "3  490.091259  393.000000  502.459271  493.815352\n",
            "4  490.091259  478.938562  502.459271  436.522978\n",
            "5  490.091259  498.869496  475.884692  436.522978\n",
            "6  513.000000  508.000000  403.000000  433.000000\n",
            "7  513.000000  508.000000  403.000000  433.000000\n"
          ],
          "name": "stdout"
        }
      ]
    },
    {
      "cell_type": "code",
      "metadata": {
        "id": "oBDxe4JcZyZ7",
        "colab": {
          "base_uri": "https://localhost:8080/"
        },
        "outputId": "35985e89-0048-4a46-a88e-0f9e938a4743"
      },
      "source": [
        "print(df)"
      ],
      "execution_count": 25,
      "outputs": [
        {
          "output_type": "stream",
          "text": [
            "            0           1           2           3\n",
            "0  453.000000  393.000000  523.000000  533.000000\n",
            "1  453.000000  393.000000  523.000000  533.000000\n",
            "2  482.388486  393.000000  523.000000  493.815352\n",
            "3  490.091259  393.000000  502.459271  493.815352\n",
            "4  490.091259  478.938562  502.459271  436.522978\n",
            "5  490.091259  498.869496  475.884692  436.522978\n",
            "6  513.000000  508.000000  403.000000  433.000000\n",
            "7  513.000000  508.000000  403.000000  433.000000\n"
          ],
          "name": "stdout"
        }
      ]
    },
    {
      "cell_type": "code",
      "metadata": {
        "id": "D0Kz1xn0Z2S-",
        "colab": {
          "base_uri": "https://localhost:8080/",
          "height": 301
        },
        "outputId": "c9cd7fed-2106-4b81-cf51-6c1b5c713961"
      },
      "source": [
        "Streams=4\n",
        "Change=range(Streams+4) # Streams+4 so para ficar com um visual melhor\n",
        "for k in range(Streams):\n",
        "  plt.plot(Change,df.iloc[:,k])\n",
        "plt.xlabel('Stages')\n",
        "plt.ylabel('Temperature (K)')"
      ],
      "execution_count": 26,
      "outputs": [
        {
          "output_type": "execute_result",
          "data": {
            "text/plain": [
              "Text(0, 0.5, 'Temperature (K)')"
            ]
          },
          "metadata": {
            "tags": []
          },
          "execution_count": 26
        },
        {
          "output_type": "display_data",
          "data": {
            "image/png": "[encoded data removed]",
            "text/plain": [
              "<Figure size 432x288 with 1 Axes>"
            ]
          },
          "metadata": {
            "tags": [],
            "needs_background": "light"
          }
        }
      ]
    }
  ]
}
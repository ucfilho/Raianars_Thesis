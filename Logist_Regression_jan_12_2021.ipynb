{
  "nbformat": 4,
  "nbformat_minor": 0,
  "metadata": {
    "colab": {
      "name": "Untitled92.ipynb",
      "provenance": [],
      "authorship_tag": "ABX9TyOwx6XILB/LMeDPq+EgR7mj",
      "include_colab_link": true
    },
    "kernelspec": {
      "name": "python3",
      "display_name": "Python 3"
    }
  },
  "cells": [
    {
      "cell_type": "markdown",
      "metadata": {
        "id": "view-in-github",
        "colab_type": "text"
      },
      "source": [
        "<a href=\"https://colab.research.google.com/github/ucfilho/Raianars_Thesis/blob/main/Logist_Regression_jan_12_2021.ipynb\" target=\"_parent\"><img src=\"https://colab.research.google.com/assets/colab-badge.svg\" alt=\"Open In Colab\"/></a>"
      ]
    },
    {
      "cell_type": "code",
      "metadata": {
        "id": "dvUH5cXzEFDJ"
      },
      "source": [
        "import numpy as np\r\n",
        "import matplotlib.pyplot as plt"
      ],
      "execution_count": 1,
      "outputs": []
    },
    {
      "cell_type": "code",
      "metadata": {
        "colab": {
          "base_uri": "https://localhost:8080/",
          "height": 301
        },
        "id": "1kKCmTwYBxIg",
        "outputId": "94a99589-523e-4fe1-8d2b-85b1c34c86c5"
      },
      "source": [
        "Nr=10;N=200; a = -8.0; b= 8.0;\r\n",
        "x = np.linspace( a,b, N )\r\n",
        "xr = np.linspace( a,b, Nr )\r\n",
        "t = [-7.5,-6.5, -5.5, 5.5,6.5,7.5]\r\n",
        "yr = [0.5 for xi in xr]\r\n",
        "xr = np.linspace( a,b, Nr )\r\n",
        "y=[1.0/(1+np.exp(-xi)) for xi in x]\r\n",
        "yt=[1.0/(1+np.exp(-ti)) for ti in t]\r\n",
        "\r\n",
        "plt.xlim(a, b)\r\n",
        "plt.plot(t, yt, 'ro')\r\n",
        "plt.plot(xr,yr,'k--')\r\n",
        "plt.ylim(-0.1, 1.1)\r\n",
        "plt.plot(x,y)\r\n",
        "plt.grid(True, linewidth=1,color='gray')\r\n",
        "plt.xlabel('x', fontsize=15, fontweight='normal')\r\n",
        "plt.ylabel('prob', fontsize=15, fontweight='normal')\r\n",
        "\r\n",
        "# plt.plot(x, y, 'ko--', X_F, Y_CR, 'k^-', linewidth=2, markersize=6)\r\n",
        "# plt.legend( ('F', 'CR'), loc=[0.7,0.8], fontsize=10)\r\n",
        "# plt.text(-0.2,1.6,Legends[i],fontsize=16)\r\n",
        "#  plt.xlabel('Fraction iterations', fontsize=11, fontweight='bold')\r\n",
        "# plt.ylabel('F and CR', fontsize=11, fontweight='bold')\r\n",
        "# plt.grid(True, linewidth=1,color='gray')\r\n",
        "#  plt.tick_params(axis='both', which='major', labelsize=15)"
      ],
      "execution_count": 26,
      "outputs": [
        {
          "output_type": "execute_result",
          "data": {
            "text/plain": [
              "Text(0, 0.5, 'prob')"
            ]
          },
          "metadata": {
            "tags": []
          },
          "execution_count": 26
        },
        {
          "output_type": "display_data",
          "data": {
            "image/png": "[encoded data removed]",
            "text/plain": [
              "<Figure size 432x288 with 1 Axes>"
            ]
          },
          "metadata": {
            "tags": [],
            "needs_background": "light"
          }
        }
      ]
    }
  ]
}
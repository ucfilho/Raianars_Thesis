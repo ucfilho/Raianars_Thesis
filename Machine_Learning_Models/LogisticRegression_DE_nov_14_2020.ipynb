{
  "nbformat": 4,
  "nbformat_minor": 0,
  "metadata": {
    "colab": {
      "name": "LogisticRegression_DE_nov_14_2020.ipynb",
      "provenance": [],
      "authorship_tag": "ABX9TyNq28bqyyFOOATXjE12ARIc",
      "include_colab_link": true
    },
    "kernelspec": {
      "name": "python3",
      "display_name": "Python 3"
    }
  },
  "cells": [
    {
      "cell_type": "markdown",
      "metadata": {
        "id": "view-in-github",
        "colab_type": "text"
      },
      "source": [
        "<a href=\"https://colab.research.google.com/github/ucfilho/Raianars_Thesis/blob/main/Machine_Learning_Models/LogisticRegression_DE_nov_14_2020.ipynb\" target=\"_parent\"><img src=\"https://colab.research.google.com/assets/colab-badge.svg\" alt=\"Open In Colab\"/></a>"
      ]
    },
    {
      "cell_type": "code",
      "metadata": {
        "id": "Q0B8coo9rXd8"
      },
      "source": [
        "import pandas as pd\n",
        "import numpy as np\n",
        "from sklearn.preprocessing import MinMaxScaler\n",
        "from sklearn.linear_model import LogisticRegression\n",
        "from sklearn.model_selection import train_test_split\n",
        "from sklearn.metrics import classification_report, confusion_matrix\n",
        "from sklearn import metrics"
      ],
      "execution_count": 22,
      "outputs": []
    },
    {
      "cell_type": "code",
      "metadata": {
        "id": "Q_a5brSpQMWH"
      },
      "source": [
        "def Confusion(X):\n",
        "  TN, FP, FN, TP = X.ravel()\n",
        "  A=(TP+TN)/(TP+TN+FP+FN)*100 #Acuracy\n",
        "  P=TP/(TP+FP)*100 # Precision\n",
        "  R=TP/(TP+FN)*100 # Recall\n",
        "  S=TN/(TN+FP)*100 # Specificity\n",
        "  F1=2*TP/(2*TP+FP+FN)*100 # F1 score\n",
        "\n",
        "  return A,P,R,S,F1"
      ],
      "execution_count": 23,
      "outputs": []
    },
    {
      "cell_type": "code",
      "metadata": {
        "id": "h9ySh6JJrm_A",
        "outputId": "172e4f91-c189-495b-fa3e-17ff7fbe7c71",
        "colab": {
          "base_uri": "https://localhost:8080/"
        }
      },
      "source": [
        "#!git clone https://github.com/ucfilho/Raianars_Thesis/Machine_Learning_Models/ #clonar do Github\n",
        "!git clone https://github.com/ucfilho/Raianars_Thesis/\n",
        "#%cd Machine_Learning_Models/Machine_Learning_Models/\n",
        "%cd Raianars_Thesis"
      ],
      "execution_count": 24,
      "outputs": [
        {
          "output_type": "stream",
          "text": [
            "Cloning into 'Raianars_Thesis'...\n",
            "remote: Enumerating objects: 52, done.\u001b[K\n",
            "remote: Counting objects: 100% (52/52), done.\u001b[K\n",
            "remote: Compressing objects: 100% (48/48), done.\u001b[K\n",
            "remote: Total 52 (delta 12), reused 0 (delta 0), pack-reused 0\u001b[K\n",
            "Unpacking objects: 100% (52/52), done.\n",
            "/content/Raianars_Thesis/Raianars_Thesis\n"
          ],
          "name": "stdout"
        }
      ]
    },
    {
      "cell_type": "code",
      "metadata": {
        "id": "mUMZt1oSsY0O"
      },
      "source": [
        "Name='Machine_Learning_Models/XY_D10_30_out_7_2019.csv'\n",
        "df = pd.read_csv(Name)"
      ],
      "execution_count": 25,
      "outputs": []
    },
    {
      "cell_type": "code",
      "metadata": {
        "id": "FqcMCR9gxIpA"
      },
      "source": [
        "Columns =['DI RELATIVO', 'FRAC Its',  'Fo', 'CRo','F','CR']\n",
        "pd.set_option('display.max_rows', 140)\n",
        "pd.set_option('display.max_rows', 30)\n",
        "df = df[Columns]"
      ],
      "execution_count": 26,
      "outputs": []
    },
    {
      "cell_type": "code",
      "metadata": {
        "id": "7uLcEyH6si7K",
        "outputId": "163c90cd-cc19-4fc6-a51e-53fb177095b2",
        "colab": {
          "base_uri": "https://localhost:8080/"
        }
      },
      "source": [
        "print(df)"
      ],
      "execution_count": 27,
      "outputs": [
        {
          "output_type": "stream",
          "text": [
            "     DI RELATIVO  FRAC Its        Fo       CRo         F        CR\n",
            "0       1.081077  0.200000  0.798558  0.531855  0.618503  0.966139\n",
            "1       1.091500  0.300000  0.618503  0.966139  0.627984  0.944441\n",
            "2       1.107599  0.400000  0.627984  0.944441  0.894793  0.571047\n",
            "3       1.144213  0.500000  0.894793  0.571047  0.901544  0.852554\n",
            "4       1.079718  0.600000  0.901544  0.852554  0.607277  0.962316\n",
            "..           ...       ...       ...       ...       ...       ...\n",
            "121     0.932264  0.720000  0.981445  0.988007  0.898388  0.103469\n",
            "122     0.928187  0.840000  0.898388  0.103469  0.565138  0.726098\n",
            "123     0.939966  0.960000  0.565138  0.726098  0.943371  0.268703\n",
            "124     0.939669  1.000033  0.943371  0.268703  0.579287  0.936870\n",
            "125     0.939669  1.000033  0.579287  0.936870  0.647907  0.309455\n",
            "\n",
            "[126 rows x 6 columns]\n"
          ],
          "name": "stdout"
        }
      ]
    },
    {
      "cell_type": "code",
      "metadata": {
        "id": "O-RUk7x00z2U"
      },
      "source": [
        "W=np.array(df['F'])\n",
        "Wo=np.array(df['Fo'])\n",
        "for i in range(len(W)):\n",
        "  W[i]=W[i]-Wo[i]\n",
        "  if(W[i]<0):\n",
        "    W[i]=-1\n",
        "  else:\n",
        "    W[i]=1\n",
        "df['F'] = W\n",
        "\n",
        "W=np.array(df['CR'])\n",
        "Wo=np.array(df['CRo'])\n",
        "for i in range(len(W)):\n",
        "  W[i]=W[i]-Wo[i]\n",
        "  if(W[i]<0):\n",
        "    W[i]=-1\n",
        "  else:\n",
        "    W[i]=1\n",
        "df['CR'] = W"
      ],
      "execution_count": 28,
      "outputs": []
    },
    {
      "cell_type": "code",
      "metadata": {
        "id": "2wDV3xa1-aEi"
      },
      "source": [
        ""
      ],
      "execution_count": 28,
      "outputs": []
    },
    {
      "cell_type": "code",
      "metadata": {
        "id": "OlcbLnk24c35",
        "outputId": "e019ef27-1972-4713-a8a4-64495f980f1b",
        "colab": {
          "base_uri": "https://localhost:8080/"
        }
      },
      "source": [
        "print(df)"
      ],
      "execution_count": 29,
      "outputs": [
        {
          "output_type": "stream",
          "text": [
            "     DI RELATIVO  FRAC Its        Fo       CRo    F   CR\n",
            "0       1.081077  0.200000  0.798558  0.531855 -1.0  1.0\n",
            "1       1.091500  0.300000  0.618503  0.966139  1.0 -1.0\n",
            "2       1.107599  0.400000  0.627984  0.944441  1.0 -1.0\n",
            "3       1.144213  0.500000  0.894793  0.571047  1.0  1.0\n",
            "4       1.079718  0.600000  0.901544  0.852554 -1.0  1.0\n",
            "..           ...       ...       ...       ...  ...  ...\n",
            "121     0.932264  0.720000  0.981445  0.988007 -1.0 -1.0\n",
            "122     0.928187  0.840000  0.898388  0.103469 -1.0  1.0\n",
            "123     0.939966  0.960000  0.565138  0.726098  1.0 -1.0\n",
            "124     0.939669  1.000033  0.943371  0.268703 -1.0  1.0\n",
            "125     0.939669  1.000033  0.579287  0.936870  1.0 -1.0\n",
            "\n",
            "[126 rows x 6 columns]\n"
          ],
          "name": "stdout"
        }
      ]
    },
    {
      "cell_type": "code",
      "metadata": {
        "id": "IH4VEEeV5jUg"
      },
      "source": [
        "Names_X= ['DI RELATIVO','FRAC Its','Fo','CRo']\n",
        "Name_Y =['F']  \n",
        "# Name_Y =['CR']  \n",
        "y=df[Name_Y]\n",
        "X=df[Names_X]                  "
      ],
      "execution_count": 30,
      "outputs": []
    },
    {
      "cell_type": "code",
      "metadata": {
        "id": "RiNily1b-gKI"
      },
      "source": [
        ""
      ],
      "execution_count": 30,
      "outputs": []
    },
    {
      "cell_type": "code",
      "metadata": {
        "id": "vRD1rDqQ5cOi"
      },
      "source": [
        "X_train, X_test, y_train, y_test = train_test_split(X, y, test_size=0.3, random_state=101)\n",
        "#scaler = StandardScaler() \n",
        "scaler = MinMaxScaler() \n",
        "scaler.fit(X_train) \n",
        "X_train = scaler.transform(X_train)\n",
        "X_test = scaler.transform(X_test)"
      ],
      "execution_count": 31,
      "outputs": []
    },
    {
      "cell_type": "code",
      "metadata": {
        "id": "BCpqrCMu6oYZ",
        "outputId": "f5087fe2-f5e9-4970-9a64-36d118cd27cc",
        "colab": {
          "base_uri": "https://localhost:8080/"
        }
      },
      "source": [
        "model = LogisticRegression()\n",
        "#Fitting training datas\n",
        "model.fit(X_train,y_train)"
      ],
      "execution_count": 32,
      "outputs": [
        {
          "output_type": "stream",
          "text": [
            "/usr/local/lib/python3.6/dist-packages/sklearn/utils/validation.py:760: DataConversionWarning: A column-vector y was passed when a 1d array was expected. Please change the shape of y to (n_samples, ), for example using ravel().\n",
            "  y = column_or_1d(y, warn=True)\n"
          ],
          "name": "stderr"
        },
        {
          "output_type": "execute_result",
          "data": {
            "text/plain": [
              "LogisticRegression(C=1.0, class_weight=None, dual=False, fit_intercept=True,\n",
              "                   intercept_scaling=1, l1_ratio=None, max_iter=100,\n",
              "                   multi_class='auto', n_jobs=None, penalty='l2',\n",
              "                   random_state=None, solver='lbfgs', tol=0.0001, verbose=0,\n",
              "                   warm_start=False)"
            ]
          },
          "metadata": {
            "tags": []
          },
          "execution_count": 32
        }
      ]
    },
    {
      "cell_type": "code",
      "metadata": {
        "id": "zINjIWY3BzPH"
      },
      "source": [
        "#Predicting new data\n",
        "predictions = model.predict(X_train)\n",
        "Mat_train = confusion_matrix(y_train,predictions)\n",
        "\n",
        "\n",
        "predictions = model.predict(X_test)\n",
        "Mat_test = confusion_matrix(y_test,predictions)"
      ],
      "execution_count": 33,
      "outputs": []
    },
    {
      "cell_type": "code",
      "metadata": {
        "id": "4955XZhxB2k0",
        "outputId": "8f1dcbb8-2c94-4350-9b04-b14ee9416980",
        "colab": {
          "base_uri": "https://localhost:8080/"
        }
      },
      "source": [
        "print(classification_report(y_test,predictions))\n",
        "print('\\n')\n",
        "print(confusion_matrix(y_test,predictions))"
      ],
      "execution_count": 34,
      "outputs": [
        {
          "output_type": "stream",
          "text": [
            "              precision    recall  f1-score   support\n",
            "\n",
            "        -1.0       0.53      0.40      0.46        20\n",
            "         1.0       0.48      0.61      0.54        18\n",
            "\n",
            "    accuracy                           0.50        38\n",
            "   macro avg       0.51      0.51      0.50        38\n",
            "weighted avg       0.51      0.50      0.49        38\n",
            "\n",
            "\n",
            "\n",
            "[[ 8 12]\n",
            " [ 7 11]]\n"
          ],
          "name": "stdout"
        }
      ]
    },
    {
      "cell_type": "code",
      "metadata": {
        "id": "-LHa26q_lT_j",
        "outputId": "fa80f15b-4ca8-48b6-ef9e-377621f041ab",
        "colab": {
          "base_uri": "https://localhost:8080/"
        }
      },
      "source": [
        "A,P,R,S,F1=Confusion(Mat_train)\n",
        "print(\"=======F's classification train:=======\")\n",
        "print(\" Accuracy=%f \\n Precision=%f \\n Recall=%f \\n Specificity=%f \\n F1 score=%f \\n\"%(A,P,R,S,F1))\n",
        "\n",
        "\n",
        "A,P,R,S,F1=Confusion(Mat_test )\n",
        "print(\"=======F's classification test:=========\")\n",
        "print(\" Accuracy=%f \\n Precision=%f \\n Recall=%f \\n Specificity=%f \\n F1 score=%f \\n\"%(A,P,R,S,F1))"
      ],
      "execution_count": 35,
      "outputs": [
        {
          "output_type": "stream",
          "text": [
            "=======F's classification train:=======\n",
            " Accuracy=68.181818 \n",
            " Precision=68.421053 \n",
            " Recall=61.904762 \n",
            " Specificity=73.913043 \n",
            " F1 score=65.000000 \n",
            "\n",
            "=======F's classification test:=========\n",
            " Accuracy=50.000000 \n",
            " Precision=47.826087 \n",
            " Recall=61.111111 \n",
            " Specificity=40.000000 \n",
            " F1 score=53.658537 \n",
            "\n"
          ],
          "name": "stdout"
        }
      ]
    },
    {
      "cell_type": "code",
      "metadata": {
        "id": "B3InRp9CD1h3"
      },
      "source": [
        "Names_X= ['DI RELATIVO','FRAC Its','Fo','CRo']\n",
        "Name_Y =['CR']  \n",
        "y=df[Name_Y]\n",
        "X=df[Names_X]   "
      ],
      "execution_count": 36,
      "outputs": []
    },
    {
      "cell_type": "code",
      "metadata": {
        "id": "cjtorOG5D8cP"
      },
      "source": [
        "X_train, X_test, y_train, y_test = train_test_split(X, y, test_size=0.3, random_state=101)\n",
        "#scaler = StandardScaler() \n",
        "scaler = MinMaxScaler() \n",
        "scaler.fit(X_train) \n",
        "X_train = scaler.transform(X_train)\n",
        "X_test = scaler.transform(X_test)"
      ],
      "execution_count": 37,
      "outputs": []
    },
    {
      "cell_type": "code",
      "metadata": {
        "id": "AAfaEVY0EASi",
        "outputId": "27edbae8-0d3e-49ad-9a4b-c65cac33af9e",
        "colab": {
          "base_uri": "https://localhost:8080/"
        }
      },
      "source": [
        "model = LogisticRegression()\n",
        "#Fitting training datas\n",
        "model.fit(X_train,y_train)"
      ],
      "execution_count": 38,
      "outputs": [
        {
          "output_type": "stream",
          "text": [
            "/usr/local/lib/python3.6/dist-packages/sklearn/utils/validation.py:760: DataConversionWarning: A column-vector y was passed when a 1d array was expected. Please change the shape of y to (n_samples, ), for example using ravel().\n",
            "  y = column_or_1d(y, warn=True)\n"
          ],
          "name": "stderr"
        },
        {
          "output_type": "execute_result",
          "data": {
            "text/plain": [
              "LogisticRegression(C=1.0, class_weight=None, dual=False, fit_intercept=True,\n",
              "                   intercept_scaling=1, l1_ratio=None, max_iter=100,\n",
              "                   multi_class='auto', n_jobs=None, penalty='l2',\n",
              "                   random_state=None, solver='lbfgs', tol=0.0001, verbose=0,\n",
              "                   warm_start=False)"
            ]
          },
          "metadata": {
            "tags": []
          },
          "execution_count": 38
        }
      ]
    },
    {
      "cell_type": "code",
      "metadata": {
        "id": "__QAJwfUEEYx"
      },
      "source": [
        "#Predicting new data\n",
        "predictions = model.predict(X_test)"
      ],
      "execution_count": 39,
      "outputs": []
    },
    {
      "cell_type": "code",
      "metadata": {
        "id": "XCDyLpuJEHED",
        "outputId": "c5efe570-6262-4ae7-c681-95c82636bd18",
        "colab": {
          "base_uri": "https://localhost:8080/"
        }
      },
      "source": [
        "print(classification_report(y_test,predictions))\n",
        "print('\\n')\n",
        "print(confusion_matrix(y_test,predictions))"
      ],
      "execution_count": 40,
      "outputs": [
        {
          "output_type": "stream",
          "text": [
            "              precision    recall  f1-score   support\n",
            "\n",
            "        -1.0       0.73      0.61      0.67        18\n",
            "         1.0       0.70      0.80      0.74        20\n",
            "\n",
            "    accuracy                           0.71        38\n",
            "   macro avg       0.71      0.71      0.71        38\n",
            "weighted avg       0.71      0.71      0.71        38\n",
            "\n",
            "\n",
            "\n",
            "[[11  7]\n",
            " [ 4 16]]\n"
          ],
          "name": "stdout"
        }
      ]
    },
    {
      "cell_type": "code",
      "metadata": {
        "id": "uY78pcMSsD9x",
        "outputId": "0e0f2c08-16d3-4925-9fc1-dc8e0f926a3f",
        "colab": {
          "base_uri": "https://localhost:8080/"
        }
      },
      "source": [
        "#Predicting new data\n",
        "predictions = model.predict(X_train)\n",
        "Mat_train = confusion_matrix(y_train,predictions)\n",
        "\n",
        "\n",
        "predictions = model.predict(X_test)\n",
        "Mat_test = confusion_matrix(y_test,predictions)\n",
        "\n",
        "A,P,R,S,F1=Confusion(Mat_train)\n",
        "print(\"=======CR's classification train:=======\")\n",
        "print(\" Accuracy=%f \\n Precision=%f \\n Recall=%f \\n Specificity=%f \\n F1 score=%f \\n\"%(A,P,R,S,F1))\n",
        "\n",
        "\n",
        "A,P,R,S,F1=Confusion(Mat_test )\n",
        "print(\"=======CR's classification test:=========\")\n",
        "print(\" Accuracy=%f \\n Precision=%f \\n Recall=%f \\n Specificity=%f \\n F1 score=%f \\n\"%(A,P,R,S,F1))"
      ],
      "execution_count": 41,
      "outputs": [
        {
          "output_type": "stream",
          "text": [
            "=======CR's classification train:=======\n",
            " Accuracy=65.909091 \n",
            " Precision=63.636364 \n",
            " Recall=66.666667 \n",
            " Specificity=65.217391 \n",
            " F1 score=65.116279 \n",
            "\n",
            "=======CR's classification test:=========\n",
            " Accuracy=71.052632 \n",
            " Precision=69.565217 \n",
            " Recall=80.000000 \n",
            " Specificity=61.111111 \n",
            " F1 score=74.418605 \n",
            "\n"
          ],
          "name": "stdout"
        }
      ]
    }
  ]
}
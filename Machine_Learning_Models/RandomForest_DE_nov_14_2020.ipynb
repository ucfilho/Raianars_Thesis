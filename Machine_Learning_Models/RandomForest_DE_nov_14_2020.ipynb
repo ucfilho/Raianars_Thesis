{
  "nbformat": 4,
  "nbformat_minor": 0,
  "metadata": {
    "colab": {
      "name": "RandomForest_DE_nov_14_2020.ipynb",
      "provenance": [],
      "authorship_tag": "ABX9TyMgmacX2Ek7XibiyCkhPnyB",
      "include_colab_link": true
    },
    "kernelspec": {
      "name": "python3",
      "display_name": "Python 3"
    }
  },
  "cells": [
    {
      "cell_type": "markdown",
      "metadata": {
        "id": "view-in-github",
        "colab_type": "text"
      },
      "source": [
        "<a href=\"https://colab.research.google.com/github/ucfilho/Raianars_Thesis/blob/main/Machine_Learning_Models/RandomForest_DE_nov_14_2020.ipynb\" target=\"_parent\"><img src=\"https://colab.research.google.com/assets/colab-badge.svg\" alt=\"Open In Colab\"/></a>"
      ]
    },
    {
      "cell_type": "code",
      "metadata": {
        "id": "Q0B8coo9rXd8"
      },
      "source": [
        "import pandas as pd\n",
        "import numpy as np\n",
        "from sklearn.preprocessing import MinMaxScaler\n",
        "#from sklearn.preprocessing import StandardScaler\n",
        "from sklearn.ensemble import RandomForestClassifier\n",
        "from sklearn.model_selection import train_test_split\n",
        "from sklearn.metrics import classification_report, confusion_matrix"
      ],
      "execution_count": 1,
      "outputs": []
    },
    {
      "cell_type": "code",
      "metadata": {
        "id": "h9ySh6JJrm_A",
        "outputId": "a28b073a-daca-4b9d-cc61-49d0d0fd4276",
        "colab": {
          "base_uri": "https://localhost:8080/"
        }
      },
      "source": [
        "#!git clone https://github.com/ucfilho/Raianars_Thesis/Machine_Learning_Models/ #clonar do Github\n",
        "!git clone https://github.com/ucfilho/Raianars_Thesis/\n",
        "#%cd Machine_Learning_Models/Machine_Learning_Models/\n",
        "%cd Raianars_Thesis"
      ],
      "execution_count": 2,
      "outputs": [
        {
          "output_type": "stream",
          "text": [
            "Cloning into 'Raianars_Thesis'...\n",
            "remote: Enumerating objects: 56, done.\u001b[K\n",
            "remote: Counting objects: 100% (56/56), done.\u001b[K\n",
            "remote: Compressing objects: 100% (52/52), done.\u001b[K\n",
            "remote: Total 56 (delta 14), reused 0 (delta 0), pack-reused 0\u001b[K\n",
            "Unpacking objects: 100% (56/56), done.\n",
            "/content/Raianars_Thesis\n"
          ],
          "name": "stdout"
        }
      ]
    },
    {
      "cell_type": "code",
      "metadata": {
        "id": "TMly_R0pv8AG"
      },
      "source": [
        "\n",
        "def Confusion(X):\n",
        "  TN, FP, FN, TP = X.ravel()\n",
        "  A=(TP+TN)/(TP+TN+FP+FN)*100 #Acuracy\n",
        "  P=TP/(TP+FP)*100 # Precision\n",
        "  R=TP/(TP+FN)*100 # Recall\n",
        "  S=TN/(TN+FP)*100 # Specificity\n",
        "  F1=2*TP/(2*TP+FP+FN)*100 # F1 score\n",
        "\n",
        "  return A,P,R,S,F1"
      ],
      "execution_count": 3,
      "outputs": []
    },
    {
      "cell_type": "code",
      "metadata": {
        "id": "mUMZt1oSsY0O"
      },
      "source": [
        "Name='Machine_Learning_Models/XY_D10_30_out_7_2019.csv'\n",
        "df = pd.read_csv(Name)"
      ],
      "execution_count": 4,
      "outputs": []
    },
    {
      "cell_type": "code",
      "metadata": {
        "id": "FqcMCR9gxIpA"
      },
      "source": [
        "Columns =['DI RELATIVO', 'FRAC Its',  'Fo', 'CRo','F','CR']\n",
        "pd.set_option('display.max_rows', 140)\n",
        "pd.set_option('display.max_rows', 30)\n",
        "df = df[Columns]"
      ],
      "execution_count": 5,
      "outputs": []
    },
    {
      "cell_type": "code",
      "metadata": {
        "id": "7uLcEyH6si7K",
        "outputId": "f4517930-4d4b-421a-8d39-56e1aa4803d9",
        "colab": {
          "base_uri": "https://localhost:8080/"
        }
      },
      "source": [
        "print(df)"
      ],
      "execution_count": 6,
      "outputs": [
        {
          "output_type": "stream",
          "text": [
            "     DI RELATIVO  FRAC Its        Fo       CRo         F        CR\n",
            "0       1.081077  0.200000  0.798558  0.531855  0.618503  0.966139\n",
            "1       1.091500  0.300000  0.618503  0.966139  0.627984  0.944441\n",
            "2       1.107599  0.400000  0.627984  0.944441  0.894793  0.571047\n",
            "3       1.144213  0.500000  0.894793  0.571047  0.901544  0.852554\n",
            "4       1.079718  0.600000  0.901544  0.852554  0.607277  0.962316\n",
            "..           ...       ...       ...       ...       ...       ...\n",
            "121     0.932264  0.720000  0.981445  0.988007  0.898388  0.103469\n",
            "122     0.928187  0.840000  0.898388  0.103469  0.565138  0.726098\n",
            "123     0.939966  0.960000  0.565138  0.726098  0.943371  0.268703\n",
            "124     0.939669  1.000033  0.943371  0.268703  0.579287  0.936870\n",
            "125     0.939669  1.000033  0.579287  0.936870  0.647907  0.309455\n",
            "\n",
            "[126 rows x 6 columns]\n"
          ],
          "name": "stdout"
        }
      ]
    },
    {
      "cell_type": "code",
      "metadata": {
        "id": "O-RUk7x00z2U"
      },
      "source": [
        "W=np.array(df['F'])\n",
        "Wo=np.array(df['Fo'])\n",
        "for i in range(len(W)):\n",
        "  W[i]=W[i]-Wo[i]\n",
        "  if(W[i]<0):\n",
        "    W[i]=-1\n",
        "  else:\n",
        "    W[i]=1\n",
        "df['F'] = W\n",
        "\n",
        "W=np.array(df['CR'])\n",
        "Wo=np.array(df['CRo'])\n",
        "for i in range(len(W)):\n",
        "  W[i]=W[i]-Wo[i]\n",
        "  if(W[i]<0):\n",
        "    W[i]=-1\n",
        "  else:\n",
        "    W[i]=1\n",
        "df['CR'] = W"
      ],
      "execution_count": 7,
      "outputs": []
    },
    {
      "cell_type": "code",
      "metadata": {
        "id": "2wDV3xa1-aEi"
      },
      "source": [
        ""
      ],
      "execution_count": 7,
      "outputs": []
    },
    {
      "cell_type": "code",
      "metadata": {
        "id": "OlcbLnk24c35",
        "outputId": "50a052bd-19d8-4b1f-84d7-690f8a1a8769",
        "colab": {
          "base_uri": "https://localhost:8080/"
        }
      },
      "source": [
        "print(df)"
      ],
      "execution_count": 8,
      "outputs": [
        {
          "output_type": "stream",
          "text": [
            "     DI RELATIVO  FRAC Its        Fo       CRo    F   CR\n",
            "0       1.081077  0.200000  0.798558  0.531855 -1.0  1.0\n",
            "1       1.091500  0.300000  0.618503  0.966139  1.0 -1.0\n",
            "2       1.107599  0.400000  0.627984  0.944441  1.0 -1.0\n",
            "3       1.144213  0.500000  0.894793  0.571047  1.0  1.0\n",
            "4       1.079718  0.600000  0.901544  0.852554 -1.0  1.0\n",
            "..           ...       ...       ...       ...  ...  ...\n",
            "121     0.932264  0.720000  0.981445  0.988007 -1.0 -1.0\n",
            "122     0.928187  0.840000  0.898388  0.103469 -1.0  1.0\n",
            "123     0.939966  0.960000  0.565138  0.726098  1.0 -1.0\n",
            "124     0.939669  1.000033  0.943371  0.268703 -1.0  1.0\n",
            "125     0.939669  1.000033  0.579287  0.936870  1.0 -1.0\n",
            "\n",
            "[126 rows x 6 columns]\n"
          ],
          "name": "stdout"
        }
      ]
    },
    {
      "cell_type": "code",
      "metadata": {
        "id": "IH4VEEeV5jUg"
      },
      "source": [
        "Names_X= ['DI RELATIVO','FRAC Its','Fo','CRo']\n",
        "Name_Y =['F']  \n",
        "# Name_Y =['CR']  \n",
        "y=df[Name_Y]\n",
        "X=df[Names_X]                  "
      ],
      "execution_count": 9,
      "outputs": []
    },
    {
      "cell_type": "code",
      "metadata": {
        "id": "RiNily1b-gKI"
      },
      "source": [
        ""
      ],
      "execution_count": 9,
      "outputs": []
    },
    {
      "cell_type": "code",
      "metadata": {
        "id": "vRD1rDqQ5cOi"
      },
      "source": [
        "X_train, X_test, y_train, y_test = train_test_split(X, y, test_size=0.3, random_state=101)\n",
        "#scaler = StandardScaler() \n",
        "scaler = MinMaxScaler() \n",
        "scaler.fit(X_train) \n",
        "X_train = scaler.transform(X_train)\n",
        "X_test = scaler.transform(X_test)"
      ],
      "execution_count": 10,
      "outputs": []
    },
    {
      "cell_type": "code",
      "metadata": {
        "id": "BCpqrCMu6oYZ",
        "outputId": "13cb0e0b-0107-4083-d711-ef414472e8b9",
        "colab": {
          "base_uri": "https://localhost:8080/"
        }
      },
      "source": [
        "#model = RandomForestClassifier(max_depth=2,n_estimators=1000, random_state=101)\n",
        "model = RandomForestClassifier(max_depth=None,n_estimators=2000, random_state=101)\n",
        "model.fit(X_train, y_train)"
      ],
      "execution_count": 11,
      "outputs": [
        {
          "output_type": "stream",
          "text": [
            "/usr/local/lib/python3.6/dist-packages/ipykernel_launcher.py:3: DataConversionWarning: A column-vector y was passed when a 1d array was expected. Please change the shape of y to (n_samples,), for example using ravel().\n",
            "  This is separate from the ipykernel package so we can avoid doing imports until\n"
          ],
          "name": "stderr"
        },
        {
          "output_type": "execute_result",
          "data": {
            "text/plain": [
              "RandomForestClassifier(bootstrap=True, ccp_alpha=0.0, class_weight=None,\n",
              "                       criterion='gini', max_depth=None, max_features='auto',\n",
              "                       max_leaf_nodes=None, max_samples=None,\n",
              "                       min_impurity_decrease=0.0, min_impurity_split=None,\n",
              "                       min_samples_leaf=1, min_samples_split=2,\n",
              "                       min_weight_fraction_leaf=0.0, n_estimators=2000,\n",
              "                       n_jobs=None, oob_score=False, random_state=101,\n",
              "                       verbose=0, warm_start=False)"
            ]
          },
          "metadata": {
            "tags": []
          },
          "execution_count": 11
        }
      ]
    },
    {
      "cell_type": "code",
      "metadata": {
        "id": "zINjIWY3BzPH"
      },
      "source": [
        "#Predicting new data\n",
        "predictions = model.predict(X_train)\n",
        "Mat_train = confusion_matrix(y_train,predictions)\n",
        "\n",
        "\n",
        "predictions = model.predict(X_test)\n",
        "Mat_test = confusion_matrix(y_test,predictions)\n"
      ],
      "execution_count": 12,
      "outputs": []
    },
    {
      "cell_type": "code",
      "metadata": {
        "id": "4955XZhxB2k0",
        "outputId": "80a8bde5-9d78-47d6-dfb1-70224cdedae0",
        "colab": {
          "base_uri": "https://localhost:8080/"
        }
      },
      "source": [
        "print(classification_report(y_test,predictions))\n",
        "print('\\n')\n",
        "print(confusion_matrix(y_test,predictions))"
      ],
      "execution_count": 13,
      "outputs": [
        {
          "output_type": "stream",
          "text": [
            "              precision    recall  f1-score   support\n",
            "\n",
            "        -1.0       0.61      0.55      0.58        20\n",
            "         1.0       0.55      0.61      0.58        18\n",
            "\n",
            "    accuracy                           0.58        38\n",
            "   macro avg       0.58      0.58      0.58        38\n",
            "weighted avg       0.58      0.58      0.58        38\n",
            "\n",
            "\n",
            "\n",
            "[[11  9]\n",
            " [ 7 11]]\n"
          ],
          "name": "stdout"
        }
      ]
    },
    {
      "cell_type": "code",
      "metadata": {
        "id": "bZaGW-f0wSWs",
        "outputId": "9218e32d-0084-4434-c454-b64bab7f8fb4",
        "colab": {
          "base_uri": "https://localhost:8080/"
        }
      },
      "source": [
        "A,P,R,S,F1=Confusion(Mat_train)\n",
        "print(\"=======F's classification train:=======\")\n",
        "print(\" Accuracy=%f \\n Precision=%f \\n Recall=%f \\n Specificity=%f \\n F1 score=%f \\n\"%(A,P,R,S,F1))\n",
        "\n",
        "\n",
        "A,P,R,S,F1=Confusion(Mat_test )\n",
        "print(\"=======F's classification test:=========\")\n",
        "print(\" Accuracy=%f \\n Precision=%f \\n Recall=%f \\n Specificity=%f \\n F1 score=%f \\n\"%(A,P,R,S,F1))"
      ],
      "execution_count": 14,
      "outputs": [
        {
          "output_type": "stream",
          "text": [
            "=======F's classification train:=======\n",
            " Accuracy=100.000000 \n",
            " Precision=100.000000 \n",
            " Recall=100.000000 \n",
            " Specificity=100.000000 \n",
            " F1 score=100.000000 \n",
            "\n",
            "=======F's classification test:=========\n",
            " Accuracy=57.894737 \n",
            " Precision=55.000000 \n",
            " Recall=61.111111 \n",
            " Specificity=55.000000 \n",
            " F1 score=57.894737 \n",
            "\n"
          ],
          "name": "stdout"
        }
      ]
    },
    {
      "cell_type": "code",
      "metadata": {
        "id": "B3InRp9CD1h3"
      },
      "source": [
        "Names_X= ['DI RELATIVO','FRAC Its','Fo','CRo']\n",
        "Name_Y =['CR']  \n",
        "y=df[Name_Y]\n",
        "X=df[Names_X]   "
      ],
      "execution_count": 15,
      "outputs": []
    },
    {
      "cell_type": "code",
      "metadata": {
        "id": "cjtorOG5D8cP"
      },
      "source": [
        "X_train, X_test, y_train, y_test = train_test_split(X, y, test_size=0.3, random_state=101)\n",
        "#scaler = StandardScaler() \n",
        "scaler = MinMaxScaler() \n",
        "scaler.fit(X_train) \n",
        "X_train = scaler.transform(X_train)\n",
        "X_test = scaler.transform(X_test)"
      ],
      "execution_count": 16,
      "outputs": []
    },
    {
      "cell_type": "code",
      "metadata": {
        "id": "AAfaEVY0EASi",
        "outputId": "118add82-0ebf-4c1e-b818-100a7d2300a1",
        "colab": {
          "base_uri": "https://localhost:8080/"
        }
      },
      "source": [
        "#model = RandomForestClassifier(max_depth=2,n_estimators=1000, random_state=101)\n",
        "model = RandomForestClassifier(max_depth=None,n_estimators=2000, random_state=101)\n",
        "model.fit(X_train, y_train)"
      ],
      "execution_count": 17,
      "outputs": [
        {
          "output_type": "stream",
          "text": [
            "/usr/local/lib/python3.6/dist-packages/ipykernel_launcher.py:3: DataConversionWarning: A column-vector y was passed when a 1d array was expected. Please change the shape of y to (n_samples,), for example using ravel().\n",
            "  This is separate from the ipykernel package so we can avoid doing imports until\n"
          ],
          "name": "stderr"
        },
        {
          "output_type": "execute_result",
          "data": {
            "text/plain": [
              "RandomForestClassifier(bootstrap=True, ccp_alpha=0.0, class_weight=None,\n",
              "                       criterion='gini', max_depth=None, max_features='auto',\n",
              "                       max_leaf_nodes=None, max_samples=None,\n",
              "                       min_impurity_decrease=0.0, min_impurity_split=None,\n",
              "                       min_samples_leaf=1, min_samples_split=2,\n",
              "                       min_weight_fraction_leaf=0.0, n_estimators=2000,\n",
              "                       n_jobs=None, oob_score=False, random_state=101,\n",
              "                       verbose=0, warm_start=False)"
            ]
          },
          "metadata": {
            "tags": []
          },
          "execution_count": 17
        }
      ]
    },
    {
      "cell_type": "code",
      "metadata": {
        "id": "__QAJwfUEEYx"
      },
      "source": [
        "#Predicting new data\n",
        "predictions = model.predict(X_train)\n",
        "Mat_train = confusion_matrix(y_train,predictions)\n",
        "\n",
        "\n",
        "predictions = model.predict(X_test)\n",
        "Mat_test = confusion_matrix(y_test,predictions)"
      ],
      "execution_count": 18,
      "outputs": []
    },
    {
      "cell_type": "code",
      "metadata": {
        "id": "XCDyLpuJEHED",
        "outputId": "0a862370-5652-4d41-f391-8ebc8c308b24",
        "colab": {
          "base_uri": "https://localhost:8080/"
        }
      },
      "source": [
        "print(classification_report(y_test,predictions))\n",
        "print('\\n')\n",
        "print(confusion_matrix(y_test,predictions))"
      ],
      "execution_count": 19,
      "outputs": [
        {
          "output_type": "stream",
          "text": [
            "              precision    recall  f1-score   support\n",
            "\n",
            "        -1.0       0.80      0.89      0.84        18\n",
            "         1.0       0.89      0.80      0.84        20\n",
            "\n",
            "    accuracy                           0.84        38\n",
            "   macro avg       0.84      0.84      0.84        38\n",
            "weighted avg       0.85      0.84      0.84        38\n",
            "\n",
            "\n",
            "\n",
            "[[16  2]\n",
            " [ 4 16]]\n"
          ],
          "name": "stdout"
        }
      ]
    },
    {
      "cell_type": "code",
      "metadata": {
        "id": "Mdz0pgg6wnq5",
        "outputId": "78f87c25-dec5-4095-f021-84e3893428b8",
        "colab": {
          "base_uri": "https://localhost:8080/"
        }
      },
      "source": [
        "A,P,R,S,F1=Confusion(Mat_train)\n",
        "print(\"=======CR's classification train:=======\")\n",
        "print(\" Accuracy=%f \\n Precision=%f \\n Recall=%f \\n Specificity=%f \\n F1 score=%f \\n\"%(A,P,R,S,F1))\n",
        "\n",
        "\n",
        "A,P,R,S,F1=Confusion(Mat_test )\n",
        "print(\"=======CR's classification test:=========\")\n",
        "print(\" Accuracy=%f \\n Precision=%f \\n Recall=%f \\n Specificity=%f \\n F1 score=%f \\n\"%(A,P,R,S,F1))"
      ],
      "execution_count": 20,
      "outputs": [
        {
          "output_type": "stream",
          "text": [
            "=======CR's classification train:=======\n",
            " Accuracy=100.000000 \n",
            " Precision=100.000000 \n",
            " Recall=100.000000 \n",
            " Specificity=100.000000 \n",
            " F1 score=100.000000 \n",
            "\n",
            "=======CR's classification test:=========\n",
            " Accuracy=84.210526 \n",
            " Precision=88.888889 \n",
            " Recall=80.000000 \n",
            " Specificity=88.888889 \n",
            " F1 score=84.210526 \n",
            "\n"
          ],
          "name": "stdout"
        }
      ]
    }
  ]
}
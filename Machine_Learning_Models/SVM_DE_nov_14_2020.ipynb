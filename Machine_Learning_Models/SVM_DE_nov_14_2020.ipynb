{
  "nbformat": 4,
  "nbformat_minor": 0,
  "metadata": {
    "colab": {
      "name": "SVM_DE_nov_14_2020.ipynb",
      "provenance": [],
      "authorship_tag": "ABX9TyNvlUkMdHnOh1TwZ/PDi8SR",
      "include_colab_link": true
    },
    "kernelspec": {
      "name": "python3",
      "display_name": "Python 3"
    }
  },
  "cells": [
    {
      "cell_type": "markdown",
      "metadata": {
        "id": "view-in-github",
        "colab_type": "text"
      },
      "source": [
        "<a href=\"https://colab.research.google.com/github/ucfilho/Raianars_Thesis/blob/main/Machine_Learning_Models/SVM_DE_nov_14_2020.ipynb\" target=\"_parent\"><img src=\"https://colab.research.google.com/assets/colab-badge.svg\" alt=\"Open In Colab\"/></a>"
      ]
    },
    {
      "cell_type": "code",
      "metadata": {
        "id": "Q0B8coo9rXd8"
      },
      "source": [
        "import pandas as pd\n",
        "import numpy as np\n",
        "from sklearn.preprocessing import MinMaxScaler\n",
        "from sklearn import svm\n",
        "from sklearn.model_selection import train_test_split\n",
        "from sklearn.metrics import classification_report, confusion_matrix"
      ],
      "execution_count": 1,
      "outputs": []
    },
    {
      "cell_type": "code",
      "metadata": {
        "id": "h9ySh6JJrm_A",
        "outputId": "fee547c6-c509-406b-f816-0d445ba2d0d6",
        "colab": {
          "base_uri": "https://localhost:8080/"
        }
      },
      "source": [
        "#!git clone https://github.com/ucfilho/Raianars_Thesis/Machine_Learning_Models/ #clonar do Github\n",
        "!git clone https://github.com/ucfilho/Raianars_Thesis/\n",
        "#%cd Machine_Learning_Models/Machine_Learning_Models/\n",
        "%cd Raianars_Thesis"
      ],
      "execution_count": 2,
      "outputs": [
        {
          "output_type": "stream",
          "text": [
            "fatal: destination path 'Raianars_Thesis' already exists and is not an empty directory.\n",
            "/content/Raianars_Thesis\n"
          ],
          "name": "stdout"
        }
      ]
    },
    {
      "cell_type": "code",
      "metadata": {
        "id": "mUMZt1oSsY0O"
      },
      "source": [
        "Name='Machine_Learning_Models/XY_D10_30_out_7_2019.csv'\n",
        "df = pd.read_csv(Name)"
      ],
      "execution_count": 3,
      "outputs": []
    },
    {
      "cell_type": "code",
      "metadata": {
        "id": "FqcMCR9gxIpA"
      },
      "source": [
        "Columns =['DI RELATIVO', 'FRAC Its',  'Fo', 'CRo','F','CR']\n",
        "pd.set_option('display.max_rows', 140)\n",
        "pd.set_option('display.max_rows', 30)\n",
        "df = df[Columns]"
      ],
      "execution_count": 4,
      "outputs": []
    },
    {
      "cell_type": "code",
      "metadata": {
        "id": "7uLcEyH6si7K",
        "outputId": "48bb01c0-46a3-4872-f936-c5c991972f50",
        "colab": {
          "base_uri": "https://localhost:8080/"
        }
      },
      "source": [
        "print(df)"
      ],
      "execution_count": 5,
      "outputs": [
        {
          "output_type": "stream",
          "text": [
            "     DI RELATIVO  FRAC Its        Fo       CRo         F        CR\n",
            "0       1.081077  0.200000  0.798558  0.531855  0.618503  0.966139\n",
            "1       1.091500  0.300000  0.618503  0.966139  0.627984  0.944441\n",
            "2       1.107599  0.400000  0.627984  0.944441  0.894793  0.571047\n",
            "3       1.144213  0.500000  0.894793  0.571047  0.901544  0.852554\n",
            "4       1.079718  0.600000  0.901544  0.852554  0.607277  0.962316\n",
            "..           ...       ...       ...       ...       ...       ...\n",
            "121     0.932264  0.720000  0.981445  0.988007  0.898388  0.103469\n",
            "122     0.928187  0.840000  0.898388  0.103469  0.565138  0.726098\n",
            "123     0.939966  0.960000  0.565138  0.726098  0.943371  0.268703\n",
            "124     0.939669  1.000033  0.943371  0.268703  0.579287  0.936870\n",
            "125     0.939669  1.000033  0.579287  0.936870  0.647907  0.309455\n",
            "\n",
            "[126 rows x 6 columns]\n"
          ],
          "name": "stdout"
        }
      ]
    },
    {
      "cell_type": "code",
      "metadata": {
        "id": "O-RUk7x00z2U"
      },
      "source": [
        "W=np.array(df['F'])\n",
        "Wo=np.array(df['Fo'])\n",
        "for i in range(len(W)):\n",
        "  W[i]=W[i]-Wo[i]\n",
        "  if(W[i]<0):\n",
        "    W[i]=-1\n",
        "  else:\n",
        "    W[i]=1\n",
        "df['F'] = W\n",
        "\n",
        "W=np.array(df['CR'])\n",
        "Wo=np.array(df['CRo'])\n",
        "for i in range(len(W)):\n",
        "  W[i]=W[i]-Wo[i]\n",
        "  if(W[i]<0):\n",
        "    W[i]=-1\n",
        "  else:\n",
        "    W[i]=1\n",
        "df['CR'] = W"
      ],
      "execution_count": 6,
      "outputs": []
    },
    {
      "cell_type": "code",
      "metadata": {
        "id": "2wDV3xa1-aEi"
      },
      "source": [
        ""
      ],
      "execution_count": 6,
      "outputs": []
    },
    {
      "cell_type": "code",
      "metadata": {
        "id": "OlcbLnk24c35",
        "outputId": "378519ea-1105-4f9d-9d00-e763c434a8ac",
        "colab": {
          "base_uri": "https://localhost:8080/"
        }
      },
      "source": [
        "print(df)"
      ],
      "execution_count": 7,
      "outputs": [
        {
          "output_type": "stream",
          "text": [
            "     DI RELATIVO  FRAC Its        Fo       CRo    F   CR\n",
            "0       1.081077  0.200000  0.798558  0.531855 -1.0  1.0\n",
            "1       1.091500  0.300000  0.618503  0.966139  1.0 -1.0\n",
            "2       1.107599  0.400000  0.627984  0.944441  1.0 -1.0\n",
            "3       1.144213  0.500000  0.894793  0.571047  1.0  1.0\n",
            "4       1.079718  0.600000  0.901544  0.852554 -1.0  1.0\n",
            "..           ...       ...       ...       ...  ...  ...\n",
            "121     0.932264  0.720000  0.981445  0.988007 -1.0 -1.0\n",
            "122     0.928187  0.840000  0.898388  0.103469 -1.0  1.0\n",
            "123     0.939966  0.960000  0.565138  0.726098  1.0 -1.0\n",
            "124     0.939669  1.000033  0.943371  0.268703 -1.0  1.0\n",
            "125     0.939669  1.000033  0.579287  0.936870  1.0 -1.0\n",
            "\n",
            "[126 rows x 6 columns]\n"
          ],
          "name": "stdout"
        }
      ]
    },
    {
      "cell_type": "code",
      "metadata": {
        "id": "IH4VEEeV5jUg"
      },
      "source": [
        "Names_X= ['DI RELATIVO','FRAC Its','Fo','CRo']\n",
        "Name_Y =['F']  \n",
        "# Name_Y =['CR']  \n",
        "y=df[Name_Y]\n",
        "X=df[Names_X]                  "
      ],
      "execution_count": 8,
      "outputs": []
    },
    {
      "cell_type": "code",
      "metadata": {
        "id": "RiNily1b-gKI"
      },
      "source": [
        ""
      ],
      "execution_count": 8,
      "outputs": []
    },
    {
      "cell_type": "code",
      "metadata": {
        "id": "vRD1rDqQ5cOi"
      },
      "source": [
        "X_train, X_test, y_train, y_test = train_test_split(X, y, test_size=0.3, random_state=101)\n",
        "#scaler = StandardScaler() \n",
        "scaler = MinMaxScaler() \n",
        "scaler.fit(X_train) \n",
        "X_train = scaler.transform(X_train)\n",
        "X_test = scaler.transform(X_test)"
      ],
      "execution_count": 9,
      "outputs": []
    },
    {
      "cell_type": "code",
      "metadata": {
        "id": "BCpqrCMu6oYZ",
        "outputId": "bdda81ec-69af-4d73-f1b5-864711da8b05",
        "colab": {
          "base_uri": "https://localhost:8080/"
        }
      },
      "source": [
        "model = svm.SVC(kernel='rbf') # kernel='linear' # kernel='poly'\n",
        "model.fit(X_train, y_train)"
      ],
      "execution_count": 10,
      "outputs": [
        {
          "output_type": "stream",
          "text": [
            "/usr/local/lib/python3.6/dist-packages/sklearn/utils/validation.py:760: DataConversionWarning: A column-vector y was passed when a 1d array was expected. Please change the shape of y to (n_samples, ), for example using ravel().\n",
            "  y = column_or_1d(y, warn=True)\n"
          ],
          "name": "stderr"
        },
        {
          "output_type": "execute_result",
          "data": {
            "text/plain": [
              "SVC(C=1.0, break_ties=False, cache_size=200, class_weight=None, coef0=0.0,\n",
              "    decision_function_shape='ovr', degree=3, gamma='scale', kernel='rbf',\n",
              "    max_iter=-1, probability=False, random_state=None, shrinking=True,\n",
              "    tol=0.001, verbose=False)"
            ]
          },
          "metadata": {
            "tags": []
          },
          "execution_count": 10
        }
      ]
    },
    {
      "cell_type": "code",
      "metadata": {
        "id": "zINjIWY3BzPH"
      },
      "source": [
        "#Predicting new data\n",
        "predictions = model.predict(X_test)"
      ],
      "execution_count": 11,
      "outputs": []
    },
    {
      "cell_type": "code",
      "metadata": {
        "id": "4955XZhxB2k0",
        "outputId": "737de574-1c36-4fef-d2fe-3a9802844621",
        "colab": {
          "base_uri": "https://localhost:8080/"
        }
      },
      "source": [
        "print(classification_report(y_test,predictions))\n",
        "print('\\n')\n",
        "print(confusion_matrix(y_test,predictions))"
      ],
      "execution_count": 12,
      "outputs": [
        {
          "output_type": "stream",
          "text": [
            "              precision    recall  f1-score   support\n",
            "\n",
            "        -1.0       0.50      0.35      0.41        20\n",
            "         1.0       0.46      0.61      0.52        18\n",
            "\n",
            "    accuracy                           0.47        38\n",
            "   macro avg       0.48      0.48      0.47        38\n",
            "weighted avg       0.48      0.47      0.46        38\n",
            "\n",
            "\n",
            "\n",
            "[[ 7 13]\n",
            " [ 7 11]]\n"
          ],
          "name": "stdout"
        }
      ]
    },
    {
      "cell_type": "code",
      "metadata": {
        "id": "B3InRp9CD1h3"
      },
      "source": [
        "Names_X= ['DI RELATIVO','FRAC Its','Fo','CRo']\n",
        "Name_Y =['CR']  \n",
        "y=df[Name_Y]\n",
        "X=df[Names_X]   "
      ],
      "execution_count": 13,
      "outputs": []
    },
    {
      "cell_type": "code",
      "metadata": {
        "id": "cjtorOG5D8cP"
      },
      "source": [
        "X_train, X_test, y_train, y_test = train_test_split(X, y, test_size=0.3, random_state=101)\n",
        "#scaler = StandardScaler() \n",
        "scaler = MinMaxScaler() \n",
        "scaler.fit(X_train) \n",
        "X_train = scaler.transform(X_train)\n",
        "X_test = scaler.transform(X_test)"
      ],
      "execution_count": 14,
      "outputs": []
    },
    {
      "cell_type": "code",
      "metadata": {
        "id": "AAfaEVY0EASi",
        "outputId": "8ec9aa23-c3cf-474b-b23e-890d6c3daaa4",
        "colab": {
          "base_uri": "https://localhost:8080/"
        }
      },
      "source": [
        "model = svm.SVC(kernel='rbf') # kernel='linear' # kernel='poly'\n",
        "model.fit(X_train, y_train)"
      ],
      "execution_count": 15,
      "outputs": [
        {
          "output_type": "stream",
          "text": [
            "/usr/local/lib/python3.6/dist-packages/sklearn/utils/validation.py:760: DataConversionWarning: A column-vector y was passed when a 1d array was expected. Please change the shape of y to (n_samples, ), for example using ravel().\n",
            "  y = column_or_1d(y, warn=True)\n"
          ],
          "name": "stderr"
        },
        {
          "output_type": "execute_result",
          "data": {
            "text/plain": [
              "SVC(C=1.0, break_ties=False, cache_size=200, class_weight=None, coef0=0.0,\n",
              "    decision_function_shape='ovr', degree=3, gamma='scale', kernel='rbf',\n",
              "    max_iter=-1, probability=False, random_state=None, shrinking=True,\n",
              "    tol=0.001, verbose=False)"
            ]
          },
          "metadata": {
            "tags": []
          },
          "execution_count": 15
        }
      ]
    },
    {
      "cell_type": "code",
      "metadata": {
        "id": "__QAJwfUEEYx"
      },
      "source": [
        "#Predicting new data\n",
        "predictions = model.predict(X_test)"
      ],
      "execution_count": 16,
      "outputs": []
    },
    {
      "cell_type": "code",
      "metadata": {
        "id": "XCDyLpuJEHED",
        "outputId": "435672f2-3e6f-4aed-c827-6b58d997e27f",
        "colab": {
          "base_uri": "https://localhost:8080/"
        }
      },
      "source": [
        "print(classification_report(y_test,predictions))\n",
        "print('\\n')\n",
        "print(confusion_matrix(y_test,predictions))"
      ],
      "execution_count": 17,
      "outputs": [
        {
          "output_type": "stream",
          "text": [
            "              precision    recall  f1-score   support\n",
            "\n",
            "        -1.0       0.69      0.61      0.65        18\n",
            "         1.0       0.68      0.75      0.71        20\n",
            "\n",
            "    accuracy                           0.68        38\n",
            "   macro avg       0.68      0.68      0.68        38\n",
            "weighted avg       0.68      0.68      0.68        38\n",
            "\n",
            "\n",
            "\n",
            "[[11  7]\n",
            " [ 5 15]]\n"
          ],
          "name": "stdout"
        }
      ]
    }
  ]
}
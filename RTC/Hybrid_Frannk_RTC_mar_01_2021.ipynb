{
  "nbformat": 4,
  "nbformat_minor": 0,
  "metadata": {
    "colab": {
      "name": "Hybrid_Frannk_RTC_mar_01_2021.ipynb",
      "provenance": [],
      "collapsed_sections": [],
      "include_colab_link": true
    },
    "kernelspec": {
      "name": "python3",
      "display_name": "Python 3"
    },
    "language_info": {
      "codemirror_mode": {
        "name": "ipython",
        "version": 3
      },
      "file_extension": ".py",
      "mimetype": "text/x-python",
      "name": "python",
      "nbconvert_exporter": "python",
      "pygments_lexer": "ipython3",
      "version": "3.7.3"
    }
  },
  "cells": [
    {
      "cell_type": "markdown",
      "metadata": {
        "id": "view-in-github",
        "colab_type": "text"
      },
      "source": [
        "<a href=\"https://colab.research.google.com/github/ucfilho/Raianars_Thesis/blob/main/RTC/Hybrid_Frannk_RTC_mar_01_2021.ipynb\" target=\"_parent\"><img src=\"https://colab.research.google.com/assets/colab-badge.svg\" alt=\"Open In Colab\"/></a>"
      ]
    },
    {
      "cell_type": "code",
      "metadata": {
        "colab": {
          "base_uri": "https://localhost:8080/"
        },
        "id": "KCV-rX5Th9at",
        "outputId": "ce46cfd9-f94b-4905-e386-13d967356a53"
      },
      "source": [
        "############################### Importar códigos\r\n",
        "!git clone https://github.com/ucfilho/optim_raianars_Insight/ #clonar do Github\r\n",
        "%cd optim_raianars_Insight\r\n",
        "import de_soma_Insight\r\n",
        "import de_bounds_matriz\r\n",
        "import Go2Ann"
      ],
      "execution_count": 46,
      "outputs": [
        {
          "output_type": "stream",
          "text": [
            "Cloning into 'optim_raianars_Insight'...\n",
            "remote: Enumerating objects: 9, done.\u001b[K\n",
            "remote: Counting objects:  11% (1/9)\u001b[K\rremote: Counting objects:  22% (2/9)\u001b[K\rremote: Counting objects:  33% (3/9)\u001b[K\rremote: Counting objects:  44% (4/9)\u001b[K\rremote: Counting objects:  55% (5/9)\u001b[K\rremote: Counting objects:  66% (6/9)\u001b[K\rremote: Counting objects:  77% (7/9)\u001b[K\rremote: Counting objects:  88% (8/9)\u001b[K\rremote: Counting objects: 100% (9/9)\u001b[K\rremote: Counting objects: 100% (9/9), done.\u001b[K\n",
            "remote: Compressing objects:  11% (1/9)\u001b[K\rremote: Compressing objects:  22% (2/9)\u001b[K\rremote: Compressing objects:  33% (3/9)\u001b[K\rremote: Compressing objects:  44% (4/9)\u001b[K\rremote: Compressing objects:  55% (5/9)\u001b[K\rremote: Compressing objects:  66% (6/9)\u001b[K\rremote: Compressing objects:  77% (7/9)\u001b[K\rremote: Compressing objects:  88% (8/9)\u001b[K\rremote: Compressing objects: 100% (9/9)\u001b[K\rremote: Compressing objects: 100% (9/9), done.\u001b[K\n",
            "remote: Total 323 (delta 3), reused 0 (delta 0), pack-reused 314\u001b[K\n",
            "Receiving objects: 100% (323/323), 312.84 KiB | 7.82 MiB/s, done.\n",
            "Resolving deltas: 100% (184/184), done.\n",
            "/content/optim_raianars_Insight/Raianars_paper_One/optim_raianars_Insight/Raianars_paper_One/ANN_read_matrix/optim_raianars_Insight/Raianars_paper_One/optim_raianars_Insight/Raianars_paper_One/ANN_read_matrix/optim_raianars_Insight\n"
          ],
          "name": "stdout"
        }
      ]
    },
    {
      "cell_type": "code",
      "metadata": {
        "id": "Va-6Xios8RjU",
        "colab": {
          "base_uri": "https://localhost:8080/"
        },
        "outputId": "0c2b5918-df66-45e7-885e-c03b7e391c4a"
      },
      "source": [
        "!git clone https://github.com/ucfilho/Raianars_paper_One #clonar do Github\n",
        "%cd Raianars_paper_One"
      ],
      "execution_count": 47,
      "outputs": [
        {
          "output_type": "stream",
          "text": [
            "Cloning into 'Raianars_paper_One'...\n",
            "remote: Enumerating objects: 119, done.\u001b[K\n",
            "remote: Counting objects:   0% (1/119)\u001b[K\rremote: Counting objects:   1% (2/119)\u001b[K\rremote: Counting objects:   2% (3/119)\u001b[K\rremote: Counting objects:   3% (4/119)\u001b[K\rremote: Counting objects:   4% (5/119)\u001b[K\rremote: Counting objects:   5% (6/119)\u001b[K\rremote: Counting objects:   6% (8/119)\u001b[K\rremote: Counting objects:   7% (9/119)\u001b[K\rremote: Counting objects:   8% (10/119)\u001b[K\rremote: Counting objects:   9% (11/119)\u001b[K\rremote: Counting objects:  10% (12/119)\u001b[K\rremote: Counting objects:  11% (14/119)\u001b[K\rremote: Counting objects:  12% (15/119)\u001b[K\rremote: Counting objects:  13% (16/119)\u001b[K\rremote: Counting objects:  14% (17/119)\u001b[K\rremote: Counting objects:  15% (18/119)\u001b[K\rremote: Counting objects:  16% (20/119)\u001b[K\rremote: Counting objects:  17% (21/119)\u001b[K\rremote: Counting objects:  18% (22/119)\u001b[K\rremote: Counting objects:  19% (23/119)\u001b[K\rremote: Counting objects:  20% (24/119)\u001b[K\rremote: Counting objects:  21% (25/119)\u001b[K\rremote: Counting objects:  22% (27/119)\u001b[K\rremote: Counting objects:  23% (28/119)\u001b[K\rremote: Counting objects:  24% (29/119)\u001b[K\rremote: Counting objects:  25% (30/119)\u001b[K\rremote: Counting objects:  26% (31/119)\u001b[K\rremote: Counting objects:  27% (33/119)\u001b[K\rremote: Counting objects:  28% (34/119)\u001b[K\rremote: Counting objects:  29% (35/119)\u001b[K\rremote: Counting objects:  30% (36/119)\u001b[K\rremote: Counting objects:  31% (37/119)\u001b[K\rremote: Counting objects:  32% (39/119)\u001b[K\rremote: Counting objects:  33% (40/119)\u001b[K\rremote: Counting objects:  34% (41/119)\u001b[K\rremote: Counting objects:  35% (42/119)\u001b[K\rremote: Counting objects:  36% (43/119)\u001b[K\rremote: Counting objects:  37% (45/119)\u001b[K\rremote: Counting objects:  38% (46/119)\u001b[K\rremote: Counting objects:  39% (47/119)\u001b[K\rremote: Counting objects:  40% (48/119)\u001b[K\rremote: Counting objects:  41% (49/119)\u001b[K\rremote: Counting objects:  42% (50/119)\u001b[K\rremote: Counting objects:  43% (52/119)\u001b[K\rremote: Counting objects:  44% (53/119)\u001b[K\rremote: Counting objects:  45% (54/119)\u001b[K\rremote: Counting objects:  46% (55/119)\u001b[K\rremote: Counting objects:  47% (56/119)\u001b[K\rremote: Counting objects:  48% (58/119)\u001b[K\rremote: Counting objects:  49% (59/119)\u001b[K\rremote: Counting objects:  50% (60/119)\u001b[K\rremote: Counting objects:  51% (61/119)\u001b[K\rremote: Counting objects:  52% (62/119)\u001b[K\rremote: Counting objects:  53% (64/119)\u001b[K\rremote: Counting objects:  54% (65/119)\u001b[K\rremote: Counting objects:  55% (66/119)\u001b[K\rremote: Counting objects:  56% (67/119)\u001b[K\rremote: Counting objects:  57% (68/119)\u001b[K\rremote: Counting objects:  58% (70/119)\u001b[K\rremote: Counting objects:  59% (71/119)\u001b[K\rremote: Counting objects:  60% (72/119)\u001b[K\rremote: Counting objects:  61% (73/119)\u001b[K\rremote: Counting objects:  62% (74/119)\u001b[K\rremote: Counting objects:  63% (75/119)\u001b[K\rremote: Counting objects:  64% (77/119)\u001b[K\rremote: Counting objects:  65% (78/119)\u001b[K\rremote: Counting objects:  66% (79/119)\u001b[K\rremote: Counting objects:  67% (80/119)\u001b[K\rremote: Counting objects:  68% (81/119)\u001b[K\rremote: Counting objects:  69% (83/119)\u001b[K\rremote: Counting objects:  70% (84/119)\u001b[K\rremote: Counting objects:  71% (85/119)\u001b[K\rremote: Counting objects:  72% (86/119)\u001b[K\rremote: Counting objects:  73% (87/119)\u001b[K\rremote: Counting objects:  74% (89/119)\u001b[K\rremote: Counting objects:  75% (90/119)\u001b[K\rremote: Counting objects:  76% (91/119)\u001b[K\rremote: Counting objects:  77% (92/119)\u001b[K\rremote: Counting objects:  78% (93/119)\u001b[K\rremote: Counting objects:  79% (95/119)\u001b[K\rremote: Counting objects:  80% (96/119)\u001b[K\rremote: Counting objects:  81% (97/119)\u001b[K\rremote: Counting objects:  82% (98/119)\u001b[K\rremote: Counting objects:  83% (99/119)\u001b[K\rremote: Counting objects:  84% (100/119)\u001b[K\rremote: Counting objects:  85% (102/119)\u001b[K\rremote: Counting objects:  86% (103/119)\u001b[K\rremote: Counting objects:  87% (104/119)\u001b[K\rremote: Counting objects:  88% (105/119)\u001b[K\rremote: Counting objects:  89% (106/119)\u001b[K\rremote: Counting objects:  90% (108/119)\u001b[K\rremote: Counting objects:  91% (109/119)\u001b[K\rremote: Counting objects:  92% (110/119)\u001b[K\rremote: Counting objects:  93% (111/119)\u001b[K\rremote: Counting objects:  94% (112/119)\u001b[K\rremote: Counting objects:  95% (114/119)\u001b[K\rremote: Counting objects:  96% (115/119)\u001b[K\rremote: Counting objects:  97% (116/119)\u001b[K\rremote: Counting objects:  98% (117/119)\u001b[K\rremote: Counting objects:  99% (118/119)\u001b[K\rremote: Counting objects: 100% (119/119)\u001b[K\rremote: Counting objects: 100% (119/119), done.\u001b[K\n",
            "remote: Compressing objects:   0% (1/119)\u001b[K\rremote: Compressing objects:   1% (2/119)\u001b[K\rremote: Compressing objects:   2% (3/119)\u001b[K\rremote: Compressing objects:   3% (4/119)\u001b[K\rremote: Compressing objects:   4% (5/119)\u001b[K\rremote: Compressing objects:   5% (6/119)\u001b[K\rremote: Compressing objects:   6% (8/119)\u001b[K\rremote: Compressing objects:   7% (9/119)\u001b[K\rremote: Compressing objects:   8% (10/119)\u001b[K\rremote: Compressing objects:   9% (11/119)\u001b[K\rremote: Compressing objects:  10% (12/119)\u001b[K\rremote: Compressing objects:  11% (14/119)\u001b[K\rremote: Compressing objects:  12% (15/119)\u001b[K\rremote: Compressing objects:  13% (16/119)\u001b[K\rremote: Compressing objects:  14% (17/119)\u001b[K\rremote: Compressing objects:  15% (18/119)\u001b[K\rremote: Compressing objects:  16% (20/119)\u001b[K\rremote: Compressing objects:  17% (21/119)\u001b[K\rremote: Compressing objects:  18% (22/119)\u001b[K\rremote: Compressing objects:  19% (23/119)\u001b[K\rremote: Compressing objects:  20% (24/119)\u001b[K\rremote: Compressing objects:  21% (25/119)\u001b[K\rremote: Compressing objects:  22% (27/119)\u001b[K\rremote: Compressing objects:  23% (28/119)\u001b[K\rremote: Compressing objects:  24% (29/119)\u001b[K\rremote: Compressing objects:  25% (30/119)\u001b[K\rremote: Compressing objects:  26% (31/119)\u001b[K\rremote: Compressing objects:  27% (33/119)\u001b[K\rremote: Compressing objects:  28% (34/119)\u001b[K\rremote: Compressing objects:  29% (35/119)\u001b[K\rremote: Compressing objects:  30% (36/119)\u001b[K\rremote: Compressing objects:  31% (37/119)\u001b[K\rremote: Compressing objects:  32% (39/119)\u001b[K\rremote: Compressing objects:  33% (40/119)\u001b[K\rremote: Compressing objects:  34% (41/119)\u001b[K\rremote: Compressing objects:  35% (42/119)\u001b[K\rremote: Compressing objects:  36% (43/119)\u001b[K\rremote: Compressing objects:  37% (45/119)\u001b[K\rremote: Compressing objects:  38% (46/119)\u001b[K\rremote: Compressing objects:  39% (47/119)\u001b[K\rremote: Compressing objects:  40% (48/119)\u001b[K\rremote: Compressing objects:  41% (49/119)\u001b[K\rremote: Compressing objects:  42% (50/119)\u001b[K\rremote: Compressing objects:  43% (52/119)\u001b[K\rremote: Compressing objects:  44% (53/119)\u001b[K\rremote: Compressing objects:  45% (54/119)\u001b[K\rremote: Compressing objects:  46% (55/119)\u001b[K\rremote: Compressing objects:  47% (56/119)\u001b[K\rremote: Compressing objects:  48% (58/119)\u001b[K\rremote: Compressing objects:  49% (59/119)\u001b[K\rremote: Compressing objects:  50% (60/119)\u001b[K\rremote: Compressing objects:  51% (61/119)\u001b[K\rremote: Compressing objects:  52% (62/119)\u001b[K\rremote: Compressing objects:  53% (64/119)\u001b[K\rremote: Compressing objects:  54% (65/119)\u001b[K\rremote: Compressing objects:  55% (66/119)\u001b[K\rremote: Compressing objects:  56% (67/119)\u001b[K\rremote: Compressing objects:  57% (68/119)\u001b[K\rremote: Compressing objects:  58% (70/119)\u001b[K\rremote: Compressing objects:  59% (71/119)\u001b[K\rremote: Compressing objects:  60% (72/119)\u001b[K\rremote: Compressing objects:  61% (73/119)\u001b[K\rremote: Compressing objects:  62% (74/119)\u001b[K\rremote: Compressing objects:  63% (75/119)\u001b[K\rremote: Compressing objects:  64% (77/119)\u001b[K\rremote: Compressing objects:  65% (78/119)\u001b[K\rremote: Compressing objects:  66% (79/119)\u001b[K\rremote: Compressing objects:  67% (80/119)\u001b[K\rremote: Compressing objects:  68% (81/119)\u001b[K\rremote: Compressing objects:  69% (83/119)\u001b[K\rremote: Compressing objects:  70% (84/119)\u001b[K\rremote: Compressing objects:  71% (85/119)\u001b[K\rremote: Compressing objects:  72% (86/119)\u001b[K\rremote: Compressing objects:  73% (87/119)\u001b[K\rremote: Compressing objects:  74% (89/119)\u001b[K\rremote: Compressing objects:  75% (90/119)\u001b[K\rremote: Compressing objects:  76% (91/119)\u001b[K\rremote: Compressing objects:  77% (92/119)\u001b[K\rremote: Compressing objects:  78% (93/119)\u001b[K\rremote: Compressing objects:  79% (95/119)\u001b[K\rremote: Compressing objects:  80% (96/119)\u001b[K\rremote: Compressing objects:  81% (97/119)\u001b[K\rremote: Compressing objects:  82% (98/119)\u001b[K\rremote: Compressing objects:  83% (99/119)\u001b[K\rremote: Compressing objects:  84% (100/119)\u001b[K\rremote: Compressing objects:  85% (102/119)\u001b[K\rremote: Compressing objects:  86% (103/119)\u001b[K\rremote: Compressing objects:  87% (104/119)\u001b[K\rremote: Compressing objects:  88% (105/119)\u001b[K\rremote: Compressing objects:  89% (106/119)\u001b[K\rremote: Compressing objects:  90% (108/119)\u001b[K\rremote: Compressing objects:  91% (109/119)\u001b[K\rremote: Compressing objects:  92% (110/119)\u001b[K\rremote: Compressing objects:  93% (111/119)\u001b[K\rremote: Compressing objects:  94% (112/119)\u001b[K\rremote: Compressing objects:  95% (114/119)\u001b[K\rremote: Compressing objects:  96% (115/119)\u001b[K\rremote: Compressing objects:  97% (116/119)\u001b[K\rremote: Compressing objects:  98% (117/119)\u001b[K\rremote: Compressing objects:  99% (118/119)\u001b[K\rremote: Compressing objects: 100% (119/119)\u001b[K\rremote: Compressing objects: 100% (119/119), done.\u001b[K\n",
            "Receiving objects:   0% (1/248)   \rReceiving objects:   1% (3/248)   \rReceiving objects:   2% (5/248)   \rReceiving objects:   3% (8/248)   \rReceiving objects:   4% (10/248)   \rReceiving objects:   5% (13/248)   \rReceiving objects:   6% (15/248)   \rReceiving objects:   7% (18/248)   \rReceiving objects:   8% (20/248)   \rReceiving objects:   9% (23/248)   \rReceiving objects:  10% (25/248)   \rReceiving objects:  11% (28/248)   \rReceiving objects:  12% (30/248)   \rReceiving objects:  13% (33/248)   \rReceiving objects:  14% (35/248)   \rReceiving objects:  15% (38/248)   \rReceiving objects:  16% (40/248)   \rReceiving objects:  17% (43/248)   \rReceiving objects:  18% (45/248)   \rReceiving objects:  19% (48/248)   \rReceiving objects:  20% (50/248)   \rReceiving objects:  21% (53/248)   \rReceiving objects:  22% (55/248)   \rReceiving objects:  23% (58/248)   \rReceiving objects:  24% (60/248)   \rReceiving objects:  25% (62/248)   \rReceiving objects:  26% (65/248)   \rReceiving objects:  27% (67/248)   \rReceiving objects:  28% (70/248)   \rReceiving objects:  29% (72/248)   \rReceiving objects:  30% (75/248)   \rReceiving objects:  31% (77/248)   \rReceiving objects:  32% (80/248)   \rReceiving objects:  33% (82/248)   \rReceiving objects:  34% (85/248)   \rReceiving objects:  35% (87/248)   \rReceiving objects:  36% (90/248)   \rReceiving objects:  37% (92/248)   \rReceiving objects:  38% (95/248)   \rReceiving objects:  39% (97/248)   \rReceiving objects:  40% (100/248)   \rReceiving objects:  41% (102/248)   \rReceiving objects:  42% (105/248)   \rReceiving objects:  43% (107/248)   \rReceiving objects:  44% (110/248)   \rReceiving objects:  45% (112/248)   \rReceiving objects:  46% (115/248)   \rReceiving objects:  47% (117/248)   \rReceiving objects:  48% (120/248)   \rReceiving objects:  49% (122/248)   \rReceiving objects:  50% (124/248)   \rReceiving objects:  51% (127/248)   \rReceiving objects:  52% (129/248)   \rReceiving objects:  53% (132/248)   \rReceiving objects:  54% (134/248)   \rReceiving objects:  55% (137/248)   \rReceiving objects:  56% (139/248)   \rReceiving objects:  57% (142/248)   \rReceiving objects:  58% (144/248)   \rReceiving objects:  59% (147/248)   \rReceiving objects:  60% (149/248)   \rReceiving objects:  61% (152/248)   \rReceiving objects:  62% (154/248)   \rReceiving objects:  63% (157/248)   \rReceiving objects:  64% (159/248)   \rReceiving objects:  65% (162/248)   \rReceiving objects:  66% (164/248)   \rReceiving objects:  67% (167/248)   \rReceiving objects:  68% (169/248)   \rReceiving objects:  69% (172/248)   \rReceiving objects:  70% (174/248)   \rReceiving objects:  71% (177/248)   \rReceiving objects:  72% (179/248)   \rReceiving objects:  73% (182/248)   \rReceiving objects:  74% (184/248)   \rremote: Total 248 (delta 64), reused 0 (delta 0), pack-reused 129\u001b[K\n",
            "Receiving objects: 100% (248/248), 654.97 KiB | 12.59 MiB/s, done.\n",
            "Resolving deltas: 100% (136/136), done.\n",
            "/content/optim_raianars_Insight/Raianars_paper_One/optim_raianars_Insight/Raianars_paper_One/ANN_read_matrix/optim_raianars_Insight/Raianars_paper_One/optim_raianars_Insight/Raianars_paper_One/ANN_read_matrix/optim_raianars_Insight/Raianars_paper_One\n"
          ],
          "name": "stdout"
        }
      ]
    },
    {
      "cell_type": "code",
      "metadata": {
        "id": "_E15mKFURR6O"
      },
      "source": [
        "#import Go2Ann\n",
        "#import de_soma_Insight\n",
        "#import de_bounds_matriz\n",
        "#import Function\n",
        "import Go2MinMax\n",
        "from AvaliaX import AvaliaX\n",
        "from GeraIndices import GeraIndices\n",
        "import numpy as np\n",
        "import time\n",
        "import matplotlib.pyplot as plt\n",
        "from random import randint\n",
        "from scipy import optimize\n",
        "import pandas as pd\n",
        "from sklearn.metrics import confusion_matrix\n",
        "\n",
        "############################### DADOS DE ENTRADA \n",
        "\n",
        "Fc=0.1 # fator de correcao parametros da ANN\n",
        "its=1 #10 # quantas vezes vai usar o NPAR antes de alterar de novo\n",
        "ITE=2000 #10 # PONTOS quantas vezes vai alteral NPAR \n",
        "NPAR=100\n",
        "\n",
        "fator = 1.0/3.0; \n",
        "\n"
      ],
      "execution_count": 48,
      "outputs": []
    },
    {
      "cell_type": "code",
      "metadata": {
        "id": "tMGqnxI6h5BT"
      },
      "source": [
        ""
      ],
      "execution_count": 48,
      "outputs": []
    },
    {
      "cell_type": "code",
      "metadata": {
        "colab": {
          "base_uri": "https://localhost:8080/"
        },
        "id": "ik3ZjkUKycUK",
        "outputId": "b7429093-4906-4101-b4c8-f127a6d74e5c"
      },
      "source": [
        "############################### Importar códigos\r\n",
        "!git clone https://github.com/ucfilho/optim_raianars_Insight/ #clonar do Github\r\n",
        "%cd optim_raianars_Insight\r\n",
        "import de_soma_Insight\r\n",
        "import de_bounds_matriz"
      ],
      "execution_count": 49,
      "outputs": [
        {
          "output_type": "stream",
          "text": [
            "Cloning into 'optim_raianars_Insight'...\n",
            "remote: Enumerating objects: 9, done.\u001b[K\n",
            "remote: Counting objects: 100% (9/9), done.\u001b[K\n",
            "remote: Compressing objects: 100% (9/9), done.\u001b[K\n",
            "remote: Total 323 (delta 3), reused 0 (delta 0), pack-reused 314\u001b[K\n",
            "Receiving objects: 100% (323/323), 312.84 KiB | 7.45 MiB/s, done.\n",
            "Resolving deltas: 100% (184/184), done.\n",
            "/content/optim_raianars_Insight/Raianars_paper_One/optim_raianars_Insight/Raianars_paper_One/ANN_read_matrix/optim_raianars_Insight/Raianars_paper_One/optim_raianars_Insight/Raianars_paper_One/ANN_read_matrix/optim_raianars_Insight/Raianars_paper_One/optim_raianars_Insight\n"
          ],
          "name": "stdout"
        }
      ]
    },
    {
      "cell_type": "code",
      "metadata": {
        "colab": {
          "base_uri": "https://localhost:8080/"
        },
        "id": "lJogRB30yepw",
        "outputId": "9c5925d6-7519-47bb-e7c4-423f51fc27ae"
      },
      "source": [
        "!git clone https://github.com/ucfilho/Raianars_paper_One #clonar do Github\r\n",
        "%cd Raianars_paper_One"
      ],
      "execution_count": 50,
      "outputs": [
        {
          "output_type": "stream",
          "text": [
            "Cloning into 'Raianars_paper_One'...\n",
            "remote: Enumerating objects: 119, done.\u001b[K\n",
            "remote: Counting objects: 100% (119/119), done.\u001b[K\n",
            "remote: Compressing objects: 100% (119/119), done.\u001b[K\n",
            "remote: Total 248 (delta 64), reused 0 (delta 0), pack-reused 129\u001b[K\n",
            "Receiving objects: 100% (248/248), 654.97 KiB | 15.23 MiB/s, done.\n",
            "Resolving deltas: 100% (136/136), done.\n",
            "/content/optim_raianars_Insight/Raianars_paper_One/optim_raianars_Insight/Raianars_paper_One/ANN_read_matrix/optim_raianars_Insight/Raianars_paper_One/optim_raianars_Insight/Raianars_paper_One/ANN_read_matrix/optim_raianars_Insight/Raianars_paper_One/optim_raianars_Insight/Raianars_paper_One\n"
          ],
          "name": "stdout"
        }
      ]
    },
    {
      "cell_type": "code",
      "metadata": {
        "id": "P8LIRCsdywOX"
      },
      "source": [
        "RUNS=50\r\n",
        "mut=0.25\r\n",
        "crossp=0.25\r\n",
        "Fi=mut;CRi=crossp;# para impressão\r\n"
      ],
      "execution_count": 51,
      "outputs": []
    },
    {
      "cell_type": "code",
      "metadata": {
        "id": "430mpTud7RE9"
      },
      "source": [
        "def buildMatriz(x):\r\n",
        "  global Trocas, tempInicial, tempAtual \r\n",
        "  NPAR=1\r\n",
        "  cols=len(tempInicial)\r\n",
        "  size=3*cols\r\n",
        "  x=np.array(x).reshape(1,size)\r\n",
        "  # print('x=');print(x)\r\n",
        "  Ind_I=np.zeros((NPAR,Trocas)).astype(np.int64)\r\n",
        "  Ind_J=np.zeros((NPAR,Trocas)).astype(np.int64)\r\n",
        "  Tin=np.zeros((NPAR,Trocas))\r\n",
        "  Tout=np.zeros((NPAR,Trocas))\r\n",
        "  deltaT=np.zeros((NPAR,Trocas))\r\n",
        "  for i in range(NPAR):\r\n",
        "    for j in range(Trocas):\r\n",
        "      #print('[i,j]=%d %d'%(i,j))\r\n",
        "      Ind_I[i,j]=round(x[i,j])\r\n",
        "      Ind_J[i,j]=round(x[i,j+Trocas])\r\n",
        "      deltaT[i,j]=x[i,j+2*Trocas] \r\n",
        "    for jj in range(cols):\r\n",
        "      Tin[i,jj]=tempInicial[jj]\r\n",
        "      Tout[i,jj]=tempAtual[jj]\r\n",
        "  return Ind_I,Ind_J,deltaT, Tin, Tout"
      ],
      "execution_count": 52,
      "outputs": []
    },
    {
      "cell_type": "code",
      "metadata": {
        "id": "aIga-RDy7SFk"
      },
      "source": [
        "def Temperatura(x):\r\n",
        "  global Trocas, mCp,tempInicial\r\n",
        "  \r\n",
        "  NPAR=1\r\n",
        "  Ind_I,Ind_J,deltaT,Tin, Tout=buildMatriz(x) \r\n",
        "  Tatual=np.copy(np.array(tempInicial))\r\n",
        "\r\n",
        "  erro=np.zeros((NPAR)) # valor erro se torna erro=1 quando ha algum erro e vai penalizar\r\n",
        "  for ki in range(NPAR):\r\n",
        "    for kj in range(Trocas):\r\n",
        "      #Tin=np.copy(Tout)\r\n",
        "      k=kj\r\n",
        "      i=Ind_I[ki,kj]\r\n",
        "      j=Ind_J[ki,kj]\r\n",
        "      \r\n",
        "      tempSaidaQ=Tout[ki,i]+deltaT[ki,kj]\r\n",
        "      tempSaidaF=-mCp[kj]*deltaT[ki,kj]/(mCp[j])+Tout[ki,j]\r\n",
        "      flag=0 # flag : indica que nao entra no teste logico\r\n",
        "      # usei flag no lugar q ifs pq a identacao ficou melhor assim\r\n",
        "      if(Tout[ki,i] > Tout[ki,j]): #Tquente maior Tfria: vaores atuais\r\n",
        "        if(tempSaidaQ > tempSaidaF): #Tquente maior Tfria: saidas\r\n",
        "          flag=1\r\n",
        "      if(flag>0):\r\n",
        "        Tout[ki,i]=tempSaidaQ\r\n",
        "        Tout[ki,j]=tempSaidaF\r\n",
        "      else:\r\n",
        "        erro[ki]=1\r\n",
        "\r\n",
        "  return Tout,erro"
      ],
      "execution_count": 53,
      "outputs": []
    },
    {
      "cell_type": "code",
      "metadata": {
        "id": "BxTFSjBl7dJ1"
      },
      "source": [
        "def Area(x):\r\n",
        "\r\n",
        "  global mCp,tempAlvo,tempInicial,Trocas,U\r\n",
        "  \r\n",
        "  NPAR=1\r\n",
        "  \r\n",
        "  Area=[]\r\n",
        "\r\n",
        "  Ind_I,Ind_J,deltaT,Tin, Tout=buildMatriz(x) \r\n",
        "  Tatual=np.copy(np.array(tempInicial))\r\n",
        "\r\n",
        "  rows=Trocas \r\n",
        "  cols=len(mCp)\r\n",
        "\r\n",
        "  Area_Particula=[]\r\n",
        "\r\n",
        "  for k in range(Trocas):\r\n",
        "\r\n",
        "    i=Ind_I[0,k]\r\n",
        "    j=Ind_J[0,k]\r\n",
        "    tempSaidaQ=Tatual[i]+deltaT[0,k]\r\n",
        "    tempSaidaF=-deltaT[0,k]*mCp[i]/(mCp[j])+Tatual[j]\r\n",
        "\r\n",
        "    Told_i=np.copy(Tatual[i])\r\n",
        "    Told_j=np.copy(Tatual[j])\r\n",
        "\r\n",
        "    Tatual[i]=np.copy(tempSaidaQ)\r\n",
        "    Tatual[j]=np.copy(tempSaidaF)\r\n",
        "    deltaT1=Told_i-tempSaidaF\r\n",
        "    deltaT2=tempSaidaQ-Told_j\r\n",
        "    try:\r\n",
        "      A=(deltaT1-deltaT2)\r\n",
        "      B=np.log((deltaT1/deltaT2))\r\n",
        "      deltaTMediaLog=A/B\r\n",
        "    except:\r\n",
        "      deltaTMediaLog=1e99\r\n",
        "  \r\n",
        "    if(deltaTMediaLog==1e99):\r\n",
        "      AreaCalc=1e99\r\n",
        "    else:\r\n",
        "      AreaCalc=abs(deltaT[0,k]*mCp[i]/(U*deltaTMediaLog))\r\n",
        "\r\n",
        "    if(Told_i==Tatual[i]):\r\n",
        "      AreaCalc=0\r\n",
        "\r\n",
        "    if(Told_j==Tatual[j]):\r\n",
        "      AreaCalc=0\r\n",
        "\r\n",
        "      Area_Particula.append(AreaCalc)\r\n",
        "      \r\n",
        "  Area.append(Area_Particula)\r\n",
        "\r\n",
        "  return Area"
      ],
      "execution_count": 54,
      "outputs": []
    },
    {
      "cell_type": "code",
      "metadata": {
        "id": "YHPWmwIZ7eG2"
      },
      "source": [
        "def Utilidades(tempAlvo,Tout,mCp):\r\n",
        "\r\n",
        "  cols=len(mCp)\r\n",
        "  NPAR=1\r\n",
        "  '''\r\n",
        "  caso I cita TUQin=553 e TQout=552, TUFin=303 TUFout=353\r\n",
        "  '''\r\n",
        "  TUQin=553\r\n",
        "  TUQout=552\r\n",
        "  TUFin=303 \r\n",
        "  TUFout=353\r\n",
        "  \r\n",
        "  Areas=[]\r\n",
        "  cargaUQtodas=[]\r\n",
        "  cargaUFtodas=[]\r\n",
        "\r\n",
        "  for ki in range(NPAR):\r\n",
        "    areaTrocador=[]\r\n",
        "    cargaUQ=0\r\n",
        "    cargaUF=0\r\n",
        "    for j in range(cols):\r\n",
        "      delta=tempAlvo[j]-Tout[ki,j]\r\n",
        "      if(delta>0):#usa UQ\r\n",
        "        cargaUQ=cargaUQ+mCp[j]*delta\r\n",
        "        deltaT1=(TUQin-tempAlvo[j])\r\n",
        "        deltaT2=(TUQout-Tout[ki,j])\r\n",
        "\r\n",
        "        try:\r\n",
        "          A=deltaT1-deltaT2\r\n",
        "          B=np.log(deltaT1/deltaT2)\r\n",
        "          deltaTMediaLog=A/B\r\n",
        "        except:\r\n",
        "          deltaTMediaLog=1e99\r\n",
        "\r\n",
        "        if(deltaTMediaLog==1e99):\r\n",
        "          areaTrocador.append(1e99)\r\n",
        "        else:\r\n",
        "          areaTrocador.append((abs(mCp[j]*(delta)/(U*deltaTMediaLog))))\r\n",
        "\r\n",
        "      elif(delta==0):#nao usa UF e UQ\r\n",
        "        deltaTMediaLog=0\r\n",
        "        areaTrocador.append(0) \r\n",
        "\r\n",
        "      else:#usa UF\r\n",
        "        deltaT1=(Tout[ki,j]-TUFout)\r\n",
        "        deltaT2=(tempAlvo[j]-TUFin)     \r\n",
        "        cargaUF=cargaUF+mCp[j]*(-delta)\r\n",
        "\r\n",
        "        #UF -> água resfriada -> entra a 303K e sai a 353K\r\n",
        "        try:\r\n",
        "          A=deltaT1-deltaT2\r\n",
        "          B=np.log(deltaT1/deltaT2)\r\n",
        "          deltaTMediaLog=A/B\r\n",
        "        except:\r\n",
        "          deltaTMediaLog=1e99\r\n",
        "        \r\n",
        "        if(deltaTMediaLog==1e99):\r\n",
        "          areaTrocador.append(1e99)\r\n",
        "        else:\r\n",
        "          areaTrocador.append((abs(mCp[j]*(-delta)/(U*deltaTMediaLog))))\r\n",
        "\r\n",
        "    cargaUQtodas.append(cargaUQ)\r\n",
        "    cargaUFtodas.append(cargaUF)\r\n",
        "\r\n",
        "    Areas.append(areaTrocador)\r\n",
        "\r\n",
        "  return Areas, cargaUQtodas,cargaUFtodas "
      ],
      "execution_count": 55,
      "outputs": []
    },
    {
      "cell_type": "code",
      "metadata": {
        "id": "tFW5GrFF7qze"
      },
      "source": [
        "def CustoProcesso(Area,Utilidades,cargaUFtodas,cargaUQtodas):\r\n",
        "  global coefCustoUQ,coefCustoUF\r\n",
        "  \r\n",
        "  NPAR=1\r\n",
        "\r\n",
        "  cost=np.zeros((NPAR))\r\n",
        "  for i in range(NPAR):\r\n",
        "    cargaUQ=cargaUQtodas[i]\r\n",
        "    cargaUF=cargaUFtodas[i]\r\n",
        "    areaTrocadores=Area[i]\r\n",
        "    areaUtilidades=Utilidades[i]\r\n",
        "    costTrocadores=0\r\n",
        "    for it in areaTrocadores:\r\n",
        "      for wii in areaUtilidades:\r\n",
        "        if(it<1e99):\r\n",
        "          if(wii<1e99):\r\n",
        "            costTrocadores=costTrocadores+300*(it**0.5+wii**0.5)\r\n",
        "          else:\r\n",
        "            costTrocadores=1e99\r\n",
        "            break\r\n",
        "    costUQ=coefCustoUQ*cargaUQ\r\n",
        "    costUF=coefCustoUF*cargaUF\r\n",
        "    \r\n",
        "    if(costTrocadores==1e99):\r\n",
        "      cost[i]=1e99\r\n",
        "    else:\r\n",
        "      cost[i]=costUQ+costUF+costTrocadores\r\n",
        "      \r\n",
        "  return cost"
      ],
      "execution_count": 56,
      "outputs": []
    },
    {
      "cell_type": "code",
      "metadata": {
        "id": "wCTz3hbc7r0_"
      },
      "source": [
        "def Numb(x):\r\n",
        "  global mCp,tempAlvo,tempInicial,Trocas\r\n",
        "\r\n",
        "  Ind_I,Ind_J,deltaT,Tin, Tout=buildMatriz(x) # transforma x em matriz logica e troca\r\n",
        "  Tatual=np.copy(np.array(tempInicial))\r\n",
        "\r\n",
        "  rows=Trocas \r\n",
        "  cols=len(mCp)\r\n",
        "  Ttrocas=np.zeros((rows+4,cols))# feito em quaduplicata so para melhorar o visual\r\n",
        "  for i in range(2):\r\n",
        "    for j in range(cols):\r\n",
        "      Ttrocas[i,j]=np.copy(Tatual[j])\r\n",
        "  cont=1\r\n",
        "\r\n",
        "  for k in range(Trocas):\r\n",
        "    cont=cont+1\r\n",
        "    i=Ind_I[0,k]\r\n",
        "    j=Ind_J[0,k]\r\n",
        "    tempSaidaQ=Tatual[i]+deltaT[0,k]\r\n",
        "    tempSaidaF=-deltaT[0,k]*mCp[i]/(mCp[j])+Tatual[j]\r\n",
        "    Tatual[i]=np.copy(tempSaidaQ)\r\n",
        "    Tatual[j]=np.copy(tempSaidaF)\r\n",
        "\r\n",
        "    for jj in range(cols):\r\n",
        "      Ttrocas[cont,jj]=Tatual[jj]  \r\n",
        "\r\n",
        "  for jj in range(cols): # feito em duplicata so para melhorar o visual\r\n",
        "    Ttrocas[cont+1,jj]=tempAlvo[jj]\r\n",
        "    Ttrocas[cont+2,jj]=tempAlvo[jj]\r\n",
        "\r\n",
        "  return Ttrocas"
      ],
      "execution_count": 57,
      "outputs": []
    },
    {
      "cell_type": "code",
      "metadata": {
        "id": "NRZ7gJVv7wdV"
      },
      "source": [
        "#FUN calcula o TAC para um determinado arranjo\r\n",
        "#  cada calculo é feito em uma funcao a parte Fun usa todas funcoes \r\n",
        "\r\n",
        "def FUN(x):\r\n",
        "\r\n",
        "  global mCp,tempAtual,tempAlvo,tempInicial,U,coefCustoUQ,coefCustoUF\r\n",
        "  \r\n",
        "  NPAR=1\r\n",
        "  \r\n",
        "  funr=np.zeros((NPAR))\r\n",
        "  cols=len(mCp)\r\n",
        "  Ind_I,Ind_J,deltaT, Tin, Tout=buildMatriz(x) # transforma x em matriz logica e troca\r\n",
        "  Tout, Erro=Temperatura(x)\r\n",
        "  areaTrocadores =Area(x)\r\n",
        "  areaUtilidade, cargaUQ,cargaUF = Utilidades(tempAlvo,Tout,mCp)\r\n",
        "  cost=CustoProcesso(areaTrocadores,areaUtilidade,cargaUF,cargaUQ)\r\n",
        "  funr=cost\r\n",
        "\r\n",
        "  for k in range(NPAR):\r\n",
        "    if(Erro[k]>0):\r\n",
        "      funr[k]=1e99\r\n",
        "  funr = np.where(np.isnan(cost), 1e99, cost)\r\n",
        "\r\n",
        "  return funr "
      ],
      "execution_count": 58,
      "outputs": []
    },
    {
      "cell_type": "code",
      "metadata": {
        "id": "JS-98rk-77lH"
      },
      "source": [
        "#********************PROGRAMA PRINCIPAL*************************\r\n",
        "\r\n",
        "Trocas=4\r\n",
        "mCp=[4,2,1.5,3] #[kW/K]\r\n",
        "tempInicial=[453.0,393.0,523.0,533.0] #[K]\r\n",
        "tempAtual=np.copy(tempInicial) \r\n",
        "tempAlvo=[513.0,508.0,403.0,433.0] #[K]\r\n",
        "U=0.2 #[kW/(m2.K)]\r\n",
        "coefCustoUQ=110 #[$/(kW.ano)]\r\n",
        "coefCustoUF=12.2 #[$/(kW.ano)]\r\n",
        "\r\n",
        "\r\n",
        "MAX=np.array([3,3,3,3,1,1,1,1,0,0,0,0])\r\n",
        "MIN=np.array([2,2,2,2,0,0,0,0,-100,-100,-100,-100])\r\n",
        "dim = len(MAX)\r\n",
        "#MAX=np.array([3,3,3,3,3,3,3,3,0,0,0,0])\r\n",
        "#MIN=np.array([0,0,0,0,0,0,0,0,-100,-100,-100,-100])\r\n",
        "#MAX=np.array([3,2,3,2,1,1,1,1,0,0,0,0])\r\n",
        "#MIN=np.array([3,2,3,2,1,1,1,1,-100,-100,-100,-100])\r\n",
        "#MAX=np.array([3,3,3,3,1,1,1,1,0,0,0,0])\r\n",
        "#MIN=np.array([2,2,2,2,0,0,0,0,-100,-100,-100,-100])\r\n",
        "#MIN=np.array([2,2,2,2,0,0,0,0,-40,-40,-40,-40])\r\n",
        "\r\n",
        "\r\n",
        "bounds=[]\r\n",
        "for k in range(len(MAX)):\r\n",
        "  bounds.append((MIN[k],MAX[k]))\r\n",
        "\r\n",
        "\r\n",
        "# print(bounds)"
      ],
      "execution_count": 59,
      "outputs": []
    },
    {
      "cell_type": "code",
      "metadata": {
        "id": "qTINtQ1cosZK",
        "colab": {
          "base_uri": "https://localhost:8080/"
        },
        "outputId": "e1ebe033-43ba-415e-eb66-772e4bbf170d"
      },
      "source": [
        "!git clone https://github.com/ucfilho/ANN_read_matrix #clonar do Github\n",
        "%cd ANN_read_matrix"
      ],
      "execution_count": 60,
      "outputs": [
        {
          "output_type": "stream",
          "text": [
            "Cloning into 'ANN_read_matrix'...\n",
            "remote: Enumerating objects: 20, done.\u001b[K\n",
            "remote: Counting objects:   5% (1/20)\u001b[K\rremote: Counting objects:  10% (2/20)\u001b[K\rremote: Counting objects:  15% (3/20)\u001b[K\rremote: Counting objects:  20% (4/20)\u001b[K\rremote: Counting objects:  25% (5/20)\u001b[K\rremote: Counting objects:  30% (6/20)\u001b[K\rremote: Counting objects:  35% (7/20)\u001b[K\rremote: Counting objects:  40% (8/20)\u001b[K\rremote: Counting objects:  45% (9/20)\u001b[K\rremote: Counting objects:  50% (10/20)\u001b[K\rremote: Counting objects:  55% (11/20)\u001b[K\rremote: Counting objects:  60% (12/20)\u001b[K\rremote: Counting objects:  65% (13/20)\u001b[K\rremote: Counting objects:  70% (14/20)\u001b[K\rremote: Counting objects:  75% (15/20)\u001b[K\rremote: Counting objects:  80% (16/20)\u001b[K\rremote: Counting objects:  85% (17/20)\u001b[K\rremote: Counting objects:  90% (18/20)\u001b[K\rremote: Counting objects:  95% (19/20)\u001b[K\rremote: Counting objects: 100% (20/20)\u001b[K\rremote: Counting objects: 100% (20/20), done.\u001b[K\n",
            "remote: Compressing objects: 100% (18/18), done.\u001b[K\n",
            "remote: Total 20 (delta 5), reused 0 (delta 0), pack-reused 0\u001b[K\n",
            "Unpacking objects: 100% (20/20), done.\n",
            "/content/optim_raianars_Insight/Raianars_paper_One/optim_raianars_Insight/Raianars_paper_One/ANN_read_matrix/optim_raianars_Insight/Raianars_paper_One/optim_raianars_Insight/Raianars_paper_One/ANN_read_matrix/optim_raianars_Insight/Raianars_paper_One/optim_raianars_Insight/Raianars_paper_One/ANN_read_matrix\n"
          ],
          "name": "stdout"
        }
      ]
    },
    {
      "cell_type": "code",
      "metadata": {
        "id": "QiQLYOoNoyCw"
      },
      "source": [
        "ANN_F=pd.read_csv('ANN_INSIGHT_Valor_F.csv')"
      ],
      "execution_count": 61,
      "outputs": []
    },
    {
      "cell_type": "code",
      "metadata": {
        "id": "uHtW2amaDzFv"
      },
      "source": [
        "ANN_CR=pd.read_csv('ANN_INSIGHT_CR.csv')"
      ],
      "execution_count": 62,
      "outputs": []
    },
    {
      "cell_type": "code",
      "metadata": {
        "id": "EH6h_vke2yu1"
      },
      "source": [
        "syn0_F,syn1_F,X_max_F,X_min_F=Go2Ann.GetMatriz(ANN_F)"
      ],
      "execution_count": 63,
      "outputs": []
    },
    {
      "cell_type": "code",
      "metadata": {
        "id": "WW_3ZWJXD60i"
      },
      "source": [
        "syn0_CR,syn1_CR,X_max_CR,X_min_CR=Go2Ann.GetMatriz(ANN_CR)"
      ],
      "execution_count": 64,
      "outputs": []
    },
    {
      "cell_type": "code",
      "metadata": {
        "id": "b4gwBvVTyaXh"
      },
      "source": [
        "ANN_CR=pd.read_csv('ANN_INSIGHT_CR.csv')"
      ],
      "execution_count": 65,
      "outputs": []
    },
    {
      "cell_type": "code",
      "metadata": {
        "id": "6jL8MxpHvk-Y"
      },
      "source": [
        "fields = ['DI RELATIVO','FRAC Its','Fo','CRo']"
      ],
      "execution_count": 66,
      "outputs": []
    },
    {
      "cell_type": "code",
      "metadata": {
        "id": "Mb3LmbSmj9v7",
        "colab": {
          "base_uri": "https://localhost:8080/"
        },
        "outputId": "db5e2fb9-702f-4cce-d53a-99649b321ae8"
      },
      "source": [
        "##################################### \n",
        "\n",
        "TOTAL=10*dim*its*ITE\n",
        "TOTAL=int(TOTAL/2)   # CONFERIR SE ESTE EH O MELHOR LUGAR\n",
        "\n",
        "dimensions=len(MAX)\n",
        "start_time = time.time() #INICIALIZA CONTAGEM DO TEMPO\n",
        "\n",
        "\n",
        "PAR=dim\n",
        "\n",
        "fobj=FUN\n",
        "Fun = FUN\n",
        "\n",
        "MAX_P=np.zeros(ITE) # ATENCAO para variar F e Cr MAX_P passa a ser 3 vezes maior\n",
        "MIN_P=np.zeros(ITE) # ATENCAO para variar F e Cr MIN_P passa a ser 3 vezes maior\n",
        "\n",
        "for i in range(dim):\n",
        "  MAX_P[i]=MAX[i] \n",
        "  MIN_P[i]=MIN[i]\n",
        "\n",
        "rodadas=1\n",
        "NPAR1=int(fator*NPAR);print('Npar1=',NPAR1);print('frac=',fator)\n",
        "NPAR2=NPAR-NPAR1;print('Npar2=',NPAR2);print('Npar=',NPAR)\n",
        "\n",
        "cols=dim\n",
        "\n",
        "X1=np.zeros((NPAR1,cols)) # X1 is Frannk population\n",
        "for i in range(NPAR1):\n",
        "  for j in range(cols):\n",
        "    r=np.random.random()\n",
        "    X1[i,j]=r*(MAX[j]-MIN[j])+MIN[j]\n",
        "    \n",
        "X2=np.zeros((NPAR2,cols)) # X2 is population DE (default DE)\n",
        "for i in range(NPAR2):\n",
        "  for j in range(cols):\n",
        "    r=np.random.random()\n",
        "    X2[i,j]=r*(MAX[j]-MIN[j])+MIN[j]\n",
        " ############################################################\n",
        "  #bounds=[(5*dim, 15*dim)] * PONTOS # ITE\n",
        "  #bounds=[(3*dim, 12*dim)] * PONTOS # ITE\n",
        "  #bounds=[(4*dim, 16*dim)] * PONTOS\n",
        "  \n",
        "  # nao pode ser assim pq o bounds vale p o DE nao dos parametros\n",
        "  #p=int(TOTAL/its/ITE) \n",
        "  #bounds=[(p, p)] * PONTOS\n"
      ],
      "execution_count": 67,
      "outputs": [
        {
          "output_type": "stream",
          "text": [
            "Npar1= 33\n",
            "frac= 0.3333333333333333\n",
            "Npar2= 67\n",
            "Npar= 100\n"
          ],
          "name": "stdout"
        }
      ]
    },
    {
      "cell_type": "code",
      "metadata": {
        "id": "rnX8ttNopd1G",
        "colab": {
          "base_uri": "https://localhost:8080/"
        },
        "outputId": "8cd5fad8-c484-4cc8-df52-3af431364df5"
      },
      "source": [
        "\n",
        "start_time = time.time()\n",
        "BEST_AGENTS=[]\n",
        "MAT_stat=[]\n",
        "for iii in range(RUNS):\n",
        "    MAT=[] \n",
        "    mut=Fi\n",
        "    crossp=CRi\n",
        "    SOMA=0\n",
        "    pop = np.random.rand(NPAR, dim)\n",
        "    diff=np.zeros(PAR)\n",
        "    X1=np.zeros((NPAR1,cols)) # X1 is Frannk population\n",
        "    for i in range(NPAR1):\n",
        "      for j in range(cols):\n",
        "        r=np.random.random()\n",
        "        X1[i,j]=r*(MAX[j]-MIN[j])+MIN[j]\n",
        "        \n",
        "    X2=np.zeros((NPAR2,cols)) # X2 is population DE (default DE)\n",
        "    for i in range(NPAR2):\n",
        "      for j in range(cols):\n",
        "        r=np.random.random()\n",
        "        X2[i,j]=r*(MAX[j]-MIN[j])+MIN[j]\n",
        "    \n",
        "    DIo=1e99\n",
        "  \n",
        "    CRo=crossp;Fo=mut;\n",
        "    Fitness = np.asarray([Fun(ind) for ind in X1])\n",
        "    XY,BEST_XY,BESTo,FOBESTo=AvaliaX(X1,Fitness)\n",
        "    nrow,ncol=X1.shape\n",
        "\n",
        "    QUANT=17;MAT_INDo=np.zeros((1,QUANT)); # quantos indices esta fazendo\n",
        "    MAT_INDo[0,5]=nrow  # VALOR NP\n",
        "    MAT_INDo[0,6]=Fo    # VALOR Fo   \n",
        "    MAT_INDo[0,7]=CRo   # VALOR CRo\n",
        "  \n",
        "    MAT_INDo=GeraIndices(X1,BESTo,FOBESTo,DIo,MAT_INDo,SOMA,TOTAL,syn0_F,\n",
        "                        syn1_F,X_max_F,X_min_F,syn0_CR,syn1_CR,X_max_CR,\n",
        "                        X_min_CR,Fc,fields,Fun)\n",
        "  \n",
        "    DIo=np.copy(MAT_INDo[0,0])\n",
        "    MAT_INDo[0,15]=Fo    # VALOR Fo   \n",
        "    MAT_INDo[0,16]=CRo   # VALOR CRo\n",
        "    #ind_crossp=ITE-1\n",
        "    \n",
        "\n",
        "    \n",
        "    for k in range(ITE):\n",
        "\n",
        "      X2,BEST2,FOBEST,XY,BEST_XY=de_bounds_matriz.de(bounds, mut, crossp,NPAR2, its,fobj,X2)\n",
        "      \n",
        "      \n",
        "      X1,BEST1,FOBEST,XY,BEST_XY,SOMA= de_soma_Insight.de(MAX,MIN, mut, crossp,NPAR1,its,Fun,X1,SOMA,TOTAL)\n",
        "\n",
        "      MAT_IND=GeraIndices(X1,BESTo,FOBESTo,DIo,MAT_INDo,SOMA,TOTAL,syn0_F,\n",
        "                          syn1_F,X_max_F,X_min_F,syn0_CR,syn1_CR,X_max_CR,\n",
        "                          X_min_CR,Fc,fields,Fun)\n",
        "    \n",
        "      BESTo=np.copy(BEST1);FOBESTo=np.copy(FOBEST);\n",
        "      MAT.append(MAT_IND.ravel())\n",
        "    \n",
        "      MAT_INDo[0,6]=MAT_IND[0,15]   # VALOR Fo   \n",
        "      MAT_INDo[0,7]=MAT_IND[0,16]   # VALOR CRo\n",
        "      mut=MAT_IND[0,15]\n",
        "      crossp=MAT_IND[0,16]\n",
        "      X1[0,:] = BEST2;\n",
        "      X1[NPAR1-1,:] = BEST1;\n",
        "      X2[0,:] = BEST1;\n",
        "      X2[NPAR2-1,:] = BEST2;\n",
        "    print('k=',iii,'time=',(time.time()-start_time)/60, 'FOBEST=',FOBEST)  \n",
        "    BEST_AGENTS.append(BEST_XY)\n",
        "    MAT_stat.append(MAT)\n",
        "    #print(\"GlobalParam e Solucao:\", BEST,\"Funcao=\",FOBEST)\n",
        "    \n",
        "############################## Cálculo dos Parâmetros de Avaliação   \n",
        "TIME = (time.time() - start_time)/RUNS\n",
        "BEST_AGENTS=np.array(BEST_AGENTS)\n",
        "BEST_AGENTS_ST= BEST_AGENTS[BEST_AGENTS[:,-1].argsort()]\n",
        "BEST=BEST_AGENTS_ST[0]\n",
        "WORSE=BEST_AGENTS_ST[-1]\n",
        "MEAN=np.mean(BEST_AGENTS,axis=0)\n",
        "MAXFO=BEST_AGENTS[:,-1].max()\n",
        "MINFO=BEST_AGENTS[:,-1].min()\n",
        "STD=BEST_AGENTS[:,-1].std()"
      ],
      "execution_count": 68,
      "outputs": [
        {
          "output_type": "stream",
          "text": [
            "/usr/local/lib/python3.7/dist-packages/ipykernel_launcher.py:33: RuntimeWarning: invalid value encountered in log\n",
            "/usr/local/lib/python3.7/dist-packages/ipykernel_launcher.py:34: RuntimeWarning: invalid value encountered in double_scalars\n"
          ],
          "name": "stderr"
        },
        {
          "output_type": "stream",
          "text": [
            "k= 0 time= 4.104951210816702 FOBEST= [16200.36488139]\n",
            "k= 1 time= 8.12254738410314 FOBEST= [22209.56621228]\n",
            "k= 2 time= 12.141603740056356 FOBEST= [16446.28772837]\n",
            "k= 3 time= 16.15404249827067 FOBEST= [15858.63853528]\n",
            "k= 4 time= 20.19742889801661 FOBEST= [14786.33414803]\n",
            "k= 5 time= 24.220163079102836 FOBEST= [15847.09073714]\n",
            "k= 6 time= 28.25317205985387 FOBEST= [16100.32488124]\n",
            "k= 7 time= 32.28912578423818 FOBEST= [18113.76649982]\n",
            "k= 8 time= 36.374175568421684 FOBEST= [12856.58310771]\n",
            "k= 9 time= 40.40843974749247 FOBEST= [20714.43237295]\n",
            "k= 10 time= 44.45195316473643 FOBEST= [13988.91712837]\n",
            "k= 11 time= 48.528459413846335 FOBEST= [12925.73995713]\n",
            "k= 12 time= 52.595957477887474 FOBEST= [12925.03242855]\n",
            "k= 13 time= 56.62573651075363 FOBEST= [14812.07179983]\n",
            "k= 14 time= 60.659572760264076 FOBEST= [15617.75366276]\n",
            "k= 15 time= 64.66639342308045 FOBEST= [14321.74077147]\n",
            "k= 16 time= 68.67042246659597 FOBEST= [13624.49003261]\n",
            "k= 17 time= 72.69864562749862 FOBEST= [14513.06561659]\n",
            "k= 18 time= 76.74696337381998 FOBEST= [16059.57663927]\n",
            "k= 19 time= 80.78514491319656 FOBEST= [20889.02441085]\n",
            "k= 20 time= 84.81311611731847 FOBEST= [15100.93585069]\n",
            "k= 21 time= 88.8535924077034 FOBEST= [14901.33821259]\n",
            "k= 22 time= 92.89529935121536 FOBEST= [14869.44102047]\n",
            "k= 23 time= 96.92242881457011 FOBEST= [19994.47267031]\n",
            "k= 24 time= 100.94735171794892 FOBEST= [14604.55560379]\n",
            "k= 25 time= 104.96957742373148 FOBEST= [18642.2070352]\n",
            "k= 26 time= 109.02058262030283 FOBEST= [16057.00363205]\n",
            "k= 27 time= 113.06190843582154 FOBEST= [14734.18717]\n",
            "k= 28 time= 117.10062508185705 FOBEST= [14441.75274811]\n",
            "k= 29 time= 121.13227419455846 FOBEST= [18030.81634259]\n",
            "k= 30 time= 125.17953460613886 FOBEST= [20088.5574227]\n",
            "k= 31 time= 129.1936388373375 FOBEST= [18176.06973329]\n",
            "k= 32 time= 133.21131852467855 FOBEST= [16956.42534365]\n",
            "k= 33 time= 137.23003941377004 FOBEST= [19889.58700831]\n",
            "k= 34 time= 141.2539001663526 FOBEST= [16858.31311517]\n",
            "k= 35 time= 145.26768525044125 FOBEST= [18993.44021804]\n",
            "k= 36 time= 149.35343131621678 FOBEST= [14779.89166394]\n",
            "k= 37 time= 153.38120999336243 FOBEST= [20136.96027432]\n",
            "k= 38 time= 157.4146087964376 FOBEST= [18743.89458563]\n",
            "k= 39 time= 161.4390647848447 FOBEST= [14532.79113018]\n",
            "k= 40 time= 165.4642272432645 FOBEST= [15574.0560941]\n",
            "k= 41 time= 169.4843845129013 FOBEST= [15025.84962803]\n",
            "k= 42 time= 173.50740186373392 FOBEST= [14581.86184889]\n",
            "k= 43 time= 177.53801324367524 FOBEST= [21609.66692532]\n",
            "k= 44 time= 181.6241605401039 FOBEST= [18130.5545048]\n",
            "k= 45 time= 185.63741497596104 FOBEST= [14847.51815925]\n",
            "k= 46 time= 189.67736045916874 FOBEST= [16177.34428899]\n",
            "k= 47 time= 193.70446966886522 FOBEST= [14879.81724682]\n",
            "k= 48 time= 197.7357803583145 FOBEST= [16373.82360366]\n",
            "k= 49 time= 201.81274847984315 FOBEST= [14660.39400401]\n"
          ],
          "name": "stdout"
        }
      ]
    },
    {
      "cell_type": "code",
      "metadata": {
        "id": "TLEE0UrZSvJF",
        "colab": {
          "base_uri": "https://localhost:8080/"
        },
        "outputId": "3d0ff66c-7c12-420f-ba52-7eafdd4bf9f3"
      },
      "source": [
        "#len(X2[1,:])\r\n",
        "print(cols)"
      ],
      "execution_count": 69,
      "outputs": [
        {
          "output_type": "stream",
          "text": [
            "12\n"
          ],
          "name": "stdout"
        }
      ]
    },
    {
      "cell_type": "code",
      "metadata": {
        "id": "k3p9TGsx1OCu"
      },
      "source": [
        "NOMES=['DIVERSIDADE (DI)',  'DI RELATIVO','FRAC Its',\n",
        "           'VELOC FOBJ','VELOC X','NP','Fo','CRo','fmin','fmax',\n",
        "           'AD_fmin','AD_fmax','DELTA FOBJ','DELTA VX','r_fitness',\n",
        "           'F','CR']\n",
        "# BEST_INDEX= BEST_AGENTS[BEST_AGENTS[:,-1].argmin()]  \n",
        "BEST_INDEX = np.argmin(BEST_AGENTS[:,-1])\n",
        "df=pd.DataFrame(MAT_stat[BEST_INDEX], columns=NOMES)\n",
        "\n"
      ],
      "execution_count": 70,
      "outputs": []
    },
    {
      "cell_type": "code",
      "metadata": {
        "id": "jIHiKR_t1xxs",
        "colab": {
          "base_uri": "https://localhost:8080/"
        },
        "outputId": "e6059099-dd52-418c-dfda-8f573f6341a6"
      },
      "source": [
        "pd.set_option('display.max_columns', 30)  \n",
        "print(df)"
      ],
      "execution_count": 71,
      "outputs": [
        {
          "output_type": "stream",
          "text": [
            "      DIVERSIDADE (DI)  DI RELATIVO  FRAC Its  VELOC FOBJ  VELOC X    NP  \\\n",
            "0            57.414386     1.000000  0.000275         0.0      0.0  33.0   \n",
            "1            57.692783     1.004849  0.000550         2.0      2.0  33.0   \n",
            "2            58.102915     1.011992  0.000825         0.0      0.0  33.0   \n",
            "3            58.102915     1.011992  0.001100         0.0      0.0  33.0   \n",
            "4            58.198922     1.013664  0.001375         1.0      2.0  33.0   \n",
            "...                ...          ...       ...         ...      ...   ...   \n",
            "1995         57.330802     0.998544  0.548900         0.0      0.0  33.0   \n",
            "1996         57.330802     0.998544  0.549175         0.0      0.0  33.0   \n",
            "1997         57.330802     0.998544  0.549450         0.0      0.0  33.0   \n",
            "1998         57.330802     0.998544  0.549725         0.0      0.0  33.0   \n",
            "1999         57.330802     0.998544  0.550000         0.0      0.0  33.0   \n",
            "\n",
            "            Fo           CRo          fmin          fmax  AD_fmin  AD_fmax  \\\n",
            "0     0.250000  2.500000e-01  1.000000e+99  1.000000e+99      1.0      1.0   \n",
            "1     0.437500  1.666667e-01  2.565691e+04  1.000000e+99      1.0      1.0   \n",
            "2     0.217689  1.108417e-01  2.565691e+04  1.000000e+99      1.0      1.0   \n",
            "3     0.382914  1.669272e-01  2.565691e+04  1.000000e+99      1.0      1.0   \n",
            "4     0.189161  1.106175e-01  2.565691e+04  1.000000e+99      1.0      1.0   \n",
            "...        ...           ...           ...           ...      ...      ...   \n",
            "1995  0.276609  5.371903e-82  1.285658e+04  1.000000e+99      1.0      1.0   \n",
            "1996  0.138506  6.712924e-82  1.285658e+04  1.000000e+99      1.0      1.0   \n",
            "1997  0.242234  4.478540e-82  1.285658e+04  1.000000e+99      1.0      1.0   \n",
            "1998  0.121293  5.596545e-82  1.285658e+04  1.000000e+99      1.0      1.0   \n",
            "1999  0.212131  3.733746e-82  1.285658e+04  1.000000e+99      1.0      1.0   \n",
            "\n",
            "      DELTA FOBJ  DELTA VX  r_fitness         F            CR  \n",
            "0            0.0       0.0        0.0  0.437500  1.666667e-01  \n",
            "1            0.0       0.0        1.0  0.217689  1.108417e-01  \n",
            "2            0.0       0.0        1.0  0.382914  1.669272e-01  \n",
            "3            0.0       0.0        1.0  0.189161  1.106175e-01  \n",
            "4            0.0       0.0        1.0  0.332971  7.324118e-02  \n",
            "...          ...       ...        ...       ...           ...  \n",
            "1995         0.0       0.0        1.0  0.138506  6.712924e-82  \n",
            "1996         0.0       0.0        1.0  0.242234  4.478540e-82  \n",
            "1997         0.0       0.0        1.0  0.121293  5.596545e-82  \n",
            "1998         0.0       0.0        1.0  0.212131  3.733746e-82  \n",
            "1999         0.0       0.0        1.0  0.106220  4.665823e-82  \n",
            "\n",
            "[2000 rows x 17 columns]\n"
          ],
          "name": "stdout"
        }
      ]
    },
    {
      "cell_type": "code",
      "metadata": {
        "id": "bx0ywpMtAAjw",
        "colab": {
          "base_uri": "https://localhost:8080/",
          "height": 301
        },
        "outputId": "fdc1178b-b4d2-419c-9a39-425b3a38e0cb"
      },
      "source": [
        "plt.plot(df['FRAC Its'],df['CR'])\n",
        "plt.xlabel('Iteração/Total')\n",
        "plt.ylabel('CR')"
      ],
      "execution_count": 72,
      "outputs": [
        {
          "output_type": "execute_result",
          "data": {
            "text/plain": [
              "Text(0, 0.5, 'CR')"
            ]
          },
          "metadata": {
            "tags": []
          },
          "execution_count": 72
        },
        {
          "output_type": "display_data",
          "data": {
            "image/png": "[encoded data removed]",
            "text/plain": [
              "<Figure size 432x288 with 1 Axes>"
            ]
          },
          "metadata": {
            "tags": [],
            "needs_background": "light"
          }
        }
      ]
    },
    {
      "cell_type": "code",
      "metadata": {
        "id": "BvPFvbDvteDC",
        "colab": {
          "base_uri": "https://localhost:8080/",
          "height": 295
        },
        "outputId": "fd4cfe93-3aca-4b86-8a65-8ba1d528ad21"
      },
      "source": [
        "\n",
        "fig, ax = plt.subplots()\n",
        "ax.plot(df['FRAC Its'],df['F'],label='F')\n",
        "ax.set_xlabel('Iteração/Total')\n",
        "ax.set_ylabel('Parâmetros')\n",
        "ax.plot(df['FRAC Its'],df['CR'],'-r', label='CR')\n",
        "nome=Fun.__name__+'  M=Diversidade'+ '  D='+str(dim)\n",
        "ax.set_title(nome)\n",
        "leg = ax.legend()\n"
      ],
      "execution_count": 73,
      "outputs": [
        {
          "output_type": "display_data",
          "data": {
            "image/png": "[encoded data removed]",
            "text/plain": [
              "<Figure size 432x288 with 1 Axes>"
            ]
          },
          "metadata": {
            "tags": [],
            "needs_background": "light"
          }
        }
      ]
    },
    {
      "cell_type": "code",
      "metadata": {
        "id": "htooaGpDia_0",
        "colab": {
          "base_uri": "https://localhost:8080/",
          "height": 313
        },
        "outputId": "c492f458-e62f-437d-819a-4594a89454b9"
      },
      "source": [
        "f, axarr = plt.subplots(2, sharex=True)\n",
        "axarr[0].plot(df['FRAC Its'],df['F'])\n",
        "axarr[0].set_ylabel('F')\n",
        "axarr[1].plot(df['FRAC Its'],df['CR'])\n",
        "axarr[1].set_ylabel('CR')\n",
        "axarr[1].set_xlabel('Iteração/Total')\n",
        "nome=Fun.__name__+'_Diversidade_'+ 'D='+str(dim)\n",
        "axarr[0].set_title(nome)\n"
      ],
      "execution_count": 74,
      "outputs": [
        {
          "output_type": "execute_result",
          "data": {
            "text/plain": [
              "Text(0.5, 1.0, 'FUN_Diversidade_D=12')"
            ]
          },
          "metadata": {
            "tags": []
          },
          "execution_count": 74
        },
        {
          "output_type": "display_data",
          "data": {
            "image/png": "[encoded data removed]",
            "text/plain": [
              "<Figure size 432x288 with 2 Axes>"
            ]
          },
          "metadata": {
            "tags": [],
            "needs_background": "light"
          }
        }
      ]
    },
    {
      "cell_type": "code",
      "metadata": {
        "id": "lNSN5X-wskcx",
        "colab": {
          "base_uri": "https://localhost:8080/"
        },
        "outputId": "a4538f7b-36f0-418a-fa11-af6bd62da33d"
      },
      "source": [
        "nome='_ANN_Div3x4_Fo-'+str(Fi)+'_CRo-'+str(CRi)+'_D-'+str(dim)+'_Interv-'+str(ITE)\n",
        "print('H-FRANNK - ','TOTAL=',TOTAL,'Iterações=',ITE*its,'Dim=', PAR,\"Min/Max=\",MIN[0],\"/\",MAX[0],'_',Fun.__name__)\n",
        "print(nome, '\\n')\n",
        "#print('BEST: ',BEST)\n",
        "#print('MÉDIA: ',MEAN)\n",
        "print('MÉDIA: ',MEAN[-1])\n",
        "print('MIN __:',MINFO)\n",
        "print('MAX__: ',MAXFO)\n",
        "print('STD __:',STD)\n",
        "print(\"Tempo Médio= %.3f segundos ---\" % (TIME))\n",
        "print(RUNS,'Rodadas') \n",
        "print()\n",
        "print('BEST: ',BEST)\n",
        "# print('melhor=',BEST_AGENTS[BEST_INDEX])"
      ],
      "execution_count": 75,
      "outputs": [
        {
          "output_type": "stream",
          "text": [
            "H-FRANNK -  TOTAL= 120000 Iterações= 2000 Dim= 12 Min/Max= 2 / 3 _ FUN\n",
            "_ANN_Div3x4_Fo-0.25_CRo-0.25_D-12_Interv-2000 \n",
            "\n",
            "MÉDIA:  16424.08657273036\n",
            "MIN __: 12856.583107712513\n",
            "MAX__:  22209.56621227698\n",
            "STD __: 2376.9849536537217\n",
            "Tempo Médio= 242.175 segundos ---\n",
            "50 Rodadas\n",
            "\n",
            "BEST:  [ 2.50780855e+00  2.31552740e+00  2.76608206e+00  2.35885252e+00\n",
            "  2.27974899e-01  1.23797248e-01  6.29427346e-01  7.23695107e-01\n",
            " -4.00000000e+01 -1.99984965e+01 -5.70936640e+01 -2.68725022e+01\n",
            "  1.28565831e+04]\n"
          ],
          "name": "stdout"
        }
      ]
    }
  ]
}
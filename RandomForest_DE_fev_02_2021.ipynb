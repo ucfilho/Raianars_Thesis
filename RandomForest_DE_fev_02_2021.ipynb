{
  "nbformat": 4,
  "nbformat_minor": 0,
  "metadata": {
    "colab": {
      "name": "RandomForest_DE_fev_02_2021.ipynb",
      "provenance": [],
      "collapsed_sections": [],
      "authorship_tag": "ABX9TyMxVJVvtfFsREzPyU+ve30E",
      "include_colab_link": true
    },
    "kernelspec": {
      "name": "python3",
      "display_name": "Python 3"
    }
  },
  "cells": [
    {
      "cell_type": "markdown",
      "metadata": {
        "id": "view-in-github",
        "colab_type": "text"
      },
      "source": [
        "<a href=\"https://colab.research.google.com/github/ucfilho/Raianars_Thesis/blob/main/RandomForest_DE_fev_02_2021.ipynb\" target=\"_parent\"><img src=\"https://colab.research.google.com/assets/colab-badge.svg\" alt=\"Open In Colab\"/></a>"
      ]
    },
    {
      "cell_type": "code",
      "metadata": {
        "id": "Q0B8coo9rXd8"
      },
      "source": [
        "import pandas as pd\n",
        "import numpy as np\n",
        "from sklearn.preprocessing import MinMaxScaler\n",
        "#from sklearn.preprocessing import StandardScaler\n",
        "from sklearn.ensemble import RandomForestClassifier\n",
        "from sklearn.model_selection import train_test_split\n",
        "from sklearn.metrics import classification_report, confusion_matrix"
      ],
      "execution_count": null,
      "outputs": []
    },
    {
      "cell_type": "code",
      "metadata": {
        "id": "h9ySh6JJrm_A",
        "colab": {
          "base_uri": "https://localhost:8080/"
        },
        "outputId": "b21746e7-542e-42da-a8a9-15c00d735516"
      },
      "source": [
        "#!git clone https://github.com/ucfilho/Raianars_Thesis/Machine_Learning_Models/ #clonar do Github\n",
        "!git clone https://github.com/ucfilho/Raianars_Thesis/\n",
        "#%cd Machine_Learning_Models/Machine_Learning_Models/\n",
        "%cd Raianars_Thesis"
      ],
      "execution_count": null,
      "outputs": [
        {
          "output_type": "stream",
          "text": [
            "fatal: destination path 'Raianars_Thesis' already exists and is not an empty directory.\n",
            "/content/Raianars_Thesis\n"
          ],
          "name": "stdout"
        }
      ]
    },
    {
      "cell_type": "code",
      "metadata": {
        "id": "TMly_R0pv8AG"
      },
      "source": [
        "\n",
        "def Confusion(X):\n",
        "  TP, FP, FN, TN = X.ravel()\n",
        "  A=(TP+TN)/(TP+TN+FP+FN)*100 #Acuracy\n",
        "  P=TP/(TP+FP)*100 # Precision\n",
        "  R=TP/(TP+FN)*100 # Recall\n",
        "  S=TN/(TN+FP)*100 # Specificity\n",
        "  F1=2*TP/(2*TP+FP+FN)*100 # F1 score\n",
        "\n",
        "  return A,P,R,S,F1"
      ],
      "execution_count": null,
      "outputs": []
    },
    {
      "cell_type": "code",
      "metadata": {
        "id": "mUMZt1oSsY0O"
      },
      "source": [
        "Name='Machine_Learning_Models/XY_D10_30_out_7_2019.csv'\n",
        "df = pd.read_csv(Name)"
      ],
      "execution_count": null,
      "outputs": []
    },
    {
      "cell_type": "code",
      "metadata": {
        "id": "FqcMCR9gxIpA"
      },
      "source": [
        "Columns =['DI RELATIVO', 'FRAC Its',  'Fo', 'CRo','F','CR']\n",
        "pd.set_option('display.max_rows', 140)\n",
        "pd.set_option('display.max_rows', 30)\n",
        "df = df[Columns]"
      ],
      "execution_count": null,
      "outputs": []
    },
    {
      "cell_type": "code",
      "metadata": {
        "id": "7uLcEyH6si7K"
      },
      "source": [
        "#print(df)"
      ],
      "execution_count": null,
      "outputs": []
    },
    {
      "cell_type": "code",
      "metadata": {
        "id": "O-RUk7x00z2U"
      },
      "source": [
        "W=np.array(df['F'])\n",
        "Wo=np.array(df['Fo'])\n",
        "for i in range(len(W)):\n",
        "  W[i]=W[i]-Wo[i]\n",
        "  if(W[i]<0):\n",
        "    W[i]=-1\n",
        "  else:\n",
        "    W[i]=1\n",
        "df['F'] = W\n",
        "\n",
        "W=np.array(df['CR'])\n",
        "Wo=np.array(df['CRo'])\n",
        "for i in range(len(W)):\n",
        "  W[i]=W[i]-Wo[i]\n",
        "  if(W[i]<0):\n",
        "    W[i]=-1\n",
        "  else:\n",
        "    W[i]=1\n",
        "df['CR'] = W"
      ],
      "execution_count": null,
      "outputs": []
    },
    {
      "cell_type": "code",
      "metadata": {
        "id": "OlcbLnk24c35"
      },
      "source": [
        "# print(df)"
      ],
      "execution_count": null,
      "outputs": []
    },
    {
      "cell_type": "code",
      "metadata": {
        "id": "IH4VEEeV5jUg"
      },
      "source": [
        "Names_X= ['DI RELATIVO','FRAC Its','Fo','CRo']\n",
        "Name_Y =['F']  \n",
        "# Name_Y =['CR']  \n",
        "y=df[Name_Y]\n",
        "X=df[Names_X]                  "
      ],
      "execution_count": null,
      "outputs": []
    },
    {
      "cell_type": "code",
      "metadata": {
        "id": "RiNily1b-gKI"
      },
      "source": [
        "test_fraction = 0.3\r\n",
        "number_random = 10"
      ],
      "execution_count": null,
      "outputs": []
    },
    {
      "cell_type": "code",
      "metadata": {
        "id": "vRD1rDqQ5cOi"
      },
      "source": [
        "X_train, X_test, y_train, y_test = train_test_split(X, y, test_size=test_fraction, random_state=number_random)\n",
        "#scaler = StandardScaler() \n",
        "scaler = MinMaxScaler() \n",
        "scaler.fit(X_train) \n",
        "X_train = scaler.transform(X_train)\n",
        "X_test = scaler.transform(X_test)"
      ],
      "execution_count": null,
      "outputs": []
    },
    {
      "cell_type": "code",
      "metadata": {
        "id": "BCpqrCMu6oYZ",
        "colab": {
          "base_uri": "https://localhost:8080/"
        },
        "outputId": "b60600ca-bb20-44ce-a454-bb930c48e462"
      },
      "source": [
        "#model = RandomForestClassifier(max_depth=2,n_estimators=1000, random_state=101)\n",
        "# model = RandomForestClassifier(max_depth=2,n_estimators=100, random_state=101)\n",
        "model = RandomForestClassifier(max_depth=2, random_state=0)\n",
        "model.fit(X_train, y_train)"
      ],
      "execution_count": null,
      "outputs": [
        {
          "output_type": "stream",
          "text": [
            "/usr/local/lib/python3.6/dist-packages/ipykernel_launcher.py:4: DataConversionWarning: A column-vector y was passed when a 1d array was expected. Please change the shape of y to (n_samples,), for example using ravel().\n",
            "  after removing the cwd from sys.path.\n"
          ],
          "name": "stderr"
        },
        {
          "output_type": "execute_result",
          "data": {
            "text/plain": [
              "RandomForestClassifier(bootstrap=True, ccp_alpha=0.0, class_weight=None,\n",
              "                       criterion='gini', max_depth=2, max_features='auto',\n",
              "                       max_leaf_nodes=None, max_samples=None,\n",
              "                       min_impurity_decrease=0.0, min_impurity_split=None,\n",
              "                       min_samples_leaf=1, min_samples_split=2,\n",
              "                       min_weight_fraction_leaf=0.0, n_estimators=100,\n",
              "                       n_jobs=None, oob_score=False, random_state=0, verbose=0,\n",
              "                       warm_start=False)"
            ]
          },
          "metadata": {
            "tags": []
          },
          "execution_count": 12
        }
      ]
    },
    {
      "cell_type": "code",
      "metadata": {
        "id": "zINjIWY3BzPH"
      },
      "source": [
        "#Predicting new data\n",
        "predictions = model.predict(X_train)\n",
        "Mat_train = confusion_matrix(y_train,predictions)\n",
        "\n",
        "\n",
        "predictions = model.predict(X_test)\n",
        "Mat_test = confusion_matrix(y_test,predictions)\n"
      ],
      "execution_count": null,
      "outputs": []
    },
    {
      "cell_type": "code",
      "metadata": {
        "id": "4955XZhxB2k0"
      },
      "source": [
        "#print('\\n results test \\n')\n",
        "#print(classification_report(y_test,predictions))\n",
        "#print('\\n results test \\n')\n",
        "#print(confusion_matrix(y_test,predictions))"
      ],
      "execution_count": null,
      "outputs": []
    },
    {
      "cell_type": "code",
      "metadata": {
        "id": "bZaGW-f0wSWs",
        "colab": {
          "base_uri": "https://localhost:8080/"
        },
        "outputId": "238a2b3e-032c-4af0-8c0c-21dd28de16d5"
      },
      "source": [
        "A,P,R,S,F1=Confusion(Mat_train)\n",
        "print(\"=======F's classification train:=======\")\n",
        "print(\" Accuracy=%f \\n Precision=%f \\n Recall=%f \\n Specificity=%f \\n F1 score=%f \\n\"%(A,P,R,S,F1))\n",
        "\n",
        "\n",
        "A,P,R,S,F1=Confusion(Mat_test )\n",
        "print(\"=======F's classification test:=========\")\n",
        "print(\" Accuracy=%f \\n Precision=%f \\n Recall=%f \\n Specificity=%f \\n F1 score=%f \\n\"%(A,P,R,S,F1))"
      ],
      "execution_count": null,
      "outputs": [
        {
          "output_type": "stream",
          "text": [
            "=======F's classification train:=======\n",
            " Accuracy=77.272727 \n",
            " Precision=86.956522 \n",
            " Recall=74.074074 \n",
            " Specificity=82.352941 \n",
            " F1 score=80.000000 \n",
            "\n",
            "=======F's classification test:=========\n",
            " Accuracy=63.157895 \n",
            " Precision=65.000000 \n",
            " Recall=65.000000 \n",
            " Specificity=61.111111 \n",
            " F1 score=65.000000 \n",
            "\n"
          ],
          "name": "stdout"
        }
      ]
    },
    {
      "cell_type": "code",
      "metadata": {
        "id": "B3InRp9CD1h3"
      },
      "source": [
        "Names_X= ['DI RELATIVO','FRAC Its','Fo','CRo']\n",
        "Name_Y =['CR']  \n",
        "y=df[Name_Y]\n",
        "X=df[Names_X]   "
      ],
      "execution_count": null,
      "outputs": []
    },
    {
      "cell_type": "code",
      "metadata": {
        "id": "cjtorOG5D8cP"
      },
      "source": [
        "X_train, X_test, y_train, y_test = train_test_split(X, y, test_size=test_fraction, random_state=number_random)\n",
        "#scaler = StandardScaler() \n",
        "scaler = MinMaxScaler() \n",
        "scaler.fit(X_train) \n",
        "X_train = scaler.transform(X_train)\n",
        "X_test = scaler.transform(X_test)"
      ],
      "execution_count": null,
      "outputs": []
    },
    {
      "cell_type": "code",
      "metadata": {
        "id": "AAfaEVY0EASi",
        "colab": {
          "base_uri": "https://localhost:8080/"
        },
        "outputId": "f37c76f1-6c2d-4329-963f-0c3b7314f7d6"
      },
      "source": [
        "#model = RandomForestClassifier(max_depth=2,n_estimators=1000, random_state=101)\n",
        "#model = RandomForestClassifier(max_depth=2,n_estimators=100, random_state=101)\n",
        "model = RandomForestClassifier(max_depth=2, random_state=0)\n",
        "model.fit(X_train, y_train)"
      ],
      "execution_count": null,
      "outputs": [
        {
          "output_type": "stream",
          "text": [
            "/usr/local/lib/python3.6/dist-packages/ipykernel_launcher.py:4: DataConversionWarning: A column-vector y was passed when a 1d array was expected. Please change the shape of y to (n_samples,), for example using ravel().\n",
            "  after removing the cwd from sys.path.\n"
          ],
          "name": "stderr"
        },
        {
          "output_type": "execute_result",
          "data": {
            "text/plain": [
              "RandomForestClassifier(bootstrap=True, ccp_alpha=0.0, class_weight=None,\n",
              "                       criterion='gini', max_depth=2, max_features='auto',\n",
              "                       max_leaf_nodes=None, max_samples=None,\n",
              "                       min_impurity_decrease=0.0, min_impurity_split=None,\n",
              "                       min_samples_leaf=1, min_samples_split=2,\n",
              "                       min_weight_fraction_leaf=0.0, n_estimators=100,\n",
              "                       n_jobs=None, oob_score=False, random_state=0, verbose=0,\n",
              "                       warm_start=False)"
            ]
          },
          "metadata": {
            "tags": []
          },
          "execution_count": 18
        }
      ]
    },
    {
      "cell_type": "code",
      "metadata": {
        "id": "__QAJwfUEEYx"
      },
      "source": [
        "#Predicting new data\n",
        "predictions = model.predict(X_train)\n",
        "Mat_train = confusion_matrix(y_train,predictions)\n",
        "\n",
        "\n",
        "predictions = model.predict(X_test)\n",
        "Mat_test = confusion_matrix(y_test,predictions)"
      ],
      "execution_count": null,
      "outputs": []
    },
    {
      "cell_type": "code",
      "metadata": {
        "id": "XCDyLpuJEHED"
      },
      "source": [
        "# predictions = model.predict(X_test)\n",
        "# print(classification_report(y_test,predictions))\n",
        "# print('\\n')\n",
        "# print(confusion_matrix(y_test,predictions))"
      ],
      "execution_count": null,
      "outputs": []
    },
    {
      "cell_type": "code",
      "metadata": {
        "id": "mVjUJlKxTkIB"
      },
      "source": [
        "#predictions = model.predict(X_train)\r\n",
        "#print(classification_report(y_train,predictions))\r\n",
        "#print('\\n')\r\n",
        "#print(confusion_matrix(y_train,predictions))"
      ],
      "execution_count": null,
      "outputs": []
    },
    {
      "cell_type": "code",
      "metadata": {
        "id": "mHLHgg0AbrRs"
      },
      "source": [
        "# Mat_test.ravel()"
      ],
      "execution_count": null,
      "outputs": []
    },
    {
      "cell_type": "code",
      "metadata": {
        "id": "8cc4gV60b-Ur"
      },
      "source": [
        "# TN, FP, FN, TP =Mat_test.ravel()"
      ],
      "execution_count": null,
      "outputs": []
    },
    {
      "cell_type": "code",
      "metadata": {
        "id": "YQDzPbK5cCVL"
      },
      "source": [
        "# print(TN);print(FP);print(FN);print(TP);print(Mat_test)"
      ],
      "execution_count": null,
      "outputs": []
    },
    {
      "cell_type": "code",
      "metadata": {
        "id": "Mdz0pgg6wnq5",
        "colab": {
          "base_uri": "https://localhost:8080/"
        },
        "outputId": "179883fd-7d32-4f33-8fa1-559f6465a632"
      },
      "source": [
        "A,P,R,S,F1=Confusion(Mat_train)\n",
        "print(\"=======CR's classification train:=======\")\n",
        "print(\" Accuracy=%f \\n Precision=%f \\n Recall=%f \\n Specificity=%f \\n F1 score=%f \\n\"%(A,P,R,S,F1))\n",
        "\n",
        "\n",
        "A,P,R,S,F1=Confusion(Mat_test )\n",
        "print(\"=======CR's classification test:=========\")\n",
        "print(\" Accuracy=%f \\n Precision=%f \\n Recall=%f \\n Specificity=%f \\n F1 score=%f \\n\"%(A,P,R,S,F1))"
      ],
      "execution_count": null,
      "outputs": [
        {
          "output_type": "stream",
          "text": [
            "=======CR's classification train:=======\n",
            " Accuracy=80.681818 \n",
            " Precision=90.000000 \n",
            " Recall=73.469388 \n",
            " Specificity=89.743590 \n",
            " F1 score=80.898876 \n",
            "\n",
            "=======CR's classification test:=========\n",
            " Accuracy=63.157895 \n",
            " Precision=70.833333 \n",
            " Recall=70.833333 \n",
            " Specificity=50.000000 \n",
            " F1 score=70.833333 \n",
            "\n"
          ],
          "name": "stdout"
        }
      ]
    }
  ]
}